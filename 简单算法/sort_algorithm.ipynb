{
 "cells": [
  {
   "cell_type": "code",
   "execution_count": 11,
   "metadata": {
    "collapsed": true
   },
   "outputs": [
    {
     "name": "stdout",
     "output_type": "stream",
     "text": [
      "[2, 5, 6, 4, 3, 7, 10, 8]\n",
      "[2, 3, 6, 4, 5, 7, 10, 8]\n",
      "[2, 3, 4, 6, 5, 7, 10, 8]\n",
      "[2, 3, 4, 5, 6, 7, 10, 8]\n",
      "[2, 3, 4, 5, 6, 7, 10, 8]\n",
      "[2, 3, 4, 5, 6, 7, 10, 8]\n",
      "[2, 3, 4, 5, 6, 7, 8, 10]\n"
     ]
    }
   ],
   "source": [
    "test = [8, 5, 6, 4, 3, 7, 10, 2]\n",
    "\n",
    "# 选择排序\n",
    "def select_sort(data):\n",
    "    n = len(data)\n",
    "    for i in range(n - 1):\n",
    "        min_ = i\n",
    "        for j in range(i + 1, n):\n",
    "            if data[j] < data[min_]:\n",
    "                min_ = j\n",
    "        data[i], data[min_] = data[min_], data[i]\n",
    "        print(data)\n",
    "\n",
    "select_sort(test)"
   ]
  },
  {
   "cell_type": "code",
   "execution_count": 4,
   "outputs": [
    {
     "name": "stdout",
     "output_type": "stream",
     "text": [
      "[5, 6, 4, 3, 7, 8, 2, 10]\n",
      "[5, 4, 3, 6, 7, 2, 8, 10]\n",
      "[4, 3, 5, 6, 2, 7, 8, 10]\n",
      "[3, 4, 5, 2, 6, 7, 8, 10]\n",
      "[3, 4, 2, 5, 6, 7, 8, 10]\n",
      "[3, 2, 4, 5, 6, 7, 8, 10]\n",
      "[2, 3, 4, 5, 6, 7, 8, 10]\n",
      "[2, 3, 4, 5, 6, 7, 8, 10]\n"
     ]
    }
   ],
   "source": [
    "test = [8, 5, 6, 4, 3, 7, 10, 2]\n",
    "\n",
    "# 冒泡排序\n",
    "def bubble_sort(data):\n",
    "    n = len(data)\n",
    "    for i in range(n - 1, -1, -1):\n",
    "        for j in range(0, i):\n",
    "            if data[j] > data[j + 1]:\n",
    "                data[j], data[j + 1] = data[j + 1], data[j]\n",
    "        print(data)\n",
    "\n",
    "bubble_sort(test)"
   ],
   "metadata": {
    "collapsed": false
   }
  },
  {
   "cell_type": "code",
   "execution_count": 5,
   "outputs": [
    {
     "name": "stdout",
     "output_type": "stream",
     "text": [
      "[5, 8, 6, 4, 3, 7, 10, 2]\n",
      "[5, 6, 8, 4, 3, 7, 10, 2]\n",
      "[4, 5, 6, 8, 3, 7, 10, 2]\n",
      "[3, 4, 5, 6, 8, 7, 10, 2]\n",
      "[3, 4, 5, 6, 7, 8, 10, 2]\n",
      "[3, 4, 5, 6, 7, 8, 10, 2]\n",
      "[2, 3, 4, 5, 6, 7, 8, 10]\n"
     ]
    }
   ],
   "source": [
    "test = [8, 5, 6, 4, 3, 7, 10, 2]\n",
    "\n",
    "# 插入排序\n",
    "def insert_sort(data):\n",
    "    n = len(data)\n",
    "    for i in range(1, n):\n",
    "        x = data[i]\n",
    "        j = i - 1\n",
    "        while j >= 0:\n",
    "            if x <= data[j]:\n",
    "                data[j + 1] = data[j]\n",
    "                j -= 1\n",
    "            else:\n",
    "                break\n",
    "        data[j + 1] = x\n",
    "        print(data)\n",
    "\n",
    "insert_sort(test)"
   ],
   "metadata": {
    "collapsed": false
   }
  },
  {
   "cell_type": "code",
   "execution_count": 7,
   "outputs": [
    {
     "name": "stdout",
     "output_type": "stream",
     "text": [
      "0 1 [5, 8]\n",
      "2 3 [4, 6]\n",
      "0 3 [4, 5, 6, 8]\n",
      "4 5 [3, 7]\n",
      "6 7 [2, 10]\n",
      "4 7 [2, 3, 7, 10]\n",
      "0 7 [2, 3, 4, 5, 6, 7, 8, 10]\n"
     ]
    }
   ],
   "source": [
    "test = [8, 5, 6, 4, 3, 7, 10, 2]\n",
    "\n",
    "# 归并排序\n",
    "def merge(data, start, mid, end):\n",
    "    temp = []\n",
    "    l = start\n",
    "    r = mid + 1\n",
    "    while l <= mid and r <= end:\n",
    "        if data[l] <= data[r]:\n",
    "            temp.append(data[l])\n",
    "            l += 1\n",
    "        else:\n",
    "            temp.append(data[r])\n",
    "            r += 1\n",
    "    temp.extend(data[l:mid + 1])\n",
    "    temp.extend(data[r:end + 1])\n",
    "    for i in range(start, end + 1):\n",
    "        data[i] = temp[i - start]\n",
    "    print(start, end, temp)\n",
    "\n",
    "def merge_sort(data, start, end):\n",
    "    if start == end:\n",
    "        return\n",
    "    mid = (start + end) // 2\n",
    "    merge_sort(data, start, mid)\n",
    "    merge_sort(data, mid + 1, end)\n",
    "    merge(data, start, mid, end)\n",
    "\n",
    "merge_sort(test, 0, 7)"
   ],
   "metadata": {
    "collapsed": false
   }
  },
  {
   "cell_type": "code",
   "execution_count": 10,
   "outputs": [
    {
     "name": "stdout",
     "output_type": "stream",
     "text": [
      "[[2, 3, 4], [5, 6, 7], [8, 10]]\n",
      "[2, 3, 4, 5, 6, 7, 8, 10]\n"
     ]
    }
   ],
   "source": [
    "test = [8, 5, 6, 4, 3, 7, 10, 2]\n",
    "\n",
    "# 桶排序\n",
    "def bucket_sort(data):\n",
    "    min_ = min(data)\n",
    "    max_ = max(data)\n",
    "    bucket_count = 3\n",
    "    bucket = [[], [], []]\n",
    "    pre_bucket = (max_ - min_ + bucket_count) // bucket_count\n",
    "\n",
    "    for num in data:\n",
    "        bucket_index = (num - min_) // pre_bucket\n",
    "        bucket[bucket_index].append(num)\n",
    "\n",
    "    for i in range(bucket_count):\n",
    "        select_sort(bucket[i])\n",
    "\n",
    "    idx = 0\n",
    "    for i in range(bucket_count):\n",
    "        for v in bucket[i]:\n",
    "            data[idx] = v\n",
    "            idx += 1\n",
    "    print(bucket)\n",
    "    print(data)\n",
    "\n",
    "bucket_sort(test)"
   ],
   "metadata": {
    "collapsed": false
   }
  },
  {
   "cell_type": "code",
   "execution_count": null,
   "outputs": [],
   "source": [],
   "metadata": {
    "collapsed": false
   }
  }
 ],
 "metadata": {
  "kernelspec": {
   "display_name": "Python 3",
   "language": "python",
   "name": "python3"
  },
  "language_info": {
   "codemirror_mode": {
    "name": "ipython",
    "version": 2
   },
   "file_extension": ".py",
   "mimetype": "text/x-python",
   "name": "python",
   "nbconvert_exporter": "python",
   "pygments_lexer": "ipython2",
   "version": "2.7.6"
  }
 },
 "nbformat": 4,
 "nbformat_minor": 0
}
