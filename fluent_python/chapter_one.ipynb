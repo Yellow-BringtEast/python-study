{
 "cells": [
  {
   "cell_type": "code",
   "execution_count": 2,
   "metadata": {},
   "outputs": [],
   "source": [
    "# __getitem__ 与 __len__\n",
    "import collections\n",
    "\n",
    "# namedtuple可以构建只有少数属性，没有方法的简单类\n",
    "Card = collections.namedtuple('Card', ['rank', 'suit'])\n",
    "\n",
    "class FrenchDeck:\n",
    "    ranks = [str(n) for n in range(2, 11)] + list('JQKA')\n",
    "    suits = 'spades diamonds cluds hearts'.split()\n",
    "\n",
    "    def __init__(self):\n",
    "        self._cards = [Card(rank, suit) for rank in self.ranks\n",
    "                                        for suit in self.suits]\n",
    "\n",
    "    def __len__(self):\n",
    "        return len(self._cards)\n",
    "\n",
    "    def __getitem__(self, position):\n",
    "        return self._cards[position]"
   ]
  },
  {
   "cell_type": "code",
   "execution_count": 3,
   "metadata": {},
   "outputs": [
    {
     "data": {
      "text/plain": [
       "Card(rank='7', suit='diamods')"
      ]
     },
     "execution_count": 3,
     "metadata": {},
     "output_type": "execute_result"
    }
   ],
   "source": [
    "# 使用namedtuple可以快速得到一个Card类\n",
    "beer_card = Card('7', 'diamods')\n",
    "beer_card"
   ]
  },
  {
   "cell_type": "code",
   "execution_count": 4,
   "metadata": {},
   "outputs": [
    {
     "data": {
      "text/plain": [
       "52"
      ]
     },
     "execution_count": 4,
     "metadata": {},
     "output_type": "execute_result"
    }
   ],
   "source": [
    "# 查看FrenchDeck的长度\n",
    "deck = FrenchDeck()\n",
    "len(deck)"
   ]
  },
  {
   "cell_type": "code",
   "execution_count": 5,
   "metadata": {},
   "outputs": [
    {
     "data": {
      "text/plain": [
       "Card(rank='A', suit='hearts')"
      ]
     },
     "execution_count": 5,
     "metadata": {},
     "output_type": "execute_result"
    }
   ],
   "source": [
    "# 抽取FrenchDeck类里任意位置的牌\n",
    "deck[-1]"
   ]
  },
  {
   "cell_type": "code",
   "execution_count": 7,
   "metadata": {},
   "outputs": [
    {
     "data": {
      "text/plain": [
       "Card(rank='6', suit='spades')"
      ]
     },
     "execution_count": 7,
     "metadata": {},
     "output_type": "execute_result"
    }
   ],
   "source": [
    "# 随机抽取卡牌\n",
    "from random import choice\n",
    "choice(deck)"
   ]
  },
  {
   "cell_type": "code",
   "execution_count": 8,
   "metadata": {},
   "outputs": [
    {
     "data": {
      "text/plain": [
       "Card(rank='8', suit='diamonds')"
      ]
     },
     "execution_count": 8,
     "metadata": {},
     "output_type": "execute_result"
    }
   ],
   "source": [
    "choice(deck)"
   ]
  },
  {
   "cell_type": "code",
   "execution_count": 9,
   "metadata": {},
   "outputs": [
    {
     "data": {
      "text/plain": [
       "Card(rank='Q', suit='spades')"
      ]
     },
     "execution_count": 9,
     "metadata": {},
     "output_type": "execute_result"
    }
   ],
   "source": [
    "choice(deck)"
   ]
  },
  {
   "cell_type": "code",
   "execution_count": 10,
   "metadata": {},
   "outputs": [
    {
     "data": {
      "text/plain": [
       "[Card(rank='2', suit='spades'),\n",
       " Card(rank='2', suit='diamonds'),\n",
       " Card(rank='2', suit='cluds')]"
      ]
     },
     "execution_count": 10,
     "metadata": {},
     "output_type": "execute_result"
    }
   ],
   "source": [
    "# 由于__getitem__方法把[]操作交给了self._cards列表，所以它支持自动切片操作\n",
    "deck[:3]"
   ]
  },
  {
   "cell_type": "code",
   "execution_count": 11,
   "metadata": {},
   "outputs": [
    {
     "data": {
      "text/plain": [
       "[Card(rank='5', suit='spades'),\n",
       " Card(rank='8', suit='diamonds'),\n",
       " Card(rank='J', suit='cluds'),\n",
       " Card(rank='A', suit='hearts')]"
      ]
     },
     "execution_count": 11,
     "metadata": {},
     "output_type": "execute_result"
    }
   ],
   "source": [
    "deck[12::13]"
   ]
  },
  {
   "cell_type": "code",
   "execution_count": 12,
   "metadata": {},
   "outputs": [
    {
     "name": "stdout",
     "output_type": "stream",
     "text": [
      "Card(rank='2', suit='spades')\n",
      "Card(rank='2', suit='diamonds')\n",
      "Card(rank='2', suit='cluds')\n",
      "Card(rank='2', suit='hearts')\n",
      "Card(rank='3', suit='spades')\n",
      "Card(rank='3', suit='diamonds')\n",
      "Card(rank='3', suit='cluds')\n",
      "Card(rank='3', suit='hearts')\n",
      "Card(rank='4', suit='spades')\n",
      "Card(rank='4', suit='diamonds')\n",
      "Card(rank='4', suit='cluds')\n",
      "Card(rank='4', suit='hearts')\n",
      "Card(rank='5', suit='spades')\n",
      "Card(rank='5', suit='diamonds')\n",
      "Card(rank='5', suit='cluds')\n",
      "Card(rank='5', suit='hearts')\n",
      "Card(rank='6', suit='spades')\n",
      "Card(rank='6', suit='diamonds')\n",
      "Card(rank='6', suit='cluds')\n",
      "Card(rank='6', suit='hearts')\n",
      "Card(rank='7', suit='spades')\n",
      "Card(rank='7', suit='diamonds')\n",
      "Card(rank='7', suit='cluds')\n",
      "Card(rank='7', suit='hearts')\n",
      "Card(rank='8', suit='spades')\n",
      "Card(rank='8', suit='diamonds')\n",
      "Card(rank='8', suit='cluds')\n",
      "Card(rank='8', suit='hearts')\n",
      "Card(rank='9', suit='spades')\n",
      "Card(rank='9', suit='diamonds')\n",
      "Card(rank='9', suit='cluds')\n",
      "Card(rank='9', suit='hearts')\n",
      "Card(rank='10', suit='spades')\n",
      "Card(rank='10', suit='diamonds')\n",
      "Card(rank='10', suit='cluds')\n",
      "Card(rank='10', suit='hearts')\n",
      "Card(rank='J', suit='spades')\n",
      "Card(rank='J', suit='diamonds')\n",
      "Card(rank='J', suit='cluds')\n",
      "Card(rank='J', suit='hearts')\n",
      "Card(rank='Q', suit='spades')\n",
      "Card(rank='Q', suit='diamonds')\n",
      "Card(rank='Q', suit='cluds')\n",
      "Card(rank='Q', suit='hearts')\n",
      "Card(rank='K', suit='spades')\n",
      "Card(rank='K', suit='diamonds')\n",
      "Card(rank='K', suit='cluds')\n",
      "Card(rank='K', suit='hearts')\n",
      "Card(rank='A', suit='spades')\n",
      "Card(rank='A', suit='diamonds')\n",
      "Card(rank='A', suit='cluds')\n",
      "Card(rank='A', suit='hearts')\n"
     ]
    }
   ],
   "source": [
    "# 另外仅仅实现了__getitem__方法，这个类就变成了可迭代的\n",
    "for card in deck:\n",
    "    print(card)"
   ]
  },
  {
   "cell_type": "code",
   "execution_count": 13,
   "metadata": {},
   "outputs": [
    {
     "name": "stdout",
     "output_type": "stream",
     "text": [
      "Card(rank='A', suit='hearts')\n",
      "Card(rank='A', suit='cluds')\n",
      "Card(rank='A', suit='diamonds')\n",
      "Card(rank='A', suit='spades')\n",
      "Card(rank='K', suit='hearts')\n",
      "Card(rank='K', suit='cluds')\n",
      "Card(rank='K', suit='diamonds')\n",
      "Card(rank='K', suit='spades')\n",
      "Card(rank='Q', suit='hearts')\n",
      "Card(rank='Q', suit='cluds')\n",
      "Card(rank='Q', suit='diamonds')\n",
      "Card(rank='Q', suit='spades')\n",
      "Card(rank='J', suit='hearts')\n",
      "Card(rank='J', suit='cluds')\n",
      "Card(rank='J', suit='diamonds')\n",
      "Card(rank='J', suit='spades')\n",
      "Card(rank='10', suit='hearts')\n",
      "Card(rank='10', suit='cluds')\n",
      "Card(rank='10', suit='diamonds')\n",
      "Card(rank='10', suit='spades')\n",
      "Card(rank='9', suit='hearts')\n",
      "Card(rank='9', suit='cluds')\n",
      "Card(rank='9', suit='diamonds')\n",
      "Card(rank='9', suit='spades')\n",
      "Card(rank='8', suit='hearts')\n",
      "Card(rank='8', suit='cluds')\n",
      "Card(rank='8', suit='diamonds')\n",
      "Card(rank='8', suit='spades')\n",
      "Card(rank='7', suit='hearts')\n",
      "Card(rank='7', suit='cluds')\n",
      "Card(rank='7', suit='diamonds')\n",
      "Card(rank='7', suit='spades')\n",
      "Card(rank='6', suit='hearts')\n",
      "Card(rank='6', suit='cluds')\n",
      "Card(rank='6', suit='diamonds')\n",
      "Card(rank='6', suit='spades')\n",
      "Card(rank='5', suit='hearts')\n",
      "Card(rank='5', suit='cluds')\n",
      "Card(rank='5', suit='diamonds')\n",
      "Card(rank='5', suit='spades')\n",
      "Card(rank='4', suit='hearts')\n",
      "Card(rank='4', suit='cluds')\n",
      "Card(rank='4', suit='diamonds')\n",
      "Card(rank='4', suit='spades')\n",
      "Card(rank='3', suit='hearts')\n",
      "Card(rank='3', suit='cluds')\n",
      "Card(rank='3', suit='diamonds')\n",
      "Card(rank='3', suit='spades')\n",
      "Card(rank='2', suit='hearts')\n",
      "Card(rank='2', suit='cluds')\n",
      "Card(rank='2', suit='diamonds')\n",
      "Card(rank='2', suit='spades')\n"
     ]
    }
   ],
   "source": [
    "# 还可以反向迭代\n",
    "for card in reversed(deck):\n",
    "    print(card)"
   ]
  },
  {
   "cell_type": "code",
   "execution_count": 15,
   "metadata": {},
   "outputs": [
    {
     "data": {
      "text/plain": [
       "True"
      ]
     },
     "execution_count": 15,
     "metadata": {},
     "output_type": "execute_result"
    }
   ],
   "source": [
    "# in运算符同样可以在这个类上使用\n",
    "# 迭代通常是隐式的，如果一个类没有实现__contains__方法，那么in运算符会按顺序执行一次迭代搜索\n",
    "Card('Q', 'hearts') in deck"
   ]
  },
  {
   "cell_type": "code",
   "execution_count": 16,
   "metadata": {},
   "outputs": [
    {
     "data": {
      "text/plain": [
       "False"
      ]
     },
     "execution_count": 16,
     "metadata": {},
     "output_type": "execute_result"
    }
   ],
   "source": [
    "Card('Q', 'heart') in deck"
   ]
  },
  {
   "cell_type": "code",
   "execution_count": 17,
   "metadata": {},
   "outputs": [],
   "source": [
    "# 模拟数值类型 \n",
    "from math import hypot\n",
    "\n",
    "class Vector:\n",
    "    def __init__(self, x, y):\n",
    "        self.x = x\n",
    "        self.y = y\n",
    "\n",
    "    def __repr__(self):\n",
    "        return \"Vector(%r, %r)\" % (self.x, self.y)\n",
    "\n",
    "    def __abs__(self):\n",
    "        return hypot(self.x, self.y)\n",
    "\n",
    "    def __add__(self, other):\n",
    "        x = self.x + other.x\n",
    "        y = self.y + other.y\n",
    "        return Vector(x, y)\n",
    "\n",
    "    def __mul__(self, scalar):\n",
    "        return Vector(self.x * scalar, self.y * scalar)\n"
   ]
  },
  {
   "cell_type": "code",
   "execution_count": 18,
   "metadata": {},
   "outputs": [
    {
     "data": {
      "text/plain": [
       "Vector(3, 7)"
      ]
     },
     "execution_count": 18,
     "metadata": {},
     "output_type": "execute_result"
    }
   ],
   "source": [
    "v1 = Vector(2, 4)\n",
    "v2 = Vector(1, 3)\n",
    "v1 + v2"
   ]
  },
  {
   "cell_type": "code",
   "execution_count": 19,
   "metadata": {},
   "outputs": [
    {
     "data": {
      "text/plain": [
       "3.1622776601683795"
      ]
     },
     "execution_count": 19,
     "metadata": {},
     "output_type": "execute_result"
    }
   ],
   "source": [
    "abs(v2)"
   ]
  },
  {
   "cell_type": "code",
   "execution_count": 21,
   "metadata": {},
   "outputs": [
    {
     "data": {
      "text/plain": [
       "Vector(6, 12)"
      ]
     },
     "execution_count": 21,
     "metadata": {},
     "output_type": "execute_result"
    }
   ],
   "source": [
    "v1 * 3"
   ]
  },
  {
   "cell_type": "code",
   "execution_count": null,
   "metadata": {},
   "outputs": [],
   "source": []
  }
 ],
 "metadata": {
  "interpreter": {
   "hash": "6fff98fc3b3d81bd655c2cc48858186e4d9e2db7b515bf1c3221888f12a62f87"
  },
  "kernelspec": {
   "display_name": "Python 3.9.6 64-bit",
   "language": "python",
   "name": "python3"
  },
  "language_info": {
   "codemirror_mode": {
    "name": "ipython",
    "version": 3
   },
   "file_extension": ".py",
   "mimetype": "text/x-python",
   "name": "python",
   "nbconvert_exporter": "python",
   "pygments_lexer": "ipython3",
   "version": "3.9.6"
  },
  "orig_nbformat": 4
 },
 "nbformat": 4,
 "nbformat_minor": 2
}
