{
 "cells": [
  {
   "cell_type": "code",
   "execution_count": 2,
   "metadata": {},
   "outputs": [],
   "source": [
    "# __getitem__ 与 __len__\n",
    "import collections\n",
    "\n",
    "# namedtuple可以构建只有少数属性，没有方法的简单类\n",
    "Card = collections.namedtuple('Card', ['rank', 'suit'])\n",
    "\n",
    "class FrenchDeck:\n",
    "    ranks = [str(n) for n in range(2, 11)] + list('JQKA')\n",
    "    suits = 'spades diamonds cluds hearts'.split()\n",
    "\n",
    "    def __init__(self):\n",
    "        self._cards = [Card(rank, suit) for rank in self.ranks\n",
    "                                        for suit in self.suits]\n",
    "\n",
    "    def __len__(self):\n",
    "        return len(self._cards)\n",
    "\n",
    "    def __getitem__(self, position):\n",
    "        return self._cards[position]"
   ]
  },
  {
   "cell_type": "code",
   "execution_count": 3,
   "metadata": {},
   "outputs": [
    {
     "data": {
      "text/plain": [
       "Card(rank='7', suit='diamods')"
      ]
     },
     "execution_count": 3,
     "metadata": {},
     "output_type": "execute_result"
    }
   ],
   "source": [
    "# 使用namedtuple可以快速得到一个Card类\n",
    "beer_card = Card('7', 'diamods')\n",
    "beer_card"
   ]
  },
  {
   "cell_type": "code",
   "execution_count": 4,
   "metadata": {},
   "outputs": [
    {
     "data": {
      "text/plain": [
       "52"
      ]
     },
     "execution_count": 4,
     "metadata": {},
     "output_type": "execute_result"
    }
   ],
   "source": [
    "# 查看FrenchDeck的长度\n",
    "deck = FrenchDeck()\n",
    "len(deck)"
   ]
  },
  {
   "cell_type": "code",
   "execution_count": 5,
   "metadata": {},
   "outputs": [
    {
     "data": {
      "text/plain": [
       "Card(rank='A', suit='hearts')"
      ]
     },
     "execution_count": 5,
     "metadata": {},
     "output_type": "execute_result"
    }
   ],
   "source": [
    "# 抽取FrenchDeck类里任意位置的牌\n",
    "deck[-1]"
   ]
  },
  {
   "cell_type": "code",
   "execution_count": 7,
   "metadata": {},
   "outputs": [
    {
     "data": {
      "text/plain": [
       "Card(rank='6', suit='spades')"
      ]
     },
     "execution_count": 7,
     "metadata": {},
     "output_type": "execute_result"
    }
   ],
   "source": [
    "# 随机抽取卡牌\n",
    "from random import choice\n",
    "choice(deck)"
   ]
  },
  {
   "cell_type": "code",
   "execution_count": 8,
   "metadata": {},
   "outputs": [
    {
     "data": {
      "text/plain": [
       "Card(rank='8', suit='diamonds')"
      ]
     },
     "execution_count": 8,
     "metadata": {},
     "output_type": "execute_result"
    }
   ],
   "source": [
    "choice(deck)"
   ]
  },
  {
   "cell_type": "code",
   "execution_count": 9,
   "metadata": {},
   "outputs": [
    {
     "data": {
      "text/plain": [
       "Card(rank='Q', suit='spades')"
      ]
     },
     "execution_count": 9,
     "metadata": {},
     "output_type": "execute_result"
    }
   ],
   "source": [
    "choice(deck)"
   ]
  },
  {
   "cell_type": "code",
   "execution_count": 10,
   "metadata": {},
   "outputs": [
    {
     "data": {
      "text/plain": [
       "[Card(rank='2', suit='spades'),\n",
       " Card(rank='2', suit='diamonds'),\n",
       " Card(rank='2', suit='cluds')]"
      ]
     },
     "execution_count": 10,
     "metadata": {},
     "output_type": "execute_result"
    }
   ],
   "source": [
    "# 由于__getitem__方法把[]操作交给了self._cards列表，所以它支持自动切片操作\n",
    "deck[:3]"
   ]
  },
  {
   "cell_type": "code",
   "execution_count": 11,
   "metadata": {},
   "outputs": [
    {
     "data": {
      "text/plain": [
       "[Card(rank='5', suit='spades'),\n",
       " Card(rank='8', suit='diamonds'),\n",
       " Card(rank='J', suit='cluds'),\n",
       " Card(rank='A', suit='hearts')]"
      ]
     },
     "execution_count": 11,
     "metadata": {},
     "output_type": "execute_result"
    }
   ],
   "source": [
    "deck[12::13]"
   ]
  },
  {
   "cell_type": "code",
   "execution_count": 12,
   "metadata": {},
   "outputs": [
    {
     "name": "stdout",
     "output_type": "stream",
     "text": [
      "Card(rank='2', suit='spades')\n",
      "Card(rank='2', suit='diamonds')\n",
      "Card(rank='2', suit='cluds')\n",
      "Card(rank='2', suit='hearts')\n",
      "Card(rank='3', suit='spades')\n",
      "Card(rank='3', suit='diamonds')\n",
      "Card(rank='3', suit='cluds')\n",
      "Card(rank='3', suit='hearts')\n",
      "Card(rank='4', suit='spades')\n",
      "Card(rank='4', suit='diamonds')\n",
      "Card(rank='4', suit='cluds')\n",
      "Card(rank='4', suit='hearts')\n",
      "Card(rank='5', suit='spades')\n",
      "Card(rank='5', suit='diamonds')\n",
      "Card(rank='5', suit='cluds')\n",
      "Card(rank='5', suit='hearts')\n",
      "Card(rank='6', suit='spades')\n",
      "Card(rank='6', suit='diamonds')\n",
      "Card(rank='6', suit='cluds')\n",
      "Card(rank='6', suit='hearts')\n",
      "Card(rank='7', suit='spades')\n",
      "Card(rank='7', suit='diamonds')\n",
      "Card(rank='7', suit='cluds')\n",
      "Card(rank='7', suit='hearts')\n",
      "Card(rank='8', suit='spades')\n",
      "Card(rank='8', suit='diamonds')\n",
      "Card(rank='8', suit='cluds')\n",
      "Card(rank='8', suit='hearts')\n",
      "Card(rank='9', suit='spades')\n",
      "Card(rank='9', suit='diamonds')\n",
      "Card(rank='9', suit='cluds')\n",
      "Card(rank='9', suit='hearts')\n",
      "Card(rank='10', suit='spades')\n",
      "Card(rank='10', suit='diamonds')\n",
      "Card(rank='10', suit='cluds')\n",
      "Card(rank='10', suit='hearts')\n",
      "Card(rank='J', suit='spades')\n",
      "Card(rank='J', suit='diamonds')\n",
      "Card(rank='J', suit='cluds')\n",
      "Card(rank='J', suit='hearts')\n",
      "Card(rank='Q', suit='spades')\n",
      "Card(rank='Q', suit='diamonds')\n",
      "Card(rank='Q', suit='cluds')\n",
      "Card(rank='Q', suit='hearts')\n",
      "Card(rank='K', suit='spades')\n",
      "Card(rank='K', suit='diamonds')\n",
      "Card(rank='K', suit='cluds')\n",
      "Card(rank='K', suit='hearts')\n",
      "Card(rank='A', suit='spades')\n",
      "Card(rank='A', suit='diamonds')\n",
      "Card(rank='A', suit='cluds')\n",
      "Card(rank='A', suit='hearts')\n"
     ]
    }
   ],
   "source": [
    "# 另外仅仅实现了__getitem__方法，这个类就变成了可迭代的\n",
    "for card in deck:\n",
    "    print(card)"
   ]
  },
  {
   "cell_type": "code",
   "execution_count": 13,
   "metadata": {},
   "outputs": [
    {
     "name": "stdout",
     "output_type": "stream",
     "text": [
      "Card(rank='A', suit='hearts')\n",
      "Card(rank='A', suit='cluds')\n",
      "Card(rank='A', suit='diamonds')\n",
      "Card(rank='A', suit='spades')\n",
      "Card(rank='K', suit='hearts')\n",
      "Card(rank='K', suit='cluds')\n",
      "Card(rank='K', suit='diamonds')\n",
      "Card(rank='K', suit='spades')\n",
      "Card(rank='Q', suit='hearts')\n",
      "Card(rank='Q', suit='cluds')\n",
      "Card(rank='Q', suit='diamonds')\n",
      "Card(rank='Q', suit='spades')\n",
      "Card(rank='J', suit='hearts')\n",
      "Card(rank='J', suit='cluds')\n",
      "Card(rank='J', suit='diamonds')\n",
      "Card(rank='J', suit='spades')\n",
      "Card(rank='10', suit='hearts')\n",
      "Card(rank='10', suit='cluds')\n",
      "Card(rank='10', suit='diamonds')\n",
      "Card(rank='10', suit='spades')\n",
      "Card(rank='9', suit='hearts')\n",
      "Card(rank='9', suit='cluds')\n",
      "Card(rank='9', suit='diamonds')\n",
      "Card(rank='9', suit='spades')\n",
      "Card(rank='8', suit='hearts')\n",
      "Card(rank='8', suit='cluds')\n",
      "Card(rank='8', suit='diamonds')\n",
      "Card(rank='8', suit='spades')\n",
      "Card(rank='7', suit='hearts')\n",
      "Card(rank='7', suit='cluds')\n",
      "Card(rank='7', suit='diamonds')\n",
      "Card(rank='7', suit='spades')\n",
      "Card(rank='6', suit='hearts')\n",
      "Card(rank='6', suit='cluds')\n",
      "Card(rank='6', suit='diamonds')\n",
      "Card(rank='6', suit='spades')\n",
      "Card(rank='5', suit='hearts')\n",
      "Card(rank='5', suit='cluds')\n",
      "Card(rank='5', suit='diamonds')\n",
      "Card(rank='5', suit='spades')\n",
      "Card(rank='4', suit='hearts')\n",
      "Card(rank='4', suit='cluds')\n",
      "Card(rank='4', suit='diamonds')\n",
      "Card(rank='4', suit='spades')\n",
      "Card(rank='3', suit='hearts')\n",
      "Card(rank='3', suit='cluds')\n",
      "Card(rank='3', suit='diamonds')\n",
      "Card(rank='3', suit='spades')\n",
      "Card(rank='2', suit='hearts')\n",
      "Card(rank='2', suit='cluds')\n",
      "Card(rank='2', suit='diamonds')\n",
      "Card(rank='2', suit='spades')\n"
     ]
    }
   ],
   "source": [
    "# 还可以反向迭代\n",
    "for card in reversed(deck):\n",
    "    print(card)"
   ]
  },
  {
   "cell_type": "code",
   "execution_count": 15,
   "metadata": {},
   "outputs": [
    {
     "data": {
      "text/plain": [
       "True"
      ]
     },
     "execution_count": 15,
     "metadata": {},
     "output_type": "execute_result"
    }
   ],
   "source": [
    "# in运算符同样可以在这个类上使用\n",
    "# 迭代通常是隐式的，如果一个类没有实现__contains__方法，那么in运算符会按顺序执行一次迭代搜索\n",
    "Card('Q', 'hearts') in deck"
   ]
  },
  {
   "cell_type": "code",
   "execution_count": 16,
   "metadata": {},
   "outputs": [
    {
     "data": {
      "text/plain": [
       "False"
      ]
     },
     "execution_count": 16,
     "metadata": {},
     "output_type": "execute_result"
    }
   ],
   "source": [
    "Card('Q', 'heart') in deck"
   ]
  },
  {
   "cell_type": "code",
   "execution_count": 17,
   "metadata": {},
   "outputs": [],
   "source": [
    "# 模拟数值类型 \n",
    "from math import hypot\n",
    "\n",
    "class Vector:\n",
    "    def __init__(self, x, y):\n",
    "        self.x = x\n",
    "        self.y = y\n",
    "\n",
    "    # 字符串表示形式 __repr__\n",
    "    # 一个对象如果没有__str__，而python又需要调用它时，解释器会用__repr__作为替代\n",
    "    def __repr__(self):\n",
    "        return \"Vector(%r, %r)\" % (self.x, self.y)\n",
    "\n",
    "    def __abs__(self):\n",
    "        return hypot(self.x, self.y)\n",
    "    \n",
    "    # 默认情况下，自定义的类的实例总被认为是真的\n",
    "    # 除非这个类对__bool__或者__len__函数有自己的实现\n",
    "    # bool(x)的背后调用x.__bool__()的结果；如果不存在__bool__方法，那么bool(x)会尝试调用x.__len__()\n",
    "    # 若返回0，则bool返回False，否则返回True\n",
    "    def __bool__(self):\n",
    "        return bool(abs(self))\n",
    "\n",
    "    def __add__(self, other):\n",
    "        x = self.x + other.x\n",
    "        y = self.y + other.y\n",
    "        return Vector(x, y)\n",
    "\n",
    "    def __mul__(self, scalar):\n",
    "        return Vector(self.x * scalar, self.y * scalar)\n"
   ]
  },
  {
   "cell_type": "code",
   "execution_count": 18,
   "metadata": {},
   "outputs": [
    {
     "data": {
      "text/plain": [
       "Vector(3, 7)"
      ]
     },
     "execution_count": 18,
     "metadata": {},
     "output_type": "execute_result"
    }
   ],
   "source": [
    "v1 = Vector(2, 4)\n",
    "v2 = Vector(1, 3)\n",
    "v1 + v2"
   ]
  },
  {
   "cell_type": "code",
   "execution_count": 19,
   "metadata": {},
   "outputs": [
    {
     "data": {
      "text/plain": [
       "3.1622776601683795"
      ]
     },
     "execution_count": 19,
     "metadata": {},
     "output_type": "execute_result"
    }
   ],
   "source": [
    "abs(v2)"
   ]
  },
  {
   "cell_type": "code",
   "execution_count": 21,
   "metadata": {},
   "outputs": [
    {
     "data": {
      "text/plain": [
       "Vector(6, 12)"
      ]
     },
     "execution_count": 21,
     "metadata": {},
     "output_type": "execute_result"
    }
   ],
   "source": [
    "v1 * 3"
   ]
  },
  {
   "cell_type": "code",
   "execution_count": 1,
   "metadata": {},
   "outputs": [],
   "source": [
    "\n",
    "# 序列构成的数组\n",
    "# 容器序列：list、tuple、collections.deque - 存放的是它们所包含的任意类型的对象的引用\n",
    "# 扁平序列：str、bytes、bytearray、memoryview、array.array - 存放的是值而不是引用，实质上是一段连续的内存\n",
    "# 可变序列：list、collections.deque、bytearray、array.array、memoryview\n",
    "# 不可变序列：str、tuple、bytes"
   ]
  },
  {
   "cell_type": "code",
   "execution_count": 2,
   "metadata": {},
   "outputs": [
    {
     "data": {
      "text/plain": [
       "[35, 36, 37, 94, 38]"
      ]
     },
     "execution_count": 2,
     "metadata": {},
     "output_type": "execute_result"
    }
   ],
   "source": [
    "# 列表推导式 - list comprehension\n",
    "# 通常的原则：只用列表推导式创建新的列表，并尽量保持简短\n",
    "symbols = \"#$%^&\"\n",
    "code = []\n",
    "\n",
    "for symbol in symbols:\n",
    "    code.append(ord(symbol))\n",
    "\n",
    "code"
   ]
  },
  {
   "cell_type": "code",
   "execution_count": 3,
   "metadata": {},
   "outputs": [
    {
     "data": {
      "text/plain": [
       "[35, 36, 37, 94, 38]"
      ]
     },
     "execution_count": 3,
     "metadata": {},
     "output_type": "execute_result"
    }
   ],
   "source": [
    "code = [ord(symbol) for symbol in symbols]\n",
    "\n",
    "code"
   ]
  },
  {
   "cell_type": "code",
   "execution_count": 5,
   "metadata": {},
   "outputs": [
    {
     "data": {
      "text/plain": [
       "[94, 42]"
      ]
     },
     "execution_count": 5,
     "metadata": {},
     "output_type": "execute_result"
    }
   ],
   "source": [
    "# list comprehension 与 filter/map\n",
    "symbols = \"#$%^*!\"\n",
    "ascii_list = [ord(x) for x in symbols if ord(x) > 37]\n",
    "\n",
    "ascii_list"
   ]
  },
  {
   "cell_type": "code",
   "execution_count": 7,
   "metadata": {},
   "outputs": [
    {
     "data": {
      "text/plain": [
       "[94, 42]"
      ]
     },
     "execution_count": 7,
     "metadata": {},
     "output_type": "execute_result"
    }
   ],
   "source": [
    "ascii_list = list(filter(lambda x: x > 37, map(ord, symbols)))\n",
    "\n",
    "ascii_list"
   ]
  },
  {
   "cell_type": "code",
   "execution_count": 8,
   "metadata": {},
   "outputs": [
    {
     "data": {
      "text/plain": [
       "[('white', 'S'),\n",
       " ('white', 'M'),\n",
       " ('white', 'L'),\n",
       " ('black', 'S'),\n",
       " ('black', 'M'),\n",
       " ('black', 'L')]"
      ]
     },
     "execution_count": 8,
     "metadata": {},
     "output_type": "execute_result"
    }
   ],
   "source": [
    "# 使用列表推导计算笛卡尔积\n",
    "colors = ['white', 'black']\n",
    "sizes = ['S', 'M', 'L']\n",
    "\n",
    "tshirts = [(color, size) for color in colors for size in sizes]\n",
    "\n",
    "tshirts"
   ]
  },
  {
   "cell_type": "code",
   "execution_count": 9,
   "metadata": {},
   "outputs": [
    {
     "name": "stdout",
     "output_type": "stream",
     "text": [
      "white S\n",
      "white M\n",
      "white L\n",
      "black S\n",
      "black M\n",
      "black L\n"
     ]
    }
   ],
   "source": [
    "# 生成器表达式：遵从迭代器协议，可以逐个地产出元素，而不是先建立一个完整的列表\n",
    "# 再把这个列表传递到某个构造函数里，可以节省更多的内存\n",
    "# 使用生成器表达式计算笛卡尔积\n",
    "colors = ['white', 'black']\n",
    "sizes = ['S', 'M', 'L']\n",
    "\n",
    "for i in ('%s %s' % (color, size) for color in colors for size in sizes):\n",
    "    print(i)"
   ]
  },
  {
   "cell_type": "code",
   "execution_count": 1,
   "metadata": {},
   "outputs": [
    {
     "name": "stdout",
     "output_type": "stream",
     "text": [
      "BRA/CE342567\n",
      "ESP/XDA205856\n",
      "USA/31195855\n",
      "USA\n",
      "BRA\n",
      "ESP\n"
     ]
    }
   ],
   "source": [
    "# tuple - 不仅仅是不可变的列表，还可以用于没有字段名的记录\n",
    "# 可以通过元素及其位置来记录更多的东西\n",
    "lax_coordinates = (33.9425, -118.405056)  # 经纬度\n",
    "city, year, pop, chg, area = ('Tokyo', 2003, 32450, 0.66, 8014) # 元组拆包\n",
    "traveler_ids = [('USA', '31195855'), ('BRA', 'CE342567'), ('ESP', 'XDA205856')]\n",
    "\n",
    "for passort in sorted(traveler_ids):\n",
    "    # %格式运算符能被匹配到对应的元组元素上\n",
    "    print('%s/%s' % (passort)) \n",
    "\n",
    "# 元组拆包\n",
    "for country, _ in traveler_ids:\n",
    "    print(country)"
   ]
  },
  {
   "cell_type": "code",
   "execution_count": 2,
   "metadata": {},
   "outputs": [
    {
     "data": {
      "text/plain": [
       "(2, 4)"
      ]
     },
     "execution_count": 2,
     "metadata": {},
     "output_type": "execute_result"
    }
   ],
   "source": [
    "# 还可以使用*运算符把一个可迭代对象拆开作为函数的参数\n",
    "divmod(20, 8)"
   ]
  },
  {
   "cell_type": "code",
   "execution_count": 3,
   "metadata": {},
   "outputs": [
    {
     "data": {
      "text/plain": [
       "(2, 4)"
      ]
     },
     "execution_count": 3,
     "metadata": {},
     "output_type": "execute_result"
    }
   ],
   "source": [
    "t = (20, 8)\n",
    "divmod(*t)"
   ]
  },
  {
   "cell_type": "code",
   "execution_count": 5,
   "metadata": {},
   "outputs": [
    {
     "data": {
      "text/plain": [
       "(0, 1, [2, 3, 4])"
      ]
     },
     "execution_count": 5,
     "metadata": {},
     "output_type": "execute_result"
    }
   ],
   "source": [
    "# 在python中，函数用*args来获取不确定数量的参数算是一种经典写法\n",
    "# 这一概念也被扩展到平行赋值中了\n",
    "a, b, *rest  = range(5)\n",
    "a, b, rest"
   ]
  },
  {
   "cell_type": "code",
   "execution_count": 6,
   "metadata": {},
   "outputs": [
    {
     "data": {
      "text/plain": [
       "(0, [1, 2], 3, 4)"
      ]
     },
     "execution_count": 6,
     "metadata": {},
     "output_type": "execute_result"
    }
   ],
   "source": [
    "# *运算符只能跟在一个变量后面，但这个变量可以出现在任何位置\n",
    "a, *rest, b, c = range(5)\n",
    "a, rest, b, c"
   ]
  },
  {
   "cell_type": "code",
   "execution_count": 7,
   "metadata": {},
   "outputs": [
    {
     "data": {
      "text/plain": [
       "City(name='Tokyo', contry='JP', population=36.933, coordinates=(35.68, 139.69))"
      ]
     },
     "execution_count": 7,
     "metadata": {},
     "output_type": "execute_result"
    }
   ],
   "source": [
    "# 具名元组\n",
    "# 使用collections.namedtuple可以创建一个带字段名的元组和一个有名称的类\n",
    "# namedtuple需要传入2个参数，一个是类名，一个是这个类的字段名称\n",
    "# 后者可以是由数个字符串组成的可迭代对象，或者由空格隔开的字段名组成的字符串\n",
    "from collections import namedtuple\n",
    "\n",
    "City = namedtuple('City', 'name contry population coordinates')\n",
    "tokyo = City('Tokyo', 'JP', 36.933, (35.68, 139.69))\n",
    "tokyo"
   ]
  },
  {
   "cell_type": "code",
   "execution_count": 8,
   "metadata": {},
   "outputs": [
    {
     "data": {
      "text/plain": [
       "('Tokyo', 'JP')"
      ]
     },
     "execution_count": 8,
     "metadata": {},
     "output_type": "execute_result"
    }
   ],
   "source": [
    "tokyo.name, tokyo.contry"
   ]
  },
  {
   "cell_type": "code",
   "execution_count": 9,
   "metadata": {},
   "outputs": [
    {
     "data": {
      "text/plain": [
       "'JP'"
      ]
     },
     "execution_count": 9,
     "metadata": {},
     "output_type": "execute_result"
    }
   ],
   "source": [
    "tokyo[1]"
   ]
  },
  {
   "cell_type": "code",
   "execution_count": 10,
   "metadata": {},
   "outputs": [
    {
     "data": {
      "text/plain": [
       "('name', 'contry', 'population', 'coordinates')"
      ]
     },
     "execution_count": 10,
     "metadata": {},
     "output_type": "execute_result"
    }
   ],
   "source": [
    "# 具名元组专有属性\n",
    "# _fields类属性 - 包含这个类所有字段名称的元组\n",
    "tokyo._fields"
   ]
  },
  {
   "cell_type": "code",
   "execution_count": 11,
   "metadata": {},
   "outputs": [
    {
     "data": {
      "text/plain": [
       "{'name': 'Tokyo',\n",
       " 'contry': 'JP',\n",
       " 'population': 36.933,\n",
       " 'coordinates': (35.68, 139.69)}"
      ]
     },
     "execution_count": 11,
     "metadata": {},
     "output_type": "execute_result"
    }
   ],
   "source": [
    "# _asdict - 把具名元组以collections.OrderedDict的形式返回\n",
    "tokyo._asdict()"
   ]
  },
  {
   "cell_type": "code",
   "execution_count": 12,
   "metadata": {},
   "outputs": [
    {
     "name": "stdout",
     "output_type": "stream",
     "text": [
      "name :  Tokyo\n",
      "contry :  JP\n",
      "population :  36.933\n",
      "coordinates :  (35.68, 139.69)\n"
     ]
    }
   ],
   "source": [
    "for key, value in tokyo._asdict().items():\n",
    "    print(key, ': ', value)"
   ]
  },
  {
   "cell_type": "code",
   "execution_count": 13,
   "metadata": {},
   "outputs": [
    {
     "data": {
      "text/plain": [
       "2710795763072"
      ]
     },
     "execution_count": 13,
     "metadata": {},
     "output_type": "execute_result"
    }
   ],
   "source": [
    "# 序列的增量赋值\n",
    "# += 调用__iadd__方法，*= 调用__imul__方法\n",
    "# 两者在操作可变对象时，会直接在原来对象上进行改变 - 浅拷贝\n",
    "# 操作不可变对象时，会生成新的不可变对象 - 深拷贝\n",
    "l = [1, 2, 3]\n",
    "id(l)\n"
   ]
  },
  {
   "cell_type": "code",
   "execution_count": 14,
   "metadata": {},
   "outputs": [
    {
     "data": {
      "text/plain": [
       "[1, 2, 3, 1, 2, 3]"
      ]
     },
     "execution_count": 14,
     "metadata": {},
     "output_type": "execute_result"
    }
   ],
   "source": [
    "l *= 2\n",
    "l"
   ]
  },
  {
   "cell_type": "code",
   "execution_count": 15,
   "metadata": {},
   "outputs": [
    {
     "data": {
      "text/plain": [
       "2710795763072"
      ]
     },
     "execution_count": 15,
     "metadata": {},
     "output_type": "execute_result"
    }
   ],
   "source": [
    "id(l)"
   ]
  },
  {
   "cell_type": "code",
   "execution_count": 16,
   "metadata": {},
   "outputs": [
    {
     "data": {
      "text/plain": [
       "2710795661376"
      ]
     },
     "execution_count": 16,
     "metadata": {},
     "output_type": "execute_result"
    }
   ],
   "source": [
    "t = (1, 2, 3)\n",
    "id(t)"
   ]
  },
  {
   "cell_type": "code",
   "execution_count": 17,
   "metadata": {},
   "outputs": [
    {
     "data": {
      "text/plain": [
       "(1, 2, 3, 1, 2, 3)"
      ]
     },
     "execution_count": 17,
     "metadata": {},
     "output_type": "execute_result"
    }
   ],
   "source": [
    "t *= 2\n",
    "t"
   ]
  },
  {
   "cell_type": "code",
   "execution_count": 18,
   "metadata": {},
   "outputs": [
    {
     "data": {
      "text/plain": [
       "2710782438656"
      ]
     },
     "execution_count": 18,
     "metadata": {},
     "output_type": "execute_result"
    }
   ],
   "source": [
    "id(t)"
   ]
  },
  {
   "cell_type": "code",
   "execution_count": 19,
   "metadata": {},
   "outputs": [
    {
     "ename": "TypeError",
     "evalue": "'tuple' object does not support item assignment",
     "output_type": "error",
     "traceback": [
      "\u001b[1;31m---------------------------------------------------------------------------\u001b[0m",
      "\u001b[1;31mTypeError\u001b[0m                                 Traceback (most recent call last)",
      "\u001b[1;32mC:\\Users\\ADMINI~1\\AppData\\Local\\Temp/ipykernel_6952/377578390.py\u001b[0m in \u001b[0;36m<module>\u001b[1;34m\u001b[0m\n\u001b[0;32m      1\u001b[0m \u001b[1;31m# 一个关于+=的谜题\u001b[0m\u001b[1;33m\u001b[0m\u001b[1;33m\u001b[0m\u001b[1;33m\u001b[0m\u001b[0m\n\u001b[0;32m      2\u001b[0m \u001b[0mt\u001b[0m \u001b[1;33m=\u001b[0m \u001b[1;33m(\u001b[0m\u001b[1;36m1\u001b[0m\u001b[1;33m,\u001b[0m \u001b[1;36m2\u001b[0m\u001b[1;33m,\u001b[0m \u001b[1;33m[\u001b[0m\u001b[1;36m20\u001b[0m\u001b[1;33m,\u001b[0m \u001b[1;36m30\u001b[0m\u001b[1;33m]\u001b[0m\u001b[1;33m)\u001b[0m\u001b[1;33m\u001b[0m\u001b[1;33m\u001b[0m\u001b[0m\n\u001b[1;32m----> 3\u001b[1;33m \u001b[0mt\u001b[0m\u001b[1;33m[\u001b[0m\u001b[1;36m2\u001b[0m\u001b[1;33m]\u001b[0m \u001b[1;33m+=\u001b[0m \u001b[1;33m[\u001b[0m\u001b[1;36m40\u001b[0m\u001b[1;33m,\u001b[0m \u001b[1;36m50\u001b[0m\u001b[1;33m]\u001b[0m\u001b[1;33m\u001b[0m\u001b[1;33m\u001b[0m\u001b[0m\n\u001b[0m",
      "\u001b[1;31mTypeError\u001b[0m: 'tuple' object does not support item assignment"
     ]
    }
   ],
   "source": [
    "# 一个关于+=的谜题\n",
    "t = (1, 2, [20, 30])\n",
    "t[2] += [40, 50]"
   ]
  },
  {
   "cell_type": "code",
   "execution_count": 20,
   "metadata": {},
   "outputs": [
    {
     "data": {
      "text/plain": [
       "(1, 2, [20, 30, 40, 50])"
      ]
     },
     "execution_count": 20,
     "metadata": {},
     "output_type": "execute_result"
    }
   ],
   "source": [
    "# 尽管抛出了异常，但t[2]仍被改变了\n",
    "# 因此：\n",
    "# 1. 不要把可变对象放在元组中\n",
    "# 2. 增量赋值不是一个原子操作\n",
    "# 3. 多查看python字节码\n",
    "t"
   ]
  },
  {
   "cell_type": "code",
   "execution_count": 21,
   "metadata": {},
   "outputs": [
    {
     "data": {
      "text/plain": [
       "['apple', 'banana', 'grape', 'raspberry']"
      ]
     },
     "execution_count": 21,
     "metadata": {},
     "output_type": "execute_result"
    }
   ],
   "source": [
    "# list.sort() 与 sorted()\n",
    "# list.sort是就地排序，不会产生一个新的列表\n",
    "# sorted()会生成一个新的列表\n",
    "# 两者均有2个可选的关键字参数 - reverse 及 key\n",
    "fruits = ['apple', 'grape', 'banana', 'raspberry']\n",
    "sorted(fruits) "
   ]
  },
  {
   "cell_type": "code",
   "execution_count": 22,
   "metadata": {},
   "outputs": [
    {
     "data": {
      "text/plain": [
       "['apple', 'grape', 'banana', 'raspberry']"
      ]
     },
     "execution_count": 22,
     "metadata": {},
     "output_type": "execute_result"
    }
   ],
   "source": [
    "# 新建了一个按字母排序的列表，原列表没有发生变化\n",
    "fruits"
   ]
  },
  {
   "cell_type": "code",
   "execution_count": 23,
   "metadata": {},
   "outputs": [
    {
     "data": {
      "text/plain": [
       "['raspberry', 'grape', 'banana', 'apple']"
      ]
     },
     "execution_count": 23,
     "metadata": {},
     "output_type": "execute_result"
    }
   ],
   "source": [
    "# 按字母降序\n",
    "sorted(fruits, reverse=True)"
   ]
  },
  {
   "cell_type": "code",
   "execution_count": 25,
   "metadata": {},
   "outputs": [
    {
     "data": {
      "text/plain": [
       "['apple', 'grape', 'banana', 'raspberry']"
      ]
     },
     "execution_count": 25,
     "metadata": {},
     "output_type": "execute_result"
    }
   ],
   "source": [
    "# 按长度排序\n",
    "sorted(fruits, key=len)"
   ]
  },
  {
   "cell_type": "code",
   "execution_count": 26,
   "metadata": {},
   "outputs": [
    {
     "data": {
      "text/plain": [
       "['apple', 'banana', 'grape', 'raspberry']"
      ]
     },
     "execution_count": 26,
     "metadata": {},
     "output_type": "execute_result"
    }
   ],
   "source": [
    "# fruits 自身被排序\n",
    "fruits.sort()\n",
    "fruits"
   ]
  },
  {
   "cell_type": "code",
   "execution_count": 29,
   "metadata": {},
   "outputs": [
    {
     "name": "stdout",
     "output_type": "stream",
     "text": [
      "DEMO: bisect_right\n",
      "haystack ->  1  4  5  6  8 12 15 20 21 23 23 26 29 30\n",
      "31 @ 14      |  |  |  |  |  |  |  |  |  |  |  |  |  |31\n",
      "30 @ 14      |  |  |  |  |  |  |  |  |  |  |  |  |  |30\n",
      "29 @ 13      |  |  |  |  |  |  |  |  |  |  |  |  |29\n",
      "23 @ 11      |  |  |  |  |  |  |  |  |  |  |23\n",
      "22 @  9      |  |  |  |  |  |  |  |  |22\n",
      "10 @  5      |  |  |  |  |10\n",
      " 8 @  5      |  |  |  |  |8 \n",
      " 5 @  3      |  |  |5 \n",
      " 2 @  1      |2 \n",
      " 1 @  1      |1 \n",
      " 0 @  0    0 \n"
     ]
    }
   ],
   "source": [
    "# 在有序序列中用bisect查找某个元素的插入位置\n",
    "import bisect\n",
    "import sys\n",
    "\n",
    "HAYSTACK = [1, 4, 5, 6, 8, 12, 15, 20, 21, 23, 23, 26, 29, 30]\n",
    "NEEDLES = [0, 1, 2, 5, 8, 10, 22, 23, 29, 30, 31]\n",
    "\n",
    "ROW_FMT = '{0:2d} @ {1:2d}    {2}{0:<2d}'\n",
    "\n",
    "def demo(bisect_fn):\n",
    "    for needle in reversed(NEEDLES):\n",
    "        position = bisect_fn(HAYSTACK, needle)\n",
    "        offset = position * '  |'\n",
    "        print(ROW_FMT.format(needle, position, offset))\n",
    "\n",
    "if sys.argv[-1] == 'left':\n",
    "    bisect_fn = bisect.bisect_left\n",
    "else:\n",
    "    bisect_fn = bisect.bisect_right\n",
    "\n",
    "print('DEMO:', bisect_fn.__name__)\n",
    "print('haystack ->', ' '.join('%2d' % n for n in HAYSTACK))\n",
    "demo(bisect_fn)"
   ]
  },
  {
   "cell_type": "code",
   "execution_count": 31,
   "metadata": {},
   "outputs": [
    {
     "data": {
      "text/plain": [
       "['F', 'F', 'D', 'C', 'B', 'A']"
      ]
     },
     "execution_count": 31,
     "metadata": {},
     "output_type": "execute_result"
    }
   ],
   "source": [
    "# bisect可以用来建立一个用数字作为索引的查询表格\n",
    "# 比如把分数和等级对应起来\n",
    "def grade(score, breakpoint=[60, 70, 80, 90], grades='FDCBA'):\n",
    "    i = bisect.bisect(breakpoint, score)\n",
    "    return grades[i]\n",
    "\n",
    "[grade(score) for score in [33, 50, 68, 72, 88, 99]]"
   ]
  },
  {
   "cell_type": "code",
   "execution_count": 33,
   "metadata": {},
   "outputs": [
    {
     "name": "stdout",
     "output_type": "stream",
     "text": [
      "10 -> [10]\n",
      " 0 -> [0, 10]\n",
      " 6 -> [0, 6, 10]\n",
      " 8 -> [0, 6, 8, 10]\n",
      " 7 -> [0, 6, 7, 8, 10]\n",
      " 2 -> [0, 2, 6, 7, 8, 10]\n",
      "10 -> [0, 2, 6, 7, 8, 10, 10]\n"
     ]
    }
   ],
   "source": [
    "# 用bisect.insort在已排序好的序列中插入新的元素\n",
    "# insort(seq, item)把变量item插入带序列seq中，并能保持seq的升序顺序\n",
    "import bisect\n",
    "import random\n",
    "\n",
    "SIZE = 7\n",
    "random.seed(1729)\n",
    "\n",
    "my_list = []\n",
    "for i in range(SIZE):\n",
    "    new_item = random.randrange(SIZE * 2)\n",
    "    bisect.insort(my_list, new_item)\n",
    "    print('%2d ->' % new_item, my_list)"
   ]
  },
  {
   "cell_type": "code",
   "execution_count": 34,
   "metadata": {},
   "outputs": [
    {
     "data": {
      "text/plain": [
       "0.5963321947530882"
      ]
     },
     "execution_count": 34,
     "metadata": {},
     "output_type": "execute_result"
    }
   ],
   "source": [
    "# 数组 - 如果我们需要一个只包含数字的列表，那么array.array比list更高效\n",
    "# 数组支持所有跟可变序列有关的操作，包括.pop、.insert和.extend\n",
    "# 还提供从文件读取和存入文件更快的方法，如.frombytes 和 .tofile\n",
    "# 创建一个有1000万个随机浮点数的数组\n",
    "from array import array\n",
    "from random import random\n",
    "\n",
    "# 'd' - 双精度浮点数\n",
    "floats = array('d', (random() for i in range(10**7)))\n",
    "floats[-1]"
   ]
  },
  {
   "cell_type": "code",
   "execution_count": 35,
   "metadata": {},
   "outputs": [],
   "source": [
    "# 存入文件\n",
    "fp = open('./floats.bin', 'wb')\n",
    "floats.tofile(fp)\n",
    "fp.close()"
   ]
  },
  {
   "cell_type": "code",
   "execution_count": 36,
   "metadata": {},
   "outputs": [
    {
     "data": {
      "text/plain": [
       "0.5963321947530882"
      ]
     },
     "execution_count": 36,
     "metadata": {},
     "output_type": "execute_result"
    }
   ],
   "source": [
    "# 新建一个空的双精度浮点数组\n",
    "floats2 = array('d')\n",
    "\n",
    "fp = open('./floats.bin', 'rb')\n",
    "# 从文件读取10**7个浮点数\n",
    "floats2.fromfile(fp, 10**7)\n",
    "fp.close()\n",
    "floats2[-1]"
   ]
  },
  {
   "cell_type": "code",
   "execution_count": 37,
   "metadata": {},
   "outputs": [
    {
     "data": {
      "text/plain": [
       "True"
      ]
     },
     "execution_count": 37,
     "metadata": {},
     "output_type": "execute_result"
    }
   ],
   "source": [
    "floats == floats2 "
   ]
  },
  {
   "cell_type": "code",
   "execution_count": 38,
   "metadata": {},
   "outputs": [
    {
     "data": {
      "text/plain": [
       "5"
      ]
     },
     "execution_count": 38,
     "metadata": {},
     "output_type": "execute_result"
    }
   ],
   "source": [
    "# 内存视图 - memoryview\n",
    "# 可以让用户在不复制内容的情况下操作同一个数组的不同切片\n",
    "# 通过改变数组中的一个字节来更新数组的某一元素的值\n",
    "\n",
    "# 'h' - 短整型有符号\n",
    "numbers = array('h', [-2, -1, 0, 1, 2])\n",
    "\n",
    "# 创建内存视图\n",
    "memv = memoryview(numbers)\n",
    "\n",
    "len(memv)"
   ]
  },
  {
   "cell_type": "code",
   "execution_count": 39,
   "metadata": {},
   "outputs": [
    {
     "data": {
      "text/plain": [
       "-2"
      ]
     },
     "execution_count": 39,
     "metadata": {},
     "output_type": "execute_result"
    }
   ],
   "source": [
    "memv[0]"
   ]
  },
  {
   "cell_type": "code",
   "execution_count": 40,
   "metadata": {},
   "outputs": [
    {
     "data": {
      "text/plain": [
       "[254, 255, 255, 255, 0, 0, 1, 0, 2, 0]"
      ]
     },
     "execution_count": 40,
     "metadata": {},
     "output_type": "execute_result"
    }
   ],
   "source": [
    "# 创建一个memv_oct，将memv的内容转化为'B' - 无符号字符\n",
    "memv_oct = memv.cast('B')\n",
    "\n",
    "memv_oct.tolist()"
   ]
  },
  {
   "cell_type": "code",
   "execution_count": 41,
   "metadata": {},
   "outputs": [
    {
     "data": {
      "text/plain": [
       "array('h', [-2, -1, 1024, 1, 2])"
      ]
     },
     "execution_count": 41,
     "metadata": {},
     "output_type": "execute_result"
    }
   ],
   "source": [
    "memv_oct[5] = 4\n",
    "numbers"
   ]
  },
  {
   "cell_type": "code",
   "execution_count": null,
   "metadata": {},
   "outputs": [],
   "source": []
  }
 ],
 "metadata": {
  "interpreter": {
   "hash": "6fff98fc3b3d81bd655c2cc48858186e4d9e2db7b515bf1c3221888f12a62f87"
  },
  "kernelspec": {
   "display_name": "Python 3.9.6 64-bit",
   "language": "python",
   "name": "python3"
  },
  "language_info": {
   "codemirror_mode": {
    "name": "ipython",
    "version": 3
   },
   "file_extension": ".py",
   "mimetype": "text/x-python",
   "name": "python",
   "nbconvert_exporter": "python",
   "pygments_lexer": "ipython3",
   "version": "3.9.6"
  },
  "orig_nbformat": 4
 },
 "nbformat": 4,
 "nbformat_minor": 2
}
