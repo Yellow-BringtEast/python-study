{
 "cells": [
  {
   "cell_type": "code",
   "execution_count": 1,
   "metadata": {},
   "outputs": [],
   "source": [
    "# Cpython：内置类型的方法不会调用子类覆盖的方法\n",
    "class DoppelDict(dict):\n",
    "    def __setitem__(self, key, value):\n",
    "        super().__setitem__(key, [value] * 2)"
   ]
  },
  {
   "cell_type": "code",
   "execution_count": 2,
   "metadata": {},
   "outputs": [
    {
     "data": {
      "text/plain": [
       "{'one': 1}"
      ]
     },
     "execution_count": 2,
     "metadata": {},
     "output_type": "execute_result"
    }
   ],
   "source": [
    "# 继承至dict的__init__方法，会忽略覆盖的__setitem__方法\n",
    "dd = DoppelDict(one=1)\n",
    "dd"
   ]
  },
  {
   "cell_type": "code",
   "execution_count": 3,
   "metadata": {},
   "outputs": [
    {
     "data": {
      "text/plain": [
       "{'one': 1, 'two': [2, 2]}"
      ]
     },
     "execution_count": 3,
     "metadata": {},
     "output_type": "execute_result"
    }
   ],
   "source": [
    "dd['two'] = 2\n",
    "dd"
   ]
  },
  {
   "cell_type": "code",
   "execution_count": 4,
   "metadata": {},
   "outputs": [
    {
     "data": {
      "text/plain": [
       "{'one': 1, 'two': [2, 2], 'three': 3}"
      ]
     },
     "execution_count": 4,
     "metadata": {},
     "output_type": "execute_result"
    }
   ],
   "source": [
    "# 继承至dict的update方法，也会忽略覆盖的__setitem__方法\n",
    "dd.update(three=3)\n",
    "dd"
   ]
  },
  {
   "cell_type": "code",
   "execution_count": 5,
   "metadata": {},
   "outputs": [],
   "source": [
    "# 菱形问题：由不相关的祖先类实现同名方法引发的命名冲突\n",
    "class A:\n",
    "    def ping(self):\n",
    "        print('ping:', self)\n",
    "\n",
    "class B(A):\n",
    "    def pong(self):\n",
    "        print('pong:', self)\n",
    "\n",
    "class C(A):\n",
    "    def pong(self):\n",
    "        print('PONG:', self)\n",
    "\n",
    "class D(B, C):\n",
    "    def ping(self):\n",
    "        super().ping()\n",
    "        print('post-ping:', self)\n",
    "\n",
    "    def pingpong(self):\n",
    "        self.ping()\n",
    "        super().ping()\n",
    "        self.pong()\n",
    "        super().pong()\n",
    "        C.pong(self)\n"
   ]
  },
  {
   "cell_type": "code",
   "execution_count": 7,
   "metadata": {},
   "outputs": [
    {
     "name": "stdout",
     "output_type": "stream",
     "text": [
      "pong: <__main__.D object at 0x00000221CE770970>\n"
     ]
    }
   ],
   "source": [
    "d = D()\n",
    "d.pong()"
   ]
  },
  {
   "cell_type": "code",
   "execution_count": 8,
   "metadata": {},
   "outputs": [
    {
     "name": "stdout",
     "output_type": "stream",
     "text": [
      "PONG: <__main__.D object at 0x00000221CE770970>\n"
     ]
    }
   ],
   "source": [
    "C.pong(d)"
   ]
  },
  {
   "cell_type": "code",
   "execution_count": 9,
   "metadata": {},
   "outputs": [
    {
     "data": {
      "text/plain": [
       "(__main__.D, __main__.B, __main__.C, __main__.A, object)"
      ]
     },
     "execution_count": 9,
     "metadata": {},
     "output_type": "execute_result"
    }
   ],
   "source": [
    "D.__mro__"
   ]
  },
  {
   "cell_type": "code",
   "execution_count": 10,
   "metadata": {},
   "outputs": [
    {
     "name": "stdout",
     "output_type": "stream",
     "text": [
      "ping: <__main__.D object at 0x00000221CE770970>\n",
      "post-ping: <__main__.D object at 0x00000221CE770970>\n"
     ]
    }
   ],
   "source": [
    "d.ping()"
   ]
  },
  {
   "cell_type": "code",
   "execution_count": 11,
   "metadata": {},
   "outputs": [
    {
     "name": "stdout",
     "output_type": "stream",
     "text": [
      "ping: <__main__.D object at 0x00000221CE770970>\n",
      "post-ping: <__main__.D object at 0x00000221CE770970>\n",
      "ping: <__main__.D object at 0x00000221CE770970>\n",
      "pong: <__main__.D object at 0x00000221CE770970>\n",
      "pong: <__main__.D object at 0x00000221CE770970>\n",
      "PONG: <__main__.D object at 0x00000221CE770970>\n"
     ]
    }
   ],
   "source": [
    "d.pingpong()"
   ]
  },
  {
   "cell_type": "code",
   "execution_count": 13,
   "metadata": {},
   "outputs": [
    {
     "data": {
      "text/plain": [
       "(tkinter.Text,\n",
       " tkinter.Widget,\n",
       " tkinter.BaseWidget,\n",
       " tkinter.Misc,\n",
       " tkinter.Pack,\n",
       " tkinter.Place,\n",
       " tkinter.Grid,\n",
       " tkinter.XView,\n",
       " tkinter.YView,\n",
       " object)"
      ]
     },
     "execution_count": 13,
     "metadata": {},
     "output_type": "execute_result"
    }
   ],
   "source": [
    "import tkinter\n",
    "tkinter.Text.__mro__"
   ]
  },
  {
   "cell_type": "code",
   "execution_count": 14,
   "metadata": {},
   "outputs": [],
   "source": [
    "# 处理多重继承\n",
    "# 01. 把接口继承和实现继承区分开\n",
    "# 继承接口，创建子类型，实现是什么关系\n",
    "# 继承实现，通过重用避免代码重复\n",
    "# 02. 使用抽象基类显式表示接口\n",
    "# 如果类的作用是定义接口，应该明确把他定义为抽象基类\n",
    "# 03. 通过混入（mixin）重用代码\n",
    "# 如果一个类的作用是为多个不相关的子类提供方法实现\n",
    "# 从而实现重用，但不体现‘是什么’关系，应该把这个类明确定义为混入类（mixin class）\n",
    "# 04. 在名称中明确指明混入\n",
    "# 05. 抽象基类可以作为混入，反之则不成立\n",
    "# 06. 不要子类化多个具体的类\n",
    "# 07. 为用户提供聚合类\n",
    "# 08. 优先使用对象组合，而不是类继承"
   ]
  },
  {
   "cell_type": "code",
   "execution_count": null,
   "metadata": {},
   "outputs": [],
   "source": []
  }
 ],
 "metadata": {
  "interpreter": {
   "hash": "6fff98fc3b3d81bd655c2cc48858186e4d9e2db7b515bf1c3221888f12a62f87"
  },
  "kernelspec": {
   "display_name": "Python 3.9.6 64-bit",
   "language": "python",
   "name": "python3"
  },
  "language_info": {
   "codemirror_mode": {
    "name": "ipython",
    "version": 3
   },
   "file_extension": ".py",
   "mimetype": "text/x-python",
   "name": "python",
   "nbconvert_exporter": "python",
   "pygments_lexer": "ipython3",
   "version": "3.9.6"
  },
  "orig_nbformat": 4
 },
 "nbformat": 4,
 "nbformat_minor": 2
}
