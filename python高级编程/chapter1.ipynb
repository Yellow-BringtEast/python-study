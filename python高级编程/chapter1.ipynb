{
 "cells": [
  {
   "cell_type": "markdown",
   "source": [
    "### 基础"
   ],
   "metadata": {
    "collapsed": false
   }
  },
  {
   "cell_type": "code",
   "execution_count": 1,
   "metadata": {
    "collapsed": true
   },
   "outputs": [
    {
     "data": {
      "text/plain": "[1, 'hello']"
     },
     "execution_count": 1,
     "metadata": {},
     "output_type": "execute_result"
    }
   ],
   "source": [
    "# 列表：由其他对象的引用组成的连续数组\n",
    "a = 1\n",
    "b = 'hello'\n",
    "\n",
    "c = [a, b]\n",
    "c"
   ]
  },
  {
   "cell_type": "code",
   "execution_count": 2,
   "outputs": [
    {
     "data": {
      "text/plain": "[1, 'hello']"
     },
     "execution_count": 2,
     "metadata": {},
     "output_type": "execute_result"
    }
   ],
   "source": [
    "# a变成了对2的引用\n",
    "a = 2\n",
    "\n",
    "# 但列表的引用对象仍是：1， hello\n",
    "c"
   ],
   "metadata": {
    "collapsed": false
   }
  },
  {
   "cell_type": "code",
   "execution_count": 3,
   "outputs": [
    {
     "data": {
      "text/plain": "'hello'"
     },
     "execution_count": 3,
     "metadata": {},
     "output_type": "execute_result"
    }
   ],
   "source": [
    "# 列表的引用对象变为：1，world\n",
    "c[1] = 'world'\n",
    "\n",
    "# 但b的引用对象仍是world\n",
    "b"
   ],
   "metadata": {
    "collapsed": false
   }
  },
  {
   "cell_type": "code",
   "execution_count": 5,
   "outputs": [
    {
     "data": {
      "text/plain": "[0, 2, 4, 6, 8]"
     },
     "execution_count": 5,
     "metadata": {},
     "output_type": "execute_result"
    }
   ],
   "source": [
    "# 列表推导式：一般而言，列表推导式比for循环跟快速。\n",
    "[i for i in range(10) if i % 2 == 0]"
   ],
   "metadata": {
    "collapsed": false
   }
  },
  {
   "cell_type": "code",
   "execution_count": 6,
   "outputs": [
    {
     "name": "stdout",
     "output_type": "stream",
     "text": [
      "(1, 2, 3)\n",
      "(4, 5, 6)\n"
     ]
    }
   ],
   "source": [
    "# zip函数：对zip函数返回的结果再次调用zip函数，可以使其恢复原状\n",
    "for item in zip(*zip([1, 2, 3], [4, 5, 6])):\n",
    "    print(item)"
   ],
   "metadata": {
    "collapsed": false
   }
  },
  {
   "cell_type": "code",
   "execution_count": 8,
   "outputs": [
    {
     "name": "stdout",
     "output_type": "stream",
     "text": [
      "first: 0\n",
      "inner: [1, 2]\n",
      "last: 3\n"
     ]
    }
   ],
   "source": [
    "# 序列解包 -- *号的用法\n",
    "first, *inner, last = 0, 1, 2, 3\n",
    "\n",
    "print('first:', first)\n",
    "print('inner:', inner)\n",
    "print('last:', last)"
   ],
   "metadata": {
    "collapsed": false
   }
  },
  {
   "cell_type": "code",
   "execution_count": 9,
   "outputs": [
    {
     "data": {
      "text/plain": "(1, 2, 3, 4)"
     },
     "execution_count": 9,
     "metadata": {},
     "output_type": "execute_result"
    }
   ],
   "source": [
    "# 嵌套解包\n",
    "(a, b), (c, d) = (1, 2), (3, 4)\n",
    "a, b, c, d"
   ],
   "metadata": {
    "collapsed": false
   }
  },
  {
   "cell_type": "code",
   "execution_count": 10,
   "outputs": [
    {
     "data": {
      "text/plain": "dict_items([('a', 1), ('b', 2), ('c', 3)])"
     },
     "execution_count": 10,
     "metadata": {},
     "output_type": "execute_result"
    }
   ],
   "source": [
    "# dict的视图对象（view objects）: keys()、values()和items()均返回视图对象\n",
    "# 字典发生变化时，视图也会发生相应的变化\n",
    "# 字典在CPython中使用hash table实现，所以只有hashable objects才能作为字典的键。\n",
    "# python中所有不可变类型都是可哈希的\n",
    "word = {'a': 1, 'b': 2}\n",
    "items = word.items()\n",
    "word['c'] = 3\n",
    "items"
   ],
   "metadata": {
    "collapsed": false
   }
  },
  {
   "cell_type": "markdown",
   "source": [
    "### 迭代器"
   ],
   "metadata": {
    "collapsed": false
   }
  },
  {
   "cell_type": "code",
   "execution_count": 11,
   "outputs": [
    {
     "name": "stdout",
     "output_type": "stream",
     "text": [
      "3\n",
      "2\n",
      "1\n",
      "0\n"
     ]
    }
   ],
   "source": [
    "# 迭代器：实现了迭代器协议的容器对象，包含一下2个方法\n",
    "# __next__：返回容器的一下元素\n",
    "# __iter__：返回迭代器本身\n",
    "class CountDown:\n",
    "    def __init__(self, step):\n",
    "        self.step = step\n",
    "\n",
    "    def __next__(self):\n",
    "        \"\"\"返回容器的下一个元素\"\"\"\n",
    "        if self.step <= 0:\n",
    "            raise StopIteration\n",
    "        self.step -= 1\n",
    "        return self.step\n",
    "\n",
    "    def __iter__(self):\n",
    "        \"\"\"返回迭代器本身\"\"\"\n",
    "        return self\n",
    "\n",
    "for i in CountDown(4):\n",
    "    print(i)"
   ],
   "metadata": {
    "collapsed": false
   }
  },
  {
   "cell_type": "markdown",
   "source": [
    "### 生成器"
   ],
   "metadata": {
    "collapsed": false
   }
  },
  {
   "cell_type": "code",
   "execution_count": 12,
   "outputs": [
    {
     "data": {
      "text/plain": "1"
     },
     "execution_count": 12,
     "metadata": {},
     "output_type": "execute_result"
    }
   ],
   "source": [
    "# 生成器：使用yield返回结果的一类特殊迭代器(保存执行上下文)\n",
    "# 一个简单的生成器\n",
    "def fibonacci():\n",
    "    a, b = 0, 1\n",
    "\n",
    "    while True:\n",
    "        yield b\n",
    "        a, b = b, b + a\n",
    "\n",
    "fib = fibonacci()\n",
    "next(fib)"
   ],
   "metadata": {
    "collapsed": false
   }
  },
  {
   "cell_type": "code",
   "execution_count": 13,
   "outputs": [
    {
     "data": {
      "text/plain": "1"
     },
     "execution_count": 13,
     "metadata": {},
     "output_type": "execute_result"
    }
   ],
   "source": [
    "next(fib)"
   ],
   "metadata": {
    "collapsed": false
   }
  },
  {
   "cell_type": "code",
   "execution_count": 14,
   "outputs": [
    {
     "data": {
      "text/plain": "2"
     },
     "execution_count": 14,
     "metadata": {},
     "output_type": "execute_result"
    }
   ],
   "source": [
    "next(fib)"
   ],
   "metadata": {
    "collapsed": false
   }
  },
  {
   "cell_type": "code",
   "execution_count": 15,
   "outputs": [
    {
     "data": {
      "text/plain": "[3, 5, 8, 13, 21, 34, 55, 89, 144, 233]"
     },
     "execution_count": 15,
     "metadata": {},
     "output_type": "execute_result"
    }
   ],
   "source": [
    "[next(fib) for i in range(10)]"
   ],
   "metadata": {
    "collapsed": false
   }
  },
  {
   "cell_type": "code",
   "execution_count": 2,
   "outputs": [
    {
     "name": "stdout",
     "output_type": "stream",
     "text": [
      "please tell me your problems\n",
      "第1次进入循环\n"
     ]
    }
   ],
   "source": [
    "# 生成器能够利用next函数与调用的代码交互，其值可以通过send方法来传递\n",
    "def psychologist():\n",
    "    print('please tell me your problems')\n",
    "    i = 0\n",
    "    while True:\n",
    "        i += 1\n",
    "        print(f'第{i}次进入循环')\n",
    "        answer = yield\n",
    "        print('answer：', answer)\n",
    "        if answer is not None:\n",
    "            if answer.endswith('?'):\n",
    "                print(\"don't ask yourself to much questions\")\n",
    "            elif 'good' in answer:\n",
    "                print('ahh that is good, go on')\n",
    "            elif 'bad' in answer:\n",
    "                print('do not be so negative')\n",
    "\n",
    "free = psychologist() # 调用函数，注意该函数中answer未接受任何传入参数\n",
    "next(free) # 第一次调用，函数在 `answer = yield` 处暂停"
   ],
   "metadata": {
    "collapsed": false
   }
  },
  {
   "cell_type": "code",
   "execution_count": 3,
   "outputs": [
    {
     "name": "stdout",
     "output_type": "stream",
     "text": [
      "answer： I feel bad\n",
      "do not be so negative\n",
      "第2次进入循环\n"
     ]
    }
   ],
   "source": [
    "# send方法将其参数变为yield的返回值，answer接受这个值，程序可以根据传入的值继续逻辑处理\n",
    "# 进入第二次循环，并在yield处再次暂停\n",
    "free.send('I feel bad')"
   ],
   "metadata": {
    "collapsed": false
   }
  },
  {
   "cell_type": "code",
   "execution_count": 4,
   "outputs": [
    {
     "name": "stdout",
     "output_type": "stream",
     "text": [
      "answer： 你好?\n",
      "don't ask yourself to much questions\n",
      "第3次进入循环\n"
     ]
    }
   ],
   "source": [
    "# 第二次send，传入值不同，程序依内部处理逻辑进行处理\n",
    "free.send('你好?')"
   ],
   "metadata": {
    "collapsed": false
   }
  },
  {
   "cell_type": "code",
   "execution_count": 5,
   "outputs": [
    {
     "name": "stdout",
     "output_type": "stream",
     "text": [
      "answer： None\n",
      "第4次进入循环\n"
     ]
    }
   ],
   "source": [
    "# next 与 send 类似，但next直接使yield返回None\n",
    "next(free)"
   ],
   "metadata": {
    "collapsed": false
   }
  },
  {
   "cell_type": "markdown",
   "source": [
    "### 装饰器"
   ],
   "metadata": {
    "collapsed": false
   }
  },
  {
   "cell_type": "code",
   "execution_count": 6,
   "outputs": [],
   "source": [
    "# 装饰器：通常是一个命名的对象（不允许使用lambda表达式），在被（装饰函数）调用时接受单一参数，并返回一个可调用对象\n",
    "# 任何可调用对象都可以作为装饰器，它们返回的对象可以是实现了__call__方法的对象\n",
    "# 装饰器语法只是语法糖而已，下面的装饰器用法：\n",
    "def some_decorator(func):\n",
    "    def run(*args, **kwargs):\n",
    "        result = func(*args, **kwargs)\n",
    "        return result\n",
    "    return run\n",
    "\n",
    "\n",
    "@some_decorator\n",
    "def decorated_func():\n",
    "    pass\n",
    "\n",
    "# 以上可以被替换为显式的装饰器调用和函数的重新赋值：\n",
    "def decorated_func():\n",
    "    pass\n",
    "decorated_func = some_decorator(decorated_func)"
   ],
   "metadata": {
    "collapsed": false
   }
  },
  {
   "cell_type": "code",
   "execution_count": 7,
   "outputs": [],
   "source": [
    "# 类装饰器：如果装饰器需要复杂的参数化或者依赖特定状态，则可以使用类装饰器\n",
    "class DecoratorAsClass:\n",
    "    def __init__(self, func):\n",
    "        self.func = func\n",
    "\n",
    "    def __call__(self, *args, **kwargs):\n",
    "        # 在调用原始函数前，做点什么\n",
    "        result = self.func(*args, **kwargs)\n",
    "        # 在函数调用之后，做点什么\n",
    "        # 最后返回原始函数的结果\n",
    "        return result"
   ],
   "metadata": {
    "collapsed": false
   }
  },
  {
   "cell_type": "code",
   "execution_count": 8,
   "outputs": [
    {
     "name": "stdout",
     "output_type": "stream",
     "text": [
      "foo\n",
      "foo\n"
     ]
    }
   ],
   "source": [
    "# 参数化装饰器\n",
    "def repeat(num=3):\n",
    "    \"\"\"多次重复执行装饰函数\n",
    "\n",
    "    返回最后一个原始函数调用的值作为结果\n",
    "    :param num: 重复次数，默认值为3\n",
    "    \"\"\"\n",
    "    def actual_decorator(func):\n",
    "        def wrapper(*args, **kwargs):\n",
    "            result = None\n",
    "            for _ in range(num):\n",
    "                result = func(*args, **kwargs)\n",
    "            return result\n",
    "        return wrapper\n",
    "    return actual_decorator\n",
    "\n",
    "@repeat(2)\n",
    "def foo():\n",
    "    print('foo')\n",
    "\n",
    "foo()"
   ],
   "metadata": {
    "collapsed": false
   }
  },
  {
   "cell_type": "code",
   "execution_count": 9,
   "outputs": [
    {
     "name": "stdout",
     "output_type": "stream",
     "text": [
      "bar\n",
      "bar\n",
      "bar\n"
     ]
    }
   ],
   "source": [
    "# 注意，即使参数化装饰器的参数有默认值，名字后面也必须加括号\n",
    "@repeat()\n",
    "def bar():\n",
    "    print('bar')\n",
    "\n",
    "bar()"
   ],
   "metadata": {
    "collapsed": false
   }
  },
  {
   "cell_type": "code",
   "execution_count": 10,
   "outputs": [
    {
     "ename": "TypeError",
     "evalue": "repeat.<locals>.actual_decorator() missing 1 required positional argument: 'func'",
     "output_type": "error",
     "traceback": [
      "\u001B[1;31m---------------------------------------------------------------------------\u001B[0m",
      "\u001B[1;31mTypeError\u001B[0m                                 Traceback (most recent call last)",
      "Cell \u001B[1;32mIn[10], line 6\u001B[0m\n\u001B[0;32m      2\u001B[0m \u001B[38;5;129m@repeat\u001B[39m\n\u001B[0;32m      3\u001B[0m \u001B[38;5;28;01mdef\u001B[39;00m \u001B[38;5;21mbar\u001B[39m():\n\u001B[0;32m      4\u001B[0m     \u001B[38;5;28mprint\u001B[39m(\u001B[38;5;124m'\u001B[39m\u001B[38;5;124mbar\u001B[39m\u001B[38;5;124m'\u001B[39m)\n\u001B[1;32m----> 6\u001B[0m \u001B[43mbar\u001B[49m\u001B[43m(\u001B[49m\u001B[43m)\u001B[49m\n",
      "\u001B[1;31mTypeError\u001B[0m: repeat.<locals>.actual_decorator() missing 1 required positional argument: 'func'"
     ]
    }
   ],
   "source": [
    "# 否则调用装饰器函数会出现错误\n",
    "@repeat\n",
    "def bar():\n",
    "    print('bar')\n",
    "\n",
    "bar()"
   ],
   "metadata": {
    "collapsed": false
   }
  },
  {
   "cell_type": "code",
   "execution_count": 11,
   "outputs": [
    {
     "data": {
      "text/plain": "('wrapper', '包装函数内部文档')"
     },
     "execution_count": 11,
     "metadata": {},
     "output_type": "execute_result"
    }
   ],
   "source": [
    "# 保存内省的装饰器\n",
    "# 使用装饰器的常见错误是在使用装饰器时不保存函数元数据（主要是文档字符串和原始函数名）\n",
    "def dummy(func):\n",
    "    def wrapper(*args, **kwargs):\n",
    "        \"\"\"包装函数内部文档\"\"\"\n",
    "        return func(*args, **kwargs)\n",
    "    return wrapper\n",
    "\n",
    "@dummy\n",
    "def func_with_important_docstring():\n",
    "    \"\"\"这是我们想要保存的文档字符串\"\"\"\n",
    "\n",
    "# 函数func_with_important_docstring失去了它的原始名称和文档字符串\n",
    "func_with_important_docstring.__name__, func_with_important_docstring.__doc__"
   ],
   "metadata": {
    "collapsed": false
   }
  },
  {
   "cell_type": "code",
   "execution_count": 12,
   "outputs": [
    {
     "data": {
      "text/plain": "('func_with_important_docstring', '这是我们想要保存的文档字符串')"
     },
     "execution_count": 12,
     "metadata": {},
     "output_type": "execute_result"
    }
   ],
   "source": [
    "# 解决方法：使用functools模块内置的wraps()装饰器\n",
    "from functools import wraps\n",
    "\n",
    "def preserving_decorator(func):\n",
    "    @wraps(func)\n",
    "    def wrapper(*args, **kwargs):\n",
    "        \"\"\"包装函数内部文档\"\"\"\n",
    "        return func(*args, **kwargs)\n",
    "    return wrapper\n",
    "\n",
    "@preserving_decorator\n",
    "def func_with_important_docstring():\n",
    "    \"\"\"这是我们想要保存的文档字符串\"\"\"\n",
    "\n",
    "#这样定义的装饰器可以保存重要的函数元数据\n",
    "func_with_important_docstring.__name__, func_with_important_docstring.__doc__"
   ],
   "metadata": {
    "collapsed": false
   }
  },
  {
   "cell_type": "code",
   "execution_count": 13,
   "outputs": [],
   "source": [
    "# 参数检查装器\n",
    "# 装饰器将函数注册到全局字典，并将其参数和返回值保存在一个类型列表中\n",
    "rpc_info = {}\n",
    "\n",
    "def xmlrpc(in_=(), out=(type(None),)):\n",
    "    def _xmlrpc(func):\n",
    "        # 注册签名\n",
    "        func_name = func.__name__\n",
    "        rpc_info[func_name] = (in_, out)\n",
    "\n",
    "        def _check_types(elements, types):\n",
    "            \"\"\"用来检查类型的子函数\"\"\"\n",
    "            if len(elements) != len(types):\n",
    "                raise TypeError('argument count is wrong')\n",
    "            typed = enumerate(zip(elements, types))\n",
    "            for index, couple in typed:\n",
    "                arg, of_the_right_type = couple\n",
    "                if isinstance(arg, of_the_right_type):\n",
    "                    continue\n",
    "                raise  TypeError(\n",
    "                    f'arg #{index} should be {of_the_right_type}'\n",
    "                )\n",
    "\n",
    "        # 包装过的函数\n",
    "        def __xmlrpc(*args): # 没有允许的关键词\n",
    "            # 检查输入内容\n",
    "            checkable_args = args[1:]  # 去掉 self\n",
    "            _check_types(checkable_args, in_)\n",
    "            # 运行函数\n",
    "            res = func(*args)\n",
    "            # 检出输出内容\n",
    "            if not type(res) in (tuple, list):\n",
    "                checkable_res = (res,)\n",
    "            else:\n",
    "                checkable_res = res\n",
    "            _check_types(checkable_res, out)\n",
    "\n",
    "            # 函及其类型检查成功\n",
    "            return res\n",
    "        return __xmlrpc\n",
    "    return _xmlrpc\n",
    "\n",
    "class RPCView:\n",
    "    @xmlrpc((int, int))  # two int -> None\n",
    "    def meth1(self, int1, int2):\n",
    "        print(f'received {int1} and {int2}')\n",
    "\n",
    "    @xmlrpc((str,), (int,)) # sting -> int\n",
    "    def meth2(self, phrase):\n",
    "        print(f'received {phrase}')\n",
    "        return 12"
   ],
   "metadata": {
    "collapsed": false
   }
  },
  {
   "cell_type": "code",
   "execution_count": 14,
   "outputs": [
    {
     "data": {
      "text/plain": "{'meth1': ((int, int), (NoneType,)), 'meth2': ((str,), (int,))}"
     },
     "execution_count": 14,
     "metadata": {},
     "output_type": "execute_result"
    }
   ],
   "source": [
    "# 在实际读取时，这个类定义会填充rpc_info字典，并用于检查参数类型的特定环境中\n",
    "rpc_info"
   ],
   "metadata": {
    "collapsed": false
   }
  },
  {
   "cell_type": "code",
   "execution_count": 15,
   "outputs": [
    {
     "name": "stdout",
     "output_type": "stream",
     "text": [
      "received 1 and 2\n"
     ]
    }
   ],
   "source": [
    "my = RPCView()\n",
    "my.meth1(1, 2)"
   ],
   "metadata": {
    "collapsed": false
   }
  },
  {
   "cell_type": "code",
   "execution_count": 16,
   "outputs": [
    {
     "ename": "TypeError",
     "evalue": "arg #0 should be <class 'str'>",
     "output_type": "error",
     "traceback": [
      "\u001B[1;31m---------------------------------------------------------------------------\u001B[0m",
      "\u001B[1;31mTypeError\u001B[0m                                 Traceback (most recent call last)",
      "Cell \u001B[1;32mIn[16], line 1\u001B[0m\n\u001B[1;32m----> 1\u001B[0m \u001B[43mmy\u001B[49m\u001B[38;5;241;43m.\u001B[39;49m\u001B[43mmeth2\u001B[49m\u001B[43m(\u001B[49m\u001B[38;5;241;43m2\u001B[39;49m\u001B[43m)\u001B[49m\n",
      "Cell \u001B[1;32mIn[13], line 28\u001B[0m, in \u001B[0;36mxmlrpc.<locals>._xmlrpc.<locals>.__xmlrpc\u001B[1;34m(*args)\u001B[0m\n\u001B[0;32m     25\u001B[0m \u001B[38;5;28;01mdef\u001B[39;00m \u001B[38;5;21m__xmlrpc\u001B[39m(\u001B[38;5;241m*\u001B[39margs): \u001B[38;5;66;03m# 没有允许的关键词\u001B[39;00m\n\u001B[0;32m     26\u001B[0m     \u001B[38;5;66;03m# 检查输入内容\u001B[39;00m\n\u001B[0;32m     27\u001B[0m     checkable_args \u001B[38;5;241m=\u001B[39m args[\u001B[38;5;241m1\u001B[39m:]  \u001B[38;5;66;03m# 去掉 self\u001B[39;00m\n\u001B[1;32m---> 28\u001B[0m     \u001B[43m_check_types\u001B[49m\u001B[43m(\u001B[49m\u001B[43mcheckable_args\u001B[49m\u001B[43m,\u001B[49m\u001B[43m \u001B[49m\u001B[43min_\u001B[49m\u001B[43m)\u001B[49m\n\u001B[0;32m     29\u001B[0m     \u001B[38;5;66;03m# 运行函数\u001B[39;00m\n\u001B[0;32m     30\u001B[0m     res \u001B[38;5;241m=\u001B[39m func(\u001B[38;5;241m*\u001B[39margs)\n",
      "Cell \u001B[1;32mIn[13], line 20\u001B[0m, in \u001B[0;36mxmlrpc.<locals>._xmlrpc.<locals>._check_types\u001B[1;34m(elements, types)\u001B[0m\n\u001B[0;32m     18\u001B[0m \u001B[38;5;28;01mif\u001B[39;00m \u001B[38;5;28misinstance\u001B[39m(arg, of_the_right_type):\n\u001B[0;32m     19\u001B[0m     \u001B[38;5;28;01mcontinue\u001B[39;00m\n\u001B[1;32m---> 20\u001B[0m \u001B[38;5;28;01mraise\u001B[39;00m  \u001B[38;5;167;01mTypeError\u001B[39;00m(\n\u001B[0;32m     21\u001B[0m     \u001B[38;5;124mf\u001B[39m\u001B[38;5;124m'\u001B[39m\u001B[38;5;124marg #\u001B[39m\u001B[38;5;132;01m{\u001B[39;00mindex\u001B[38;5;132;01m}\u001B[39;00m\u001B[38;5;124m should be \u001B[39m\u001B[38;5;132;01m{\u001B[39;00mof_the_right_type\u001B[38;5;132;01m}\u001B[39;00m\u001B[38;5;124m'\u001B[39m\n\u001B[0;32m     22\u001B[0m )\n",
      "\u001B[1;31mTypeError\u001B[0m: arg #0 should be <class 'str'>"
     ]
    }
   ],
   "source": [
    "my.meth2(2)"
   ],
   "metadata": {
    "collapsed": false
   }
  },
  {
   "cell_type": "code",
   "execution_count": 19,
   "outputs": [
    {
     "data": {
      "text/plain": "4"
     },
     "execution_count": 19,
     "metadata": {},
     "output_type": "execute_result"
    }
   ],
   "source": [
    "# 缓存装饰器\n",
    "import time\n",
    "import  hashlib\n",
    "import pickle\n",
    "\n",
    "\n",
    "cache = {}\n",
    "\n",
    "def is_obsolete(entry, duration):\n",
    "    return time.time() - entry['time'] > duration\n",
    "\n",
    "def compute_key(func, args, kw):\n",
    "    key = pickle.dumps((func.__name__, args, kw))\n",
    "    return hashlib.sha1(key).hexdigest()\n",
    "\n",
    "def memoize(duration=10):\n",
    "    def _memorize(func):\n",
    "        def __memorize(*args, **kw):\n",
    "            key = compute_key(func, args, kw)\n",
    "\n",
    "            # 是否拥有它了？\n",
    "            if (\n",
    "                key in cache and not is_obsolete(cache[key], duration)\n",
    "            ):\n",
    "                print('we got a winner')\n",
    "                return cache[key]['value']\n",
    "            # 计算\n",
    "            res = func(*args, **kw)\n",
    "            # 保存结果\n",
    "            cache[key] = {\n",
    "                'value': res,\n",
    "                'time': time.time()\n",
    "            }\n",
    "            return res\n",
    "        return __memorize\n",
    "    return _memorize\n",
    "\n",
    "@memoize()\n",
    "def very_very_very_very_very_complex_stuff(a, b):\n",
    "    return a + b\n",
    "\n",
    "# 首次调用，没有缓存\n",
    "very_very_very_very_very_complex_stuff(2, 2)"
   ],
   "metadata": {
    "collapsed": false
   }
  },
  {
   "cell_type": "code",
   "execution_count": 20,
   "outputs": [
    {
     "name": "stdout",
     "output_type": "stream",
     "text": [
      "we got a winner\n"
     ]
    },
    {
     "data": {
      "text/plain": "4"
     },
     "execution_count": 20,
     "metadata": {},
     "output_type": "execute_result"
    }
   ],
   "source": [
    "# 10s内相同参数再次调用，使用缓存\n",
    "very_very_very_very_very_complex_stuff(2, 2)"
   ],
   "metadata": {
    "collapsed": false
   }
  },
  {
   "cell_type": "code",
   "execution_count": 24,
   "outputs": [],
   "source": [
    "@memoize(1) # 1秒后令缓存失效\n",
    "def very_very_very_very_very_complex_stuff(a, b):\n",
    "    return a + b"
   ],
   "metadata": {
    "collapsed": false
   }
  },
  {
   "cell_type": "code",
   "execution_count": 25,
   "outputs": [
    {
     "data": {
      "text/plain": "4"
     },
     "execution_count": 25,
     "metadata": {},
     "output_type": "execute_result"
    }
   ],
   "source": [
    "very_very_very_very_very_complex_stuff(2, 2)"
   ],
   "metadata": {
    "collapsed": false
   }
  },
  {
   "cell_type": "code",
   "execution_count": 26,
   "outputs": [
    {
     "name": "stdout",
     "output_type": "stream",
     "text": [
      "we got a winner\n"
     ]
    },
    {
     "data": {
      "text/plain": "4"
     },
     "execution_count": 26,
     "metadata": {},
     "output_type": "execute_result"
    }
   ],
   "source": [
    "very_very_very_very_very_complex_stuff(2, 2)"
   ],
   "metadata": {
    "collapsed": false
   }
  },
  {
   "cell_type": "code",
   "execution_count": 27,
   "outputs": [
    {
     "data": {
      "text/plain": "{'ae2095169eb19988a90c4596db1ccd94757ce38c': {'value': 4,\n  'time': 1680932733.3544948}}"
     },
     "execution_count": 27,
     "metadata": {},
     "output_type": "execute_result"
    }
   ],
   "source": [
    "cache"
   ],
   "metadata": {
    "collapsed": false
   }
  },
  {
   "cell_type": "code",
   "execution_count": 28,
   "outputs": [
    {
     "data": {
      "text/plain": "4"
     },
     "execution_count": 28,
     "metadata": {},
     "output_type": "execute_result"
    }
   ],
   "source": [
    "very_very_very_very_very_complex_stuff(2, 2)"
   ],
   "metadata": {
    "collapsed": false
   }
  },
  {
   "cell_type": "code",
   "execution_count": 30,
   "outputs": [
    {
     "name": "stdout",
     "output_type": "stream",
     "text": [
      "use ton of butter!\n"
     ]
    }
   ],
   "source": [
    "# 代理装饰器：使用全局机制来标记和注册函数\n",
    "# 一个例子：使用集中式检查器和相关的可调用对象要求的权限实现的保护代码访问的安全层\n",
    "class User(object):\n",
    "    def __init__(self, roles):\n",
    "        self.roles = roles\n",
    "\n",
    "class Unauthorized(Exception):\n",
    "    pass\n",
    "\n",
    "def protect(role):\n",
    "    def _protect(func):\n",
    "        def __protect(*args, **kw):\n",
    "            user = globals().get('user')\n",
    "            if user is None or role not in user.roles:\n",
    "                raise Unauthorized('I wont tell you')\n",
    "            return func(*args, *kw)\n",
    "        return __protect\n",
    "    return _protect\n",
    "\n",
    "# 当前用户被保存在一个全局变量中，在方法被访问时装饰器会检查他的角色\n",
    "tare = User(('admin', 'user'))\n",
    "bill = User(('user',))\n",
    "\n",
    "class MySecrets(object):\n",
    "    @protect('admin')\n",
    "    def waffle_recipe(self):\n",
    "        print('use ton of butter!')\n",
    "\n",
    "these_are = MySecrets()\n",
    "user = tare\n",
    "these_are.waffle_recipe()"
   ],
   "metadata": {
    "collapsed": false
   }
  },
  {
   "cell_type": "code",
   "execution_count": 31,
   "outputs": [
    {
     "ename": "Unauthorized",
     "evalue": "I wont tell you",
     "output_type": "error",
     "traceback": [
      "\u001B[1;31m---------------------------------------------------------------------------\u001B[0m",
      "\u001B[1;31mUnauthorized\u001B[0m                              Traceback (most recent call last)",
      "Cell \u001B[1;32mIn[31], line 2\u001B[0m\n\u001B[0;32m      1\u001B[0m user \u001B[38;5;241m=\u001B[39m bill\n\u001B[1;32m----> 2\u001B[0m \u001B[43mthese_are\u001B[49m\u001B[38;5;241;43m.\u001B[39;49m\u001B[43mwaffle_recipe\u001B[49m\u001B[43m(\u001B[49m\u001B[43m)\u001B[49m\n",
      "Cell \u001B[1;32mIn[30], line 15\u001B[0m, in \u001B[0;36mprotect.<locals>._protect.<locals>.__protect\u001B[1;34m(*args, **kw)\u001B[0m\n\u001B[0;32m     13\u001B[0m user \u001B[38;5;241m=\u001B[39m \u001B[38;5;28mglobals\u001B[39m()\u001B[38;5;241m.\u001B[39mget(\u001B[38;5;124m'\u001B[39m\u001B[38;5;124muser\u001B[39m\u001B[38;5;124m'\u001B[39m)\n\u001B[0;32m     14\u001B[0m \u001B[38;5;28;01mif\u001B[39;00m user \u001B[38;5;129;01mis\u001B[39;00m \u001B[38;5;28;01mNone\u001B[39;00m \u001B[38;5;129;01mor\u001B[39;00m role \u001B[38;5;129;01mnot\u001B[39;00m \u001B[38;5;129;01min\u001B[39;00m user\u001B[38;5;241m.\u001B[39mroles:\n\u001B[1;32m---> 15\u001B[0m     \u001B[38;5;28;01mraise\u001B[39;00m Unauthorized(\u001B[38;5;124m'\u001B[39m\u001B[38;5;124mI wont tell you\u001B[39m\u001B[38;5;124m'\u001B[39m)\n\u001B[0;32m     16\u001B[0m \u001B[38;5;28;01mreturn\u001B[39;00m func(\u001B[38;5;241m*\u001B[39margs, \u001B[38;5;241m*\u001B[39mkw)\n",
      "\u001B[1;31mUnauthorized\u001B[0m: I wont tell you"
     ]
    }
   ],
   "source": [
    "user = bill\n",
    "these_are.waffle_recipe()"
   ],
   "metadata": {
    "collapsed": false
   }
  },
  {
   "cell_type": "code",
   "execution_count": null,
   "outputs": [],
   "source": [],
   "metadata": {
    "collapsed": false
   }
  }
 ],
 "metadata": {
  "kernelspec": {
   "display_name": "Python 3",
   "language": "python",
   "name": "python3"
  },
  "language_info": {
   "codemirror_mode": {
    "name": "ipython",
    "version": 2
   },
   "file_extension": ".py",
   "mimetype": "text/x-python",
   "name": "python",
   "nbconvert_exporter": "python",
   "pygments_lexer": "ipython2",
   "version": "2.7.6"
  }
 },
 "nbformat": 4,
 "nbformat_minor": 0
}
