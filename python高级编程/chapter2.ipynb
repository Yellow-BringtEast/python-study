{
 "cells": [
  {
   "cell_type": "markdown",
   "source": [
    "### 子类化内置类型"
   ],
   "metadata": {
    "collapsed": false
   }
  },
  {
   "cell_type": "code",
   "execution_count": 1,
   "outputs": [
    {
     "ename": "DistinctError",
     "evalue": "this value already exists for different key",
     "output_type": "error",
     "traceback": [
      "\u001B[1;31m---------------------------------------------------------------------------\u001B[0m",
      "\u001B[1;31mDistinctError\u001B[0m                             Traceback (most recent call last)",
      "Cell \u001B[1;32mIn[1], line 19\u001B[0m\n\u001B[0;32m     17\u001B[0m my \u001B[38;5;241m=\u001B[39m DistinctDict()\n\u001B[0;32m     18\u001B[0m my[\u001B[38;5;124m'\u001B[39m\u001B[38;5;124mkey\u001B[39m\u001B[38;5;124m'\u001B[39m] \u001B[38;5;241m=\u001B[39m \u001B[38;5;124m'\u001B[39m\u001B[38;5;124mvalue\u001B[39m\u001B[38;5;124m'\u001B[39m\n\u001B[1;32m---> 19\u001B[0m \u001B[43mmy\u001B[49m\u001B[43m[\u001B[49m\u001B[38;5;124;43m'\u001B[39;49m\u001B[38;5;124;43mother_key\u001B[39;49m\u001B[38;5;124;43m'\u001B[39;49m\u001B[43m]\u001B[49m \u001B[38;5;241m=\u001B[39m \u001B[38;5;124m'\u001B[39m\u001B[38;5;124mvalue\u001B[39m\u001B[38;5;124m'\u001B[39m\n",
      "Cell \u001B[1;32mIn[1], line 13\u001B[0m, in \u001B[0;36mDistinctDict.__setitem__\u001B[1;34m(self, key, value)\u001B[0m\n\u001B[0;32m      9\u001B[0m \u001B[38;5;28;01mif\u001B[39;00m value \u001B[38;5;129;01min\u001B[39;00m \u001B[38;5;28mself\u001B[39m\u001B[38;5;241m.\u001B[39mvalues():\n\u001B[0;32m     10\u001B[0m     \u001B[38;5;28;01mif\u001B[39;00m (\n\u001B[0;32m     11\u001B[0m             (key \u001B[38;5;129;01min\u001B[39;00m \u001B[38;5;28mself\u001B[39m \u001B[38;5;129;01mand\u001B[39;00m \u001B[38;5;28mself\u001B[39m[key] \u001B[38;5;241m!=\u001B[39m value) \u001B[38;5;129;01mor\u001B[39;00m key \u001B[38;5;129;01mnot\u001B[39;00m \u001B[38;5;129;01min\u001B[39;00m \u001B[38;5;28mself\u001B[39m\n\u001B[0;32m     12\u001B[0m     ):\n\u001B[1;32m---> 13\u001B[0m         \u001B[38;5;28;01mraise\u001B[39;00m DistinctError(\u001B[38;5;124m\"\u001B[39m\u001B[38;5;124mthis value already exists for different key\u001B[39m\u001B[38;5;124m\"\u001B[39m)\n\u001B[0;32m     15\u001B[0m \u001B[38;5;28msuper\u001B[39m()\u001B[38;5;241m.\u001B[39m\u001B[38;5;21m__setitem__\u001B[39m(key, value)\n",
      "\u001B[1;31mDistinctError\u001B[0m: this value already exists for different key"
     ]
    }
   ],
   "source": [
    "# 一个不允许重复值的字典\n",
    "class DistinctError(ValueError):\n",
    "    \"\"\"如果向distinctdict添加重复值，则引发这个错误\"\"\"\n",
    "    ...\n",
    "\n",
    "class DistinctDict(dict):\n",
    "    \"\"\"不接受重复值的字典\"\"\"\n",
    "    def __setitem__(self, key, value):\n",
    "        if value in self.values():\n",
    "            if (\n",
    "                    (key in self and self[key] != value) or key not in self\n",
    "            ):\n",
    "                raise DistinctError(\"this value already exists for different key\")\n",
    "\n",
    "        super().__setitem__(key, value)\n",
    "\n",
    "my = DistinctDict()\n",
    "my['key'] = 'value'\n",
    "my['other_key'] = 'value'"
   ],
   "metadata": {
    "collapsed": false
   }
  },
  {
   "cell_type": "code",
   "execution_count": 2,
   "outputs": [
    {
     "data": {
      "text/plain": "{'key': 'value', 'other_key': 'value2'}"
     },
     "execution_count": 2,
     "metadata": {},
     "output_type": "execute_result"
    }
   ],
   "source": [
    "my['other_key'] = 'value2'\n",
    "my"
   ],
   "metadata": {
    "collapsed": false
   }
  },
  {
   "cell_type": "markdown",
   "source": [
    "### 访问超类中的方法"
   ],
   "metadata": {
    "collapsed": false
   }
  },
  {
   "cell_type": "code",
   "execution_count": 3,
   "outputs": [
    {
     "name": "stdout",
     "output_type": "stream",
     "text": [
      "do your homework\n",
      "and clean your bedroom\n"
     ]
    }
   ],
   "source": [
    "# 访问超类中的方法\n",
    "# 旧的写法\n",
    "class Mama:\n",
    "    def says(self):\n",
    "        print('do your homework')\n",
    "\n",
    "\n",
    "class Sister(Mama):\n",
    "    def says(self):\n",
    "        Mama.says(self)\n",
    "        print('and clean your bedroom')\n",
    "\n",
    "Sister().says()"
   ],
   "metadata": {
    "collapsed": false
   }
  },
  {
   "cell_type": "code",
   "execution_count": 4,
   "outputs": [
    {
     "name": "stdout",
     "output_type": "stream",
     "text": [
      "do your homework\n",
      "and clean your bedroom\n"
     ]
    }
   ],
   "source": [
    "# super方法访问超类\n",
    "class Sister(Mama):\n",
    "    def says(self):\n",
    "        super().says() # 简化形式可以在方法内部使用\n",
    "        print('and clean your bedroom')\n",
    "\n",
    "Sister().says()"
   ],
   "metadata": {
    "collapsed": false
   }
  },
  {
   "cell_type": "code",
   "execution_count": 5,
   "outputs": [
    {
     "name": "stdout",
     "output_type": "stream",
     "text": [
      "do your homework\n"
     ]
    }
   ],
   "source": [
    "# super不在方法内部使用时\n",
    "anita = Sister()\n",
    "super(anita.__class__, anita).says()"
   ],
   "metadata": {
    "collapsed": false
   }
  },
  {
   "cell_type": "code",
   "execution_count": 13,
   "outputs": [
    {
     "name": "stdout",
     "output_type": "stream",
     "text": [
      "Pizza with spam and ham and eggs\n",
      "Pizza with spam and ham and eggs and spam and spam and spam and spam and spam\n"
     ]
    }
   ],
   "source": [
    "# 如果super只提供了一个参数，那么它将返回一个未绑定（unbound）类型\n",
    "# 这一点在与classmethod一起使用时特别有用\n",
    "class Pizza:\n",
    "    def __init__(self, toppings):\n",
    "        self.toppings = toppings\n",
    "\n",
    "    def __repr__(self):\n",
    "        return 'Pizza with ' + ' and '.join(self.toppings)\n",
    "\n",
    "    @classmethod\n",
    "    def recommend(cls):\n",
    "        \"\"\"推荐任意馅料（toppings）的某种披萨\"\"\"\n",
    "        return cls(['spam', 'ham', 'eggs'])\n",
    "\n",
    "\n",
    "class VikingPizza(Pizza):\n",
    "    @classmethod\n",
    "    def recommend(cls):\n",
    "        \"\"\"推荐与super相同的内容，但多加了午餐肉（spam）\"\"\"\n",
    "        recommended = super().recommend()\n",
    "        recommended.toppings += ['spam'] * 5\n",
    "        return recommended\n",
    "\n",
    "print(Pizza.recommend())\n",
    "print(VikingPizza.recommend())"
   ],
   "metadata": {
    "collapsed": false
   }
  },
  {
   "cell_type": "code",
   "execution_count": 20,
   "outputs": [
    {
     "data": {
      "text/plain": "(__main__.C, __main__.A, __main__.B, object)"
     },
     "execution_count": 20,
     "metadata": {},
     "output_type": "execute_result"
    }
   ],
   "source": [
    "# 错误案例 - 混用super与显式类调用\n",
    "class A:\n",
    "    def __init__(self):\n",
    "        print('A', end=' ')\n",
    "        super().__init__()\n",
    "\n",
    "\n",
    "class B:\n",
    "    def __init__(self):\n",
    "        print('B', end=' ')\n",
    "        super().__init__()\n",
    "\n",
    "\n",
    "class C(A, B):\n",
    "    def __init__(self):\n",
    "        print('C', end=' ')\n",
    "        A.__init__(self)\n",
    "        B.__init__(self)\n",
    "\n",
    "\n",
    "# 类的继承顺序\n",
    "C.__mro__"
   ],
   "metadata": {
    "collapsed": false
   }
  },
  {
   "cell_type": "code",
   "execution_count": 21,
   "outputs": [
    {
     "name": "stdout",
     "output_type": "stream",
     "text": [
      "C A B B "
     ]
    },
    {
     "data": {
      "text/plain": "<__main__.C at 0x1eb7f511ab0>"
     },
     "execution_count": 21,
     "metadata": {},
     "output_type": "execute_result"
    }
   ],
   "source": [
    "# C的实例调用了A.__init__(self) -> super(A, self).__init__() —> B.__init__()方法\n",
    "# 因此会打印2次B\n",
    "C()"
   ],
   "metadata": {
    "collapsed": false
   }
  },
  {
   "cell_type": "code",
   "execution_count": 43,
   "outputs": [
    {
     "name": "stdout",
     "output_type": "stream",
     "text": [
      "my base\n"
     ]
    },
    {
     "ename": "TypeError",
     "evalue": "Base1.__init__() takes 1 positional argument but 2 were given",
     "output_type": "error",
     "traceback": [
      "\u001B[1;31m---------------------------------------------------------------------------\u001B[0m",
      "\u001B[1;31mTypeError\u001B[0m                                 Traceback (most recent call last)",
      "Cell \u001B[1;32mIn[43], line 25\u001B[0m\n\u001B[0;32m     22\u001B[0m         \u001B[38;5;28mprint\u001B[39m(\u001B[38;5;124m'\u001B[39m\u001B[38;5;124mmy base\u001B[39m\u001B[38;5;124m'\u001B[39m)\n\u001B[0;32m     23\u001B[0m         \u001B[38;5;28msuper\u001B[39m()\u001B[38;5;241m.\u001B[39m\u001B[38;5;21m__init__\u001B[39m(arg)\n\u001B[1;32m---> 25\u001B[0m \u001B[43mMyClass\u001B[49m\u001B[43m(\u001B[49m\u001B[38;5;241;43m10\u001B[39;49m\u001B[43m)\u001B[49m\n",
      "Cell \u001B[1;32mIn[43], line 23\u001B[0m, in \u001B[0;36mMyClass.__init__\u001B[1;34m(self, arg)\u001B[0m\n\u001B[0;32m     21\u001B[0m \u001B[38;5;28;01mdef\u001B[39;00m \u001B[38;5;21m__init__\u001B[39m(\u001B[38;5;28mself\u001B[39m, arg):\n\u001B[0;32m     22\u001B[0m     \u001B[38;5;28mprint\u001B[39m(\u001B[38;5;124m'\u001B[39m\u001B[38;5;124mmy base\u001B[39m\u001B[38;5;124m'\u001B[39m)\n\u001B[1;32m---> 23\u001B[0m     \u001B[38;5;28;43msuper\u001B[39;49m\u001B[43m(\u001B[49m\u001B[43m)\u001B[49m\u001B[38;5;241;43m.\u001B[39;49m\u001B[38;5;21;43m__init__\u001B[39;49m\u001B[43m(\u001B[49m\u001B[43marg\u001B[49m\u001B[43m)\u001B[49m\n",
      "\u001B[1;31mTypeError\u001B[0m: Base1.__init__() takes 1 positional argument but 2 were given"
     ]
    }
   ],
   "source": [
    "# 初始化过程中的参数传递\n",
    "class CommonBase:\n",
    "    def __init__(self):\n",
    "        print('CommonBase')\n",
    "        super().__init__()\n",
    "\n",
    "\n",
    "class Base1(CommonBase):\n",
    "    def __init__(self):\n",
    "        print('Base1')\n",
    "        super().__init__()\n",
    "\n",
    "\n",
    "class Base2(CommonBase):\n",
    "    def __init__(self, arg):\n",
    "        print('Base2')\n",
    "        super().__init__()\n",
    "\n",
    "\n",
    "class MyClass(Base1, Base2):\n",
    "    def __init__(self, arg):\n",
    "        print('my base')\n",
    "        super().__init__(arg)\n",
    "\n",
    "MyClass(10)"
   ],
   "metadata": {
    "collapsed": false
   }
  },
  {
   "cell_type": "code",
   "execution_count": 44,
   "outputs": [
    {
     "data": {
      "text/plain": "(__main__.MyClass, __main__.Base1, __main__.Base2, __main__.CommonBase, object)"
     },
     "execution_count": 44,
     "metadata": {},
     "output_type": "execute_result"
    }
   ],
   "source": [
    "MyClass.__mro__"
   ],
   "metadata": {
    "collapsed": false
   }
  },
  {
   "cell_type": "markdown",
   "source": [
    "### MRO"
   ],
   "metadata": {
    "collapsed": false
   }
  },
  {
   "cell_type": "code",
   "execution_count": 16,
   "outputs": [
    {
     "data": {
      "text/plain": "(__main__.MyClass, __main__.Base1, __main__.Base2, __main__.CommonBase, object)"
     },
     "execution_count": 16,
     "metadata": {},
     "output_type": "execute_result"
    }
   ],
   "source": [
    "# MRO：方法解析顺序\n",
    "class CommonBase:\n",
    "    def method(self):\n",
    "        print('CommonBase')\n",
    "\n",
    "\n",
    "class Base1(CommonBase):\n",
    "    pass\n",
    "\n",
    "\n",
    "class Base2(CommonBase):\n",
    "    def method(self):\n",
    "        print('Base2')\n",
    "\n",
    "\n",
    "class MyClass(Base1, Base2):\n",
    "    pass\n",
    "\n",
    "\n",
    "# 调用类中方法的顺序\n",
    "MyClass.__mro__"
   ],
   "metadata": {
    "collapsed": false
   }
  },
  {
   "cell_type": "code",
   "execution_count": 17,
   "outputs": [
    {
     "name": "stdout",
     "output_type": "stream",
     "text": [
      "Base2\n"
     ]
    }
   ],
   "source": [
    "MyClass().method()"
   ],
   "metadata": {
    "collapsed": false
   }
  },
  {
   "cell_type": "markdown",
   "source": [
    "### 高级属性访问模式"
   ],
   "metadata": {
    "collapsed": false
   }
  },
  {
   "cell_type": "code",
   "execution_count": 23,
   "outputs": [
    {
     "ename": "AttributeError",
     "evalue": "'MyClass' object has no attribute '__secret_value'",
     "output_type": "error",
     "traceback": [
      "\u001B[1;31m---------------------------------------------------------------------------\u001B[0m",
      "\u001B[1;31mAttributeError\u001B[0m                            Traceback (most recent call last)",
      "Cell \u001B[1;32mIn[23], line 8\u001B[0m\n\u001B[0;32m      4\u001B[0m     __secret_value \u001B[38;5;241m=\u001B[39m \u001B[38;5;241m1\u001B[39m\n\u001B[0;32m      7\u001B[0m instance_of \u001B[38;5;241m=\u001B[39m MyClass()\n\u001B[1;32m----> 8\u001B[0m \u001B[43minstance_of\u001B[49m\u001B[38;5;241;43m.\u001B[39;49m\u001B[43m__secret_value\u001B[49m\n",
      "\u001B[1;31mAttributeError\u001B[0m: 'MyClass' object has no attribute '__secret_value'"
     ]
    }
   ],
   "source": [
    "# 名称修饰：以__开始的变量是类的私有属性\n",
    "# 直接访问私有属性会报错，该属性会被解释器重命名\n",
    "class MyClass:\n",
    "    __secret_value = 1\n",
    "\n",
    "\n",
    "instance_of = MyClass()\n",
    "instance_of.__secret_value"
   ],
   "metadata": {
    "collapsed": false
   }
  },
  {
   "cell_type": "code",
   "execution_count": 24,
   "outputs": [
    {
     "data": {
      "text/plain": "['_MyClass__secret_value',\n '__class__',\n '__delattr__',\n '__dict__',\n '__dir__',\n '__doc__',\n '__eq__',\n '__format__',\n '__ge__',\n '__getattribute__',\n '__gt__',\n '__hash__',\n '__init__',\n '__init_subclass__',\n '__le__',\n '__lt__',\n '__module__',\n '__ne__',\n '__new__',\n '__reduce__',\n '__reduce_ex__',\n '__repr__',\n '__setattr__',\n '__sizeof__',\n '__str__',\n '__subclasshook__',\n '__weakref__']"
     },
     "execution_count": 24,
     "metadata": {},
     "output_type": "execute_result"
    }
   ],
   "source": [
    "dir(MyClass)"
   ],
   "metadata": {
    "collapsed": false
   }
  },
  {
   "cell_type": "code",
   "execution_count": 25,
   "outputs": [
    {
     "data": {
      "text/plain": "1"
     },
     "execution_count": 25,
     "metadata": {},
     "output_type": "execute_result"
    }
   ],
   "source": [
    "instance_of._MyClass__secret_value"
   ],
   "metadata": {
    "collapsed": false
   }
  },
  {
   "cell_type": "code",
   "execution_count": 26,
   "outputs": [
    {
     "name": "stdout",
     "output_type": "stream",
     "text": [
      "Retrieving var x\n"
     ]
    },
    {
     "data": {
      "text/plain": "10"
     },
     "execution_count": 26,
     "metadata": {},
     "output_type": "execute_result"
    }
   ],
   "source": [
    "# 描述符允许你自定义在引用一个对象的属性时应该完成的事\n",
    "# 描述符是Python中复杂属性访问的基础\n",
    "# 它基于3个特殊方法，这3个方法组成了描述符协议：\n",
    "# 1.__set__(self, instance, value)：在设置属性时将调用这一方法\n",
    "# 2.__get__(self, instance, owner)：在读取属性时将调用这一方法\n",
    "# 3.__delete__(self, obj)：对属性调用del时将调用这一方法\n",
    "# 实现了__get__()和__set__()的描述符被称为数据描述符\n",
    "class RevealAccess:\n",
    "    \"\"\"一个数据描述符，正常设定值并返回值，同时打印出记录访问的信息\"\"\"\n",
    "    def __init__(self, initval=None, name='var'):\n",
    "        self.value = initval\n",
    "        self.name = name\n",
    "\n",
    "    def __get__(self, instance, owner):\n",
    "        print('Retrieving', self.name)\n",
    "        return self.value\n",
    "\n",
    "    def __set__(self, instance, value):\n",
    "        print('Updating', self.name)\n",
    "        self.value = value\n",
    "\n",
    "\n",
    "class MyClass:\n",
    "    x = RevealAccess(10, 'var x')\n",
    "    y = 5\n",
    "\n",
    "m = MyClass()\n",
    "m.x"
   ],
   "metadata": {
    "collapsed": false
   }
  },
  {
   "cell_type": "code",
   "execution_count": 27,
   "outputs": [
    {
     "name": "stdout",
     "output_type": "stream",
     "text": [
      "Updating var x\n"
     ]
    }
   ],
   "source": [
    "m.x = 20"
   ],
   "metadata": {
    "collapsed": false
   }
  },
  {
   "cell_type": "code",
   "execution_count": 28,
   "outputs": [
    {
     "name": "stdout",
     "output_type": "stream",
     "text": [
      "Retrieving var x\n"
     ]
    },
    {
     "data": {
      "text/plain": "20"
     },
     "execution_count": 28,
     "metadata": {},
     "output_type": "execute_result"
    }
   ],
   "source": [
    "m.x"
   ],
   "metadata": {
    "collapsed": false
   }
  },
  {
   "cell_type": "code",
   "execution_count": 29,
   "outputs": [
    {
     "data": {
      "text/plain": "5"
     },
     "execution_count": 29,
     "metadata": {},
     "output_type": "execute_result"
    }
   ],
   "source": [
    "m.y"
   ],
   "metadata": {
    "collapsed": false
   }
  },
  {
   "cell_type": "code",
   "execution_count": 30,
   "outputs": [
    {
     "name": "stdout",
     "output_type": "stream",
     "text": [
      "initialized!\n"
     ]
    },
    {
     "data": {
      "text/plain": "['a', 'r', 'g', 'u', 'm', 'e', 'n', 't']"
     },
     "execution_count": 30,
     "metadata": {},
     "output_type": "execute_result"
    }
   ],
   "source": [
    "# 描述符的一个示例：延迟求值属性\n",
    "class InitOnAccess:\n",
    "    def __init__(self, klass, *args, **kwargs):\n",
    "        self.klass = klass\n",
    "        self.args = args\n",
    "        self.kwargs = kwargs\n",
    "        self._initialized = None\n",
    "\n",
    "    def __get__(self, instance, owner):\n",
    "        if self._initialized is None:\n",
    "            print('initialized!')\n",
    "            self._initialized = self.klass(*self.args, **self.kwargs)\n",
    "        else:\n",
    "            print('cached')\n",
    "        return self._initialized\n",
    "\n",
    "\n",
    "class MyClass:\n",
    "    lazily_initialized = InitOnAccess(list, 'argument')\n",
    "\n",
    "m = MyClass\n",
    "m.lazily_initialized"
   ],
   "metadata": {
    "collapsed": false
   }
  },
  {
   "cell_type": "code",
   "execution_count": 31,
   "outputs": [
    {
     "name": "stdout",
     "output_type": "stream",
     "text": [
      "cached\n"
     ]
    },
    {
     "data": {
      "text/plain": "['a', 'r', 'g', 'u', 'm', 'e', 'n', 't']"
     },
     "execution_count": 31,
     "metadata": {},
     "output_type": "execute_result"
    }
   ],
   "source": [
    "m.lazily_initialized"
   ],
   "metadata": {
    "collapsed": false
   }
  },
  {
   "cell_type": "markdown",
   "source": [
    "### property"
   ],
   "metadata": {
    "collapsed": false
   }
  },
  {
   "cell_type": "code",
   "execution_count": 1,
   "outputs": [
    {
     "data": {
      "text/plain": "(15, 24)"
     },
     "execution_count": 1,
     "metadata": {},
     "output_type": "execute_result"
    }
   ],
   "source": [
    "# property：一个内置的描述符，它知道如何将一个属性链接到一组方法上\n",
    "# property接受4个参数：fget、fset、fdel和doc\n",
    "class Rectangle:\n",
    "    def __init__(self, x1, y1, x2, y2):\n",
    "        self.x1, self.y1 = x1, y1\n",
    "        self.x2, self.y2 = x2, y2\n",
    "\n",
    "    def _width_get(self):\n",
    "        return self.x2 - self.x1\n",
    "\n",
    "    def _width_set(self, value):\n",
    "        self.x2 = self.x1 + value\n",
    "\n",
    "    def _height_get(self):\n",
    "        return self.y2 - self.y1\n",
    "\n",
    "    def _height_set(self, value):\n",
    "        self.y2 = self.y1 + value\n",
    "\n",
    "    width = property(_width_get, _width_set, doc='rectangle width measured from left')\n",
    "    height = property(_height_get, _height_set, doc='rectangle height measured from top')\n",
    "\n",
    "    def __repr__(self):\n",
    "        return f'{self.__class__.__name__}({self.x1}, {self.y1}, {self.x2}, {self.y2})'\n",
    "\n",
    "\n",
    "# 实例化Rectangle对象\n",
    "rec = Rectangle(10, 10, 25, 34)\n",
    "\n",
    "# 获取对象实例的属性值时，property依据传入的fget进行处理\n",
    "rec.width, rec.height"
   ],
   "metadata": {
    "collapsed": false
   }
  },
  {
   "cell_type": "code",
   "execution_count": 2,
   "outputs": [
    {
     "data": {
      "text/plain": "Rectangle(10, 10, 110, 34)"
     },
     "execution_count": 2,
     "metadata": {},
     "output_type": "execute_result"
    }
   ],
   "source": [
    "# 更改对象实例的属性值时，property依据传入的fset进行处理\n",
    "rec.width = 100\n",
    "rec"
   ],
   "metadata": {
    "collapsed": false
   }
  },
  {
   "cell_type": "code",
   "execution_count": 3,
   "outputs": [
    {
     "data": {
      "text/plain": "Rectangle(10, 10, 110, 110)"
     },
     "execution_count": 3,
     "metadata": {},
     "output_type": "execute_result"
    }
   ],
   "source": [
    "rec.height = 100\n",
    "rec"
   ],
   "metadata": {
    "collapsed": false
   }
  },
  {
   "cell_type": "code",
   "execution_count": 4,
   "outputs": [
    {
     "name": "stdout",
     "output_type": "stream",
     "text": [
      "Help on Rectangle in module __main__ object:\n",
      "\n",
      "class Rectangle(builtins.object)\n",
      " |  Rectangle(x1, y1, x2, y2)\n",
      " |  \n",
      " |  Methods defined here:\n",
      " |  \n",
      " |  __init__(self, x1, y1, x2, y2)\n",
      " |      Initialize self.  See help(type(self)) for accurate signature.\n",
      " |  \n",
      " |  __repr__(self)\n",
      " |      Return repr(self).\n",
      " |  \n",
      " |  ----------------------------------------------------------------------\n",
      " |  Data descriptors defined here:\n",
      " |  \n",
      " |  __dict__\n",
      " |      dictionary for instance variables (if defined)\n",
      " |  \n",
      " |  __weakref__\n",
      " |      list of weak references to the object (if defined)\n",
      " |  \n",
      " |  height\n",
      " |      rectangle height measured from top\n",
      " |  \n",
      " |  width\n",
      " |      rectangle width measured from left\n",
      "\n"
     ]
    }
   ],
   "source": [
    "help(rec)"
   ],
   "metadata": {
    "collapsed": false
   }
  },
  {
   "cell_type": "code",
   "execution_count": 5,
   "outputs": [
    {
     "data": {
      "text/plain": "100"
     },
     "execution_count": 5,
     "metadata": {},
     "output_type": "execute_result"
    }
   ],
   "source": [
    "# 但在使用类的继承事必须小心处理，所创建的属性时利用当前类的方法实时创建的，不会使用派生类中覆写的方法\n",
    "class MetricRectangle(Rectangle):\n",
    "    def _width_get(self):\n",
    "        return f'{self.x2 - self.x1} meters'\n",
    "\n",
    "\n",
    "MetricRectangle(0, 0, 100, 100).width"
   ],
   "metadata": {
    "collapsed": false
   }
  },
  {
   "cell_type": "code",
   "execution_count": 6,
   "outputs": [
    {
     "data": {
      "text/plain": "'100 meters'"
     },
     "execution_count": 6,
     "metadata": {},
     "output_type": "execute_result"
    }
   ],
   "source": [
    "# 为了解决上述问题，需要在派生类中覆写整个property\n",
    "class MetricRectangle(Rectangle):\n",
    "    def _width_get(self):\n",
    "        return f'{self.x2 - self.x1} meters'\n",
    "    width = property(_width_get, Rectangle.width.fset)\n",
    "\n",
    "\n",
    "MetricRectangle(0, 0, 100, 100).width"
   ],
   "metadata": {
    "collapsed": false
   }
  },
  {
   "cell_type": "code",
   "execution_count": 12,
   "outputs": [
    {
     "data": {
      "text/plain": "15"
     },
     "execution_count": 12,
     "metadata": {},
     "output_type": "execute_result"
    }
   ],
   "source": [
    "# 上述方法存在维护性问题：如果更改父类，却忘记修改property调用的话，就会产生问题\n",
    "# 因此推荐在派生类中覆写所有的property方法，而不是依赖父类实现\n",
    "# 基于以上原因，property的最佳语法是将其作为装饰器\n",
    "class Rectangle:\n",
    "    def __init__(self, x1, y1, x2, y2):\n",
    "        self.x1, self.y1 = x1, y1\n",
    "        self.x2, self.y2 = x2, y2\n",
    "\n",
    "    @property\n",
    "    def width(self):\n",
    "        \"\"\"rectangle width measured from left\"\"\"\n",
    "        return self.x2 - self.x1\n",
    "\n",
    "    @width.setter\n",
    "    def width(self, value):\n",
    "        self.x2 = self.x1 + value\n",
    "\n",
    "    @property\n",
    "    def height(self):\n",
    "        \"\"\"rectangle width measured from top\"\"\"\n",
    "        return self.y2 - self.y1\n",
    "\n",
    "    @height.setter\n",
    "    def height(self, value):\n",
    "        self.y2 = self.y1 + value\n",
    "\n",
    "    def __repr__(self):\n",
    "        return f'{self.__class__.__name__}({self.x1}, {self.y1}, {self.x2}, {self.y2})'\n",
    "\n",
    "\n",
    "rec = Rectangle(10, 10, 25, 34)\n",
    "rec.width"
   ],
   "metadata": {
    "collapsed": false
   }
  },
  {
   "cell_type": "code",
   "execution_count": 13,
   "outputs": [
    {
     "data": {
      "text/plain": "Rectangle(10, 10, 110, 34)"
     },
     "execution_count": 13,
     "metadata": {},
     "output_type": "execute_result"
    }
   ],
   "source": [
    "rec.width = 100\n",
    "rec"
   ],
   "metadata": {
    "collapsed": false
   }
  },
  {
   "cell_type": "code",
   "execution_count": 14,
   "outputs": [
    {
     "name": "stdout",
     "output_type": "stream",
     "text": [
      "Help on class Rectangle in module __main__:\n",
      "\n",
      "class Rectangle(builtins.object)\n",
      " |  Rectangle(x1, y1, x2, y2)\n",
      " |  \n",
      " |  Methods defined here:\n",
      " |  \n",
      " |  __init__(self, x1, y1, x2, y2)\n",
      " |      Initialize self.  See help(type(self)) for accurate signature.\n",
      " |  \n",
      " |  __repr__(self)\n",
      " |      Return repr(self).\n",
      " |  \n",
      " |  ----------------------------------------------------------------------\n",
      " |  Data descriptors defined here:\n",
      " |  \n",
      " |  __dict__\n",
      " |      dictionary for instance variables (if defined)\n",
      " |  \n",
      " |  __weakref__\n",
      " |      list of weak references to the object (if defined)\n",
      " |  \n",
      " |  height\n",
      " |      rectangle width measured from top\n",
      " |  \n",
      " |  width\n",
      " |      rectangle width measured from left\n",
      "\n"
     ]
    }
   ],
   "source": [
    "help(Rectangle)"
   ],
   "metadata": {
    "collapsed": false
   }
  },
  {
   "cell_type": "markdown",
   "source": [
    "### 槽（slots）"
   ],
   "metadata": {
    "collapsed": false
   }
  },
  {
   "cell_type": "code",
   "execution_count": 16,
   "outputs": [
    {
     "data": {
      "text/plain": "False"
     },
     "execution_count": 16,
     "metadata": {},
     "output_type": "execute_result"
    }
   ],
   "source": [
    "# __slots__可以为类设置一个静态属性列表，并在类的每个实例中跳过__dict__字典的创建过程\n",
    "# 它可以为属性很少的类节约内存空间，此外，它还有助于设计签名需要被冻结的类\n",
    "# 例如，限制一个类的语言动态特性\n",
    "class Frozen:\n",
    "    __slots__ = ['ice', 'cream']\n",
    "\n",
    "\n",
    "'__dict__' in dir(Frozen)"
   ],
   "metadata": {
    "collapsed": false
   }
  },
  {
   "cell_type": "code",
   "execution_count": 17,
   "outputs": [
    {
     "data": {
      "text/plain": "True"
     },
     "execution_count": 17,
     "metadata": {},
     "output_type": "execute_result"
    }
   ],
   "source": [
    "'ice' in dir(Frozen)"
   ],
   "metadata": {
    "collapsed": false
   }
  },
  {
   "cell_type": "code",
   "execution_count": 18,
   "outputs": [
    {
     "ename": "AttributeError",
     "evalue": "'Frozen' object has no attribute 'icy'",
     "output_type": "error",
     "traceback": [
      "\u001B[1;31m---------------------------------------------------------------------------\u001B[0m",
      "\u001B[1;31mAttributeError\u001B[0m                            Traceback (most recent call last)",
      "Cell \u001B[1;32mIn[18], line 4\u001B[0m\n\u001B[0;32m      2\u001B[0m frozen\u001B[38;5;241m.\u001B[39mice \u001B[38;5;241m=\u001B[39m \u001B[38;5;28;01mTrue\u001B[39;00m\n\u001B[0;32m      3\u001B[0m frozen\u001B[38;5;241m.\u001B[39mcream \u001B[38;5;241m=\u001B[39m \u001B[38;5;28;01mNone\u001B[39;00m\n\u001B[1;32m----> 4\u001B[0m \u001B[43mfrozen\u001B[49m\u001B[38;5;241;43m.\u001B[39;49m\u001B[43micy\u001B[49m \u001B[38;5;241m=\u001B[39m \u001B[38;5;28;01mTrue\u001B[39;00m\n",
      "\u001B[1;31mAttributeError\u001B[0m: 'Frozen' object has no attribute 'icy'"
     ]
    }
   ],
   "source": [
    "frozen = Frozen()\n",
    "frozen.ice = True\n",
    "frozen.cream = None\n",
    "frozen.icy = True"
   ],
   "metadata": {
    "collapsed": false
   }
  },
  {
   "cell_type": "markdown",
   "source": [
    "### 元编程"
   ],
   "metadata": {
    "collapsed": false
   }
  },
  {
   "cell_type": "code",
   "execution_count": 29,
   "outputs": [
    {
     "data": {
      "text/plain": "<__main_"
     },
     "execution_count": 29,
     "metadata": {},
     "output_type": "execute_result"
    }
   ],
   "source": [
    "# 元编程：一种编写计算机程序的技术，这些程序可以将自己看做数据\n",
    "# 因此，你可以在运行时对它进行内省、生成或修改\n",
    "# python元编程方法：装饰器、类的特殊方法、元类\n",
    "# 类装饰器：与装饰器类似，但返回值是一个类，而不是函数对象\n",
    "def short_repr(cls):\n",
    "    \"\"\"一个修改任意类repr方法的类装饰器\"\"\"\n",
    "    cls.__repr__ = lambda self: super(cls, self).__repr__()[:8]\n",
    "    return cls\n",
    "\n",
    "@short_repr\n",
    "class ClassWithLongName:\n",
    "    pass\n",
    "\n",
    "\n",
    "ClassWithLongName()"
   ],
   "metadata": {
    "collapsed": false
   }
  },
  {
   "cell_type": "code",
   "execution_count": 30,
   "outputs": [
    {
     "data": {
      "text/plain": "__main__.parametrized_short_repr.<locals>.parametrized.<locals>.ShortlyRepresented"
     },
     "execution_count": 30,
     "metadata": {},
     "output_type": "execute_result"
    }
   ],
   "source": [
    "# 编写函数装饰器的其他内容也适用于类装饰器\n",
    "# 最重要的，它可以使用闭包（在函数内部引用外部作用域的变量）\n",
    "def parametrized_short_repr(max_width=8):\n",
    "    \"\"\"缩短表示的参数化装饰器\"\"\"\n",
    "    def parametrized(cls):\n",
    "        \"\"\"内部包装函数，是实际的装饰器\"\"\"\n",
    "        class ShortlyRepresented(cls):\n",
    "            \"\"\"提供装饰器行为的子类\"\"\"\n",
    "            def __repr__(self):\n",
    "                return super().__repr__()[:max_width]\n",
    "\n",
    "        return  ShortlyRepresented\n",
    "\n",
    "    return  parametrized\n",
    "\n",
    "\n",
    "# 在类装饰器中使用闭包的主要缺点是，生成的对象不在是被装饰的类的实例，而是在装饰器中动态创建的子类的实例\n",
    "# 这会影响类的__name__和__doc__等属性\n",
    "@parametrized_short_repr(10)\n",
    "class ClassWithLittleBitLongerLongName:\n",
    "    pass\n",
    "\n",
    "\n",
    "ClassWithLittleBitLongerLongName().__class__"
   ],
   "metadata": {
    "collapsed": false
   }
  },
  {
   "cell_type": "code",
   "execution_count": 31,
   "outputs": [
    {
     "data": {
      "text/plain": "'提供装饰器行为的子类'"
     },
     "execution_count": 31,
     "metadata": {},
     "output_type": "execute_result"
    }
   ],
   "source": [
    "ClassWithLittleBitLongerLongName().__doc__"
   ],
   "metadata": {
    "collapsed": false
   }
  },
  {
   "cell_type": "code",
   "execution_count": 32,
   "outputs": [
    {
     "name": "stdout",
     "output_type": "stream",
     "text": [
      "__new__() called with <class '__main__.InstanceCountingClass'> ('abc',) {}\n",
      "__init__() called with <__main__.InstanceCountingClass object at 0x000001FF420C40D0> abc\n"
     ]
    }
   ],
   "source": [
    "# 使用__new__()方法覆写实例创建过程\n",
    "# __new__()是一种负责创建类实例的静态方法，其调用优先于__init__()初始化方法\n",
    "# 通常，覆写__new__()的实现将会使用合适的参数调用超类的super().__new__()，并在返回前修改实例\n",
    "class InstanceCountingClass:\n",
    "    instances_created = 0\n",
    "    def __new__(cls, *args, **kwargs):\n",
    "        print(\"__new__() called with\", cls, args, kwargs)\n",
    "        instance = super().__new__(cls)\n",
    "        instance.number = cls.instances_created\n",
    "        cls.instances_created += 1\n",
    "        return instance\n",
    "\n",
    "    def __init__(self, attr):\n",
    "        print('__init__() called with', self, attr)\n",
    "        self.attr = attr\n",
    "\n",
    "\n",
    "instance1 = InstanceCountingClass('abc')"
   ],
   "metadata": {
    "collapsed": false
   }
  },
  {
   "cell_type": "code",
   "execution_count": 33,
   "outputs": [
    {
     "name": "stdout",
     "output_type": "stream",
     "text": [
      "__new__() called with <class '__main__.InstanceCountingClass'> ('xyz',) {}\n",
      "__init__() called with <__main__.InstanceCountingClass object at 0x000001FF420C4130> xyz\n"
     ]
    }
   ],
   "source": [
    "instance2 = InstanceCountingClass('xyz')"
   ],
   "metadata": {
    "collapsed": false
   }
  },
  {
   "cell_type": "code",
   "execution_count": 34,
   "outputs": [
    {
     "data": {
      "text/plain": "(0, 2)"
     },
     "execution_count": 34,
     "metadata": {},
     "output_type": "execute_result"
    }
   ],
   "source": [
    "instance1.number, instance1.instances_created"
   ],
   "metadata": {
    "collapsed": false
   }
  },
  {
   "cell_type": "code",
   "execution_count": 35,
   "outputs": [
    {
     "data": {
      "text/plain": "(1, 2)"
     },
     "execution_count": 35,
     "metadata": {},
     "output_type": "execute_result"
    }
   ],
   "source": [
    "instance2.number, instance2.instances_created"
   ],
   "metadata": {
    "collapsed": false
   }
  },
  {
   "cell_type": "code",
   "execution_count": 38,
   "outputs": [
    {
     "name": "stdout",
     "output_type": "stream",
     "text": [
      "__init__() called\n"
     ]
    },
    {
     "data": {
      "text/plain": "__main__.NonZero"
     },
     "execution_count": 38,
     "metadata": {},
     "output_type": "execute_result"
    }
   ],
   "source": [
    "# 通常，__new__()方法应该返回该类的一个实例，但也可以返回其他类的实例\n",
    "# 当返回了其他类的实例事，那么将跳过对__init__()方法的调用\n",
    "class NonZero(int):\n",
    "    \"\"\"一个非零的整数子类\"\"\"\n",
    "    def __new__(cls, value):\n",
    "        return super().__new__(cls, value) if value != 0 else None\n",
    "\n",
    "    def __init__(self, x):\n",
    "        print('__init__() called')\n",
    "        super().__init__()\n",
    "\n",
    "\n",
    "type(NonZero(-12))"
   ],
   "metadata": {
    "collapsed": false
   }
  },
  {
   "cell_type": "code",
   "execution_count": 39,
   "outputs": [
    {
     "data": {
      "text/plain": "NoneType"
     },
     "execution_count": 39,
     "metadata": {},
     "output_type": "execute_result"
    }
   ],
   "source": [
    "type(NonZero(0))"
   ],
   "metadata": {
    "collapsed": false
   }
  },
  {
   "cell_type": "code",
   "execution_count": 40,
   "outputs": [
    {
     "data": {
      "text/plain": "1"
     },
     "execution_count": 40,
     "metadata": {},
     "output_type": "execute_result"
    }
   ],
   "source": [
    "# 元类：定义其他类（型）的一种类（型），python中所有类定义的基类都是内置的type类\n",
    "# 我们可以将某个类的元类替换为我们自定义的类\n",
    "# 通常，新的元类仍然是type类的子类\n",
    "# 调用内置的type()类可以作为class语句的动态等效\n",
    "# 给定名称，基类和包含的属性的映射，它会创建一个新的类对象\n",
    "def method(self):\n",
    "    return 1\n",
    "\n",
    "klass = type('MyClass', (object,), {'method': method})\n",
    "instance = klass()\n",
    "instance.method()"
   ],
   "metadata": {
    "collapsed": false
   }
  },
  {
   "cell_type": "code",
   "execution_count": null,
   "outputs": [],
   "source": [
    "# 用class语句创建的每个类都会隐式地使用type作为其元类\n",
    "# 可以通过向class语句提供metaclass关键字参数来改变这一默认行为\n",
    "# metaclass参数的值通常是另一个类对象，但它可以是任意可调用对象，只要接受与type类相同的参数并返回另一个类对象即可\n",
    "# 调用签名为type(name, bases, namespace)\n",
    "# 元类的常用模板：\n",
    "class MataClass(type):\n",
    "    def __new__(mcs, name, bases, namespace):\n",
    "        \"\"\"\n",
    "        复杂类对象的实际创建，其创建方式与普通类相同。\n",
    "        第一个位置的参数时一个元类对象，在本例中就是MetaClass\n",
    "\n",
    "        注意：mcs是这一参数常用的命名约定\n",
    "\n",
    "        :param name: 这是将保存在__name__属性中的类名称\n",
    "        :param bases: 这是父类的列表，将成为__bases__属性，并用于构建新创建的类的MRO\n",
    "        :param namespace: 这是包含类主体定义的命名空间（映射），将成为__dict__属性\n",
    "        \"\"\"\n",
    "        return super().__new__(mcs, name, bases, namespace)\n",
    "\n",
    "    @classmethod\n",
    "    def __prepare__(mcs, name, bases, **kwargs):\n",
    "        \"\"\"\n",
    "        创建一个空的命名空间对象。\n",
    "\n",
    "        注意：它不接受namespace作为参数，因为在它调用前命名空间不存在。\n",
    "\n",
    "        :return: 默认返回一个空的dict但可以覆写并使其返回其他任何映射类型\n",
    "        \"\"\"\n",
    "        return super().__prepare__(name, bases, **kwargs)\n",
    "\n",
    "    def __init__(cls, name, bases, namespace, **kwargs):\n",
    "        \"\"\"\n",
    "        这在元类的实现中并不常见，但其含义与普通类中的含义相同。一旦__new__()创建完成，\n",
    "        它可以执行其他类对象的初始化过程。现在第一个位置参数的命名约定为cls，说明它已经\n",
    "        是一个创建好的类对象（元类的实例），而不是一个元类对象。__init__()被调用时，类\n",
    "        的构建已经完成，所以这一方法可以做的事情比__new__()要少。实现这样的方法非常类似\n",
    "        使用类装饰器，但主要区别在于，每个子类都会调用__init__()，而类装饰器则不会被子\n",
    "        类调用。\n",
    "        \"\"\"\n",
    "        super().__init__(name, bases, namespace)\n",
    "\n",
    "    def __call__(cls, *args, **kwargs):\n",
    "        \"\"\"\n",
    "        当调用元类实例时会调用这一方法。元类实例一个类对象，在创建类的新的实例时会调用它。\n",
    "        这一方法可以用于覆写类实例创建和初始化的默认方式。\n",
    "        \"\"\"\n",
    "        return super().__call__(*args, **kwargs)"
   ],
   "metadata": {
    "collapsed": false
   }
  },
  {
   "cell_type": "code",
   "execution_count": 41,
   "outputs": [
    {
     "name": "stdout",
     "output_type": "stream",
     "text": [
      "<class '__main__.RevealingMeta'> __prepare__ called\n",
      "<class '__main__.RevealingMeta'> __new__ called\n",
      "<class '__main__.RevealingClass'> __init__ called\n"
     ]
    }
   ],
   "source": [
    "# 元类 - 一个具体的例子\n",
    "class RevealingMeta(type):\n",
    "    def __new__(mcs, name, bases, namespace):\n",
    "        print(mcs, '__new__ called')\n",
    "        return super().__new__(mcs, name, bases, namespace)\n",
    "\n",
    "    @classmethod\n",
    "    def __prepare__(mcs, name, bases, **kwargs):\n",
    "        print(mcs, '__prepare__ called')\n",
    "        return super().__prepare__(name, bases, **kwargs)\n",
    "\n",
    "    def __init__(cls, name, bases, namespace, **kwargs):\n",
    "        print(cls, '__init__ called')\n",
    "        super().__init__(name, bases, namespace)\n",
    "\n",
    "    def __call__(cls, *args, **kwargs):\n",
    "        print(cls, '__call__ called')\n",
    "        return super().__call__(*args, **kwargs)\n",
    "\n",
    "\n",
    "# 利用RevealingMeta作为元类，创建新的类定义\n",
    "class RevealingClass(metaclass=RevealingMeta):\n",
    "    def __new__(cls, *args, **kwargs):\n",
    "        print(cls, '__new__ called')\n",
    "        return super().__new__(cls)\n",
    "\n",
    "    def __init__(self):\n",
    "        print(self, '__init__ called')\n",
    "        super().__init__()"
   ],
   "metadata": {
    "collapsed": false
   }
  },
  {
   "cell_type": "code",
   "execution_count": 42,
   "outputs": [
    {
     "name": "stdout",
     "output_type": "stream",
     "text": [
      "<class '__main__.RevealingClass'> __call__ called\n",
      "<class '__main__.RevealingClass'> __new__ called\n",
      "<__main__.RevealingClass object at 0x000001FF422C6980> __init__ called\n"
     ]
    }
   ],
   "source": [
    "instance = RevealingClass()"
   ],
   "metadata": {
    "collapsed": false
   }
  },
  {
   "cell_type": "code",
   "execution_count": null,
   "outputs": [],
   "source": [],
   "metadata": {
    "collapsed": false
   }
  }
 ],
 "metadata": {
  "kernelspec": {
   "display_name": "Python 3",
   "language": "python",
   "name": "python3"
  },
  "language_info": {
   "codemirror_mode": {
    "name": "ipython",
    "version": 2
   },
   "file_extension": ".py",
   "mimetype": "text/x-python",
   "name": "python",
   "nbconvert_exporter": "python",
   "pygments_lexer": "ipython2",
   "version": "2.7.6"
  }
 },
 "nbformat": 4,
 "nbformat_minor": 0
}
