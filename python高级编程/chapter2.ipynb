{
 "cells": [
  {
   "cell_type": "markdown",
   "source": [
    "### 子类化内置类型"
   ],
   "metadata": {
    "collapsed": false
   }
  },
  {
   "cell_type": "code",
   "execution_count": 1,
   "outputs": [
    {
     "ename": "DistinctError",
     "evalue": "this value already exists for different key",
     "output_type": "error",
     "traceback": [
      "\u001B[1;31m---------------------------------------------------------------------------\u001B[0m",
      "\u001B[1;31mDistinctError\u001B[0m                             Traceback (most recent call last)",
      "Cell \u001B[1;32mIn[1], line 19\u001B[0m\n\u001B[0;32m     17\u001B[0m my \u001B[38;5;241m=\u001B[39m DistinctDict()\n\u001B[0;32m     18\u001B[0m my[\u001B[38;5;124m'\u001B[39m\u001B[38;5;124mkey\u001B[39m\u001B[38;5;124m'\u001B[39m] \u001B[38;5;241m=\u001B[39m \u001B[38;5;124m'\u001B[39m\u001B[38;5;124mvalue\u001B[39m\u001B[38;5;124m'\u001B[39m\n\u001B[1;32m---> 19\u001B[0m \u001B[43mmy\u001B[49m\u001B[43m[\u001B[49m\u001B[38;5;124;43m'\u001B[39;49m\u001B[38;5;124;43mother_key\u001B[39;49m\u001B[38;5;124;43m'\u001B[39;49m\u001B[43m]\u001B[49m \u001B[38;5;241m=\u001B[39m \u001B[38;5;124m'\u001B[39m\u001B[38;5;124mvalue\u001B[39m\u001B[38;5;124m'\u001B[39m\n",
      "Cell \u001B[1;32mIn[1], line 13\u001B[0m, in \u001B[0;36mDistinctDict.__setitem__\u001B[1;34m(self, key, value)\u001B[0m\n\u001B[0;32m      9\u001B[0m \u001B[38;5;28;01mif\u001B[39;00m value \u001B[38;5;129;01min\u001B[39;00m \u001B[38;5;28mself\u001B[39m\u001B[38;5;241m.\u001B[39mvalues():\n\u001B[0;32m     10\u001B[0m     \u001B[38;5;28;01mif\u001B[39;00m (\n\u001B[0;32m     11\u001B[0m             (key \u001B[38;5;129;01min\u001B[39;00m \u001B[38;5;28mself\u001B[39m \u001B[38;5;129;01mand\u001B[39;00m \u001B[38;5;28mself\u001B[39m[key] \u001B[38;5;241m!=\u001B[39m value) \u001B[38;5;129;01mor\u001B[39;00m key \u001B[38;5;129;01mnot\u001B[39;00m \u001B[38;5;129;01min\u001B[39;00m \u001B[38;5;28mself\u001B[39m\n\u001B[0;32m     12\u001B[0m     ):\n\u001B[1;32m---> 13\u001B[0m         \u001B[38;5;28;01mraise\u001B[39;00m DistinctError(\u001B[38;5;124m\"\u001B[39m\u001B[38;5;124mthis value already exists for different key\u001B[39m\u001B[38;5;124m\"\u001B[39m)\n\u001B[0;32m     15\u001B[0m \u001B[38;5;28msuper\u001B[39m()\u001B[38;5;241m.\u001B[39m\u001B[38;5;21m__setitem__\u001B[39m(key, value)\n",
      "\u001B[1;31mDistinctError\u001B[0m: this value already exists for different key"
     ]
    }
   ],
   "source": [
    "# 一个不允许重复值的字典\n",
    "class DistinctError(ValueError):\n",
    "    \"\"\"如果向distinctdict添加重复值，则引发这个错误\"\"\"\n",
    "    ...\n",
    "\n",
    "class DistinctDict(dict):\n",
    "    \"\"\"不接受重复值的字典\"\"\"\n",
    "    def __setitem__(self, key, value):\n",
    "        if value in self.values():\n",
    "            if (\n",
    "                    (key in self and self[key] != value) or key not in self\n",
    "            ):\n",
    "                raise DistinctError(\"this value already exists for different key\")\n",
    "\n",
    "        super().__setitem__(key, value)\n",
    "\n",
    "my = DistinctDict()\n",
    "my['key'] = 'value'\n",
    "my['other_key'] = 'value'"
   ],
   "metadata": {
    "collapsed": false
   }
  },
  {
   "cell_type": "code",
   "execution_count": 2,
   "outputs": [
    {
     "data": {
      "text/plain": "{'key': 'value', 'other_key': 'value2'}"
     },
     "execution_count": 2,
     "metadata": {},
     "output_type": "execute_result"
    }
   ],
   "source": [
    "my['other_key'] = 'value2'\n",
    "my"
   ],
   "metadata": {
    "collapsed": false
   }
  },
  {
   "cell_type": "markdown",
   "source": [
    "### 访问超类中的方法"
   ],
   "metadata": {
    "collapsed": false
   }
  },
  {
   "cell_type": "code",
   "execution_count": 3,
   "outputs": [
    {
     "name": "stdout",
     "output_type": "stream",
     "text": [
      "do your homework\n",
      "and clean your bedroom\n"
     ]
    }
   ],
   "source": [
    "# 访问超类中的方法\n",
    "# 旧的写法\n",
    "class Mama:\n",
    "    def says(self):\n",
    "        print('do your homework')\n",
    "\n",
    "\n",
    "class Sister(Mama):\n",
    "    def says(self):\n",
    "        Mama.says(self)\n",
    "        print('and clean your bedroom')\n",
    "\n",
    "Sister().says()"
   ],
   "metadata": {
    "collapsed": false
   }
  },
  {
   "cell_type": "code",
   "execution_count": 4,
   "outputs": [
    {
     "name": "stdout",
     "output_type": "stream",
     "text": [
      "do your homework\n",
      "and clean your bedroom\n"
     ]
    }
   ],
   "source": [
    "# super方法访问超类\n",
    "class Sister(Mama):\n",
    "    def says(self):\n",
    "        super().says() # 简化形式可以在方法内部使用\n",
    "        print('and clean your bedroom')\n",
    "\n",
    "Sister().says()"
   ],
   "metadata": {
    "collapsed": false
   }
  },
  {
   "cell_type": "code",
   "execution_count": 5,
   "outputs": [
    {
     "name": "stdout",
     "output_type": "stream",
     "text": [
      "do your homework\n"
     ]
    }
   ],
   "source": [
    "# super不在方法内部使用时\n",
    "anita = Sister()\n",
    "super(anita.__class__, anita).says()"
   ],
   "metadata": {
    "collapsed": false
   }
  },
  {
   "cell_type": "code",
   "execution_count": 13,
   "outputs": [
    {
     "name": "stdout",
     "output_type": "stream",
     "text": [
      "Pizza with spam and ham and eggs\n",
      "Pizza with spam and ham and eggs and spam and spam and spam and spam and spam\n"
     ]
    }
   ],
   "source": [
    "# 如果super只提供了一个参数，那么它将返回一个未绑定（unbound）类型\n",
    "# 这一点在与classmethod一起使用时特别有用\n",
    "class Pizza:\n",
    "    def __init__(self, toppings):\n",
    "        self.toppings = toppings\n",
    "\n",
    "    def __repr__(self):\n",
    "        return 'Pizza with ' + ' and '.join(self.toppings)\n",
    "\n",
    "    @classmethod\n",
    "    def recommend(cls):\n",
    "        \"\"\"推荐任意馅料（toppings）的某种披萨\"\"\"\n",
    "        return cls(['spam', 'ham', 'eggs'])\n",
    "\n",
    "\n",
    "class VikingPizza(Pizza):\n",
    "    @classmethod\n",
    "    def recommend(cls):\n",
    "        \"\"\"推荐与super相同的内容，但多加了午餐肉（spam）\"\"\"\n",
    "        recommended = super().recommend()\n",
    "        recommended.toppings += ['spam'] * 5\n",
    "        return recommended\n",
    "\n",
    "print(Pizza.recommend())\n",
    "print(VikingPizza.recommend())"
   ],
   "metadata": {
    "collapsed": false
   }
  },
  {
   "cell_type": "code",
   "execution_count": 20,
   "outputs": [
    {
     "data": {
      "text/plain": "(__main__.C, __main__.A, __main__.B, object)"
     },
     "execution_count": 20,
     "metadata": {},
     "output_type": "execute_result"
    }
   ],
   "source": [
    "# 错误案例 - 混用super与显式类调用\n",
    "class A:\n",
    "    def __init__(self):\n",
    "        print('A', end=' ')\n",
    "        super().__init__()\n",
    "\n",
    "\n",
    "class B:\n",
    "    def __init__(self):\n",
    "        print('B', end=' ')\n",
    "        super().__init__()\n",
    "\n",
    "\n",
    "class C(A, B):\n",
    "    def __init__(self):\n",
    "        print('C', end=' ')\n",
    "        A.__init__(self)\n",
    "        B.__init__(self)\n",
    "\n",
    "\n",
    "# 类的继承顺序\n",
    "C.__mro__"
   ],
   "metadata": {
    "collapsed": false
   }
  },
  {
   "cell_type": "code",
   "execution_count": 21,
   "outputs": [
    {
     "name": "stdout",
     "output_type": "stream",
     "text": [
      "C A B B "
     ]
    },
    {
     "data": {
      "text/plain": "<__main__.C at 0x1eb7f511ab0>"
     },
     "execution_count": 21,
     "metadata": {},
     "output_type": "execute_result"
    }
   ],
   "source": [
    "# C的实例调用了A.__init__(self) -> super(A, self).__init__() —> B.__init__()方法\n",
    "# 因此会打印2次B\n",
    "C()"
   ],
   "metadata": {
    "collapsed": false
   }
  },
  {
   "cell_type": "code",
   "execution_count": 22,
   "outputs": [
    {
     "name": "stdout",
     "output_type": "stream",
     "text": [
      "my base\n"
     ]
    },
    {
     "ename": "TypeError",
     "evalue": "Base1.__init__() takes 1 positional argument but 2 were given",
     "output_type": "error",
     "traceback": [
      "\u001B[1;31m---------------------------------------------------------------------------\u001B[0m",
      "\u001B[1;31mTypeError\u001B[0m                                 Traceback (most recent call last)",
      "Cell \u001B[1;32mIn[22], line 25\u001B[0m\n\u001B[0;32m     22\u001B[0m         \u001B[38;5;28mprint\u001B[39m(\u001B[38;5;124m'\u001B[39m\u001B[38;5;124mmy base\u001B[39m\u001B[38;5;124m'\u001B[39m)\n\u001B[0;32m     23\u001B[0m         \u001B[38;5;28msuper\u001B[39m()\u001B[38;5;241m.\u001B[39m\u001B[38;5;21m__init__\u001B[39m(arg)\n\u001B[1;32m---> 25\u001B[0m \u001B[43mMyClass\u001B[49m\u001B[43m(\u001B[49m\u001B[38;5;241;43m10\u001B[39;49m\u001B[43m)\u001B[49m\n",
      "Cell \u001B[1;32mIn[22], line 23\u001B[0m, in \u001B[0;36mMyClass.__init__\u001B[1;34m(self, arg)\u001B[0m\n\u001B[0;32m     21\u001B[0m \u001B[38;5;28;01mdef\u001B[39;00m \u001B[38;5;21m__init__\u001B[39m(\u001B[38;5;28mself\u001B[39m, arg):\n\u001B[0;32m     22\u001B[0m     \u001B[38;5;28mprint\u001B[39m(\u001B[38;5;124m'\u001B[39m\u001B[38;5;124mmy base\u001B[39m\u001B[38;5;124m'\u001B[39m)\n\u001B[1;32m---> 23\u001B[0m     \u001B[38;5;28;43msuper\u001B[39;49m\u001B[43m(\u001B[49m\u001B[43m)\u001B[49m\u001B[38;5;241;43m.\u001B[39;49m\u001B[38;5;21;43m__init__\u001B[39;49m\u001B[43m(\u001B[49m\u001B[43marg\u001B[49m\u001B[43m)\u001B[49m\n",
      "\u001B[1;31mTypeError\u001B[0m: Base1.__init__() takes 1 positional argument but 2 were given"
     ]
    }
   ],
   "source": [
    "# 初始化过程中的参数传递\n",
    "class CommonBase:\n",
    "    def __init__(self):\n",
    "        print('CommonBase')\n",
    "        super().__init__()\n",
    "\n",
    "\n",
    "class Base1(CommonBase):\n",
    "    def __init__(self):\n",
    "        print('Base1')\n",
    "        super().__init__()\n",
    "\n",
    "\n",
    "class Base2(CommonBase):\n",
    "    def __init__(self, arg):\n",
    "        print('Base2')\n",
    "        super().__init__()\n",
    "\n",
    "\n",
    "class MyClass(Base1, Base2):\n",
    "    def __init__(self, arg):\n",
    "        print('my base')\n",
    "        super().__init__(arg)\n",
    "\n",
    "MyClass(10)"
   ],
   "metadata": {
    "collapsed": false
   }
  },
  {
   "cell_type": "markdown",
   "source": [
    "### MRO"
   ],
   "metadata": {
    "collapsed": false
   }
  },
  {
   "cell_type": "code",
   "execution_count": 16,
   "outputs": [
    {
     "data": {
      "text/plain": "(__main__.MyClass, __main__.Base1, __main__.Base2, __main__.CommonBase, object)"
     },
     "execution_count": 16,
     "metadata": {},
     "output_type": "execute_result"
    }
   ],
   "source": [
    "# MRO：方法解析顺序\n",
    "class CommonBase:\n",
    "    def method(self):\n",
    "        print('CommonBase')\n",
    "\n",
    "\n",
    "class Base1(CommonBase):\n",
    "    pass\n",
    "\n",
    "\n",
    "class Base2(CommonBase):\n",
    "    def method(self):\n",
    "        print('Base2')\n",
    "\n",
    "\n",
    "class MyClass(Base1, Base2):\n",
    "    pass\n",
    "\n",
    "\n",
    "# 调用类中方法的顺序\n",
    "MyClass.__mro__"
   ],
   "metadata": {
    "collapsed": false
   }
  },
  {
   "cell_type": "code",
   "execution_count": 17,
   "outputs": [
    {
     "name": "stdout",
     "output_type": "stream",
     "text": [
      "Base2\n"
     ]
    }
   ],
   "source": [
    "MyClass().method()"
   ],
   "metadata": {
    "collapsed": false
   }
  },
  {
   "cell_type": "markdown",
   "source": [
    "### 高级属性访问模式"
   ],
   "metadata": {
    "collapsed": false
   }
  },
  {
   "cell_type": "code",
   "execution_count": 23,
   "outputs": [
    {
     "ename": "AttributeError",
     "evalue": "'MyClass' object has no attribute '__secret_value'",
     "output_type": "error",
     "traceback": [
      "\u001B[1;31m---------------------------------------------------------------------------\u001B[0m",
      "\u001B[1;31mAttributeError\u001B[0m                            Traceback (most recent call last)",
      "Cell \u001B[1;32mIn[23], line 8\u001B[0m\n\u001B[0;32m      4\u001B[0m     __secret_value \u001B[38;5;241m=\u001B[39m \u001B[38;5;241m1\u001B[39m\n\u001B[0;32m      7\u001B[0m instance_of \u001B[38;5;241m=\u001B[39m MyClass()\n\u001B[1;32m----> 8\u001B[0m \u001B[43minstance_of\u001B[49m\u001B[38;5;241;43m.\u001B[39;49m\u001B[43m__secret_value\u001B[49m\n",
      "\u001B[1;31mAttributeError\u001B[0m: 'MyClass' object has no attribute '__secret_value'"
     ]
    }
   ],
   "source": [
    "# 名称修饰：以__开始的变量是类的私有属性\n",
    "# 直接访问私有属性会报错，该属性会被解释器重命名\n",
    "class MyClass:\n",
    "    __secret_value = 1\n",
    "\n",
    "\n",
    "instance_of = MyClass()\n",
    "instance_of.__secret_value"
   ],
   "metadata": {
    "collapsed": false
   }
  },
  {
   "cell_type": "code",
   "execution_count": 24,
   "outputs": [
    {
     "data": {
      "text/plain": "['_MyClass__secret_value',\n '__class__',\n '__delattr__',\n '__dict__',\n '__dir__',\n '__doc__',\n '__eq__',\n '__format__',\n '__ge__',\n '__getattribute__',\n '__gt__',\n '__hash__',\n '__init__',\n '__init_subclass__',\n '__le__',\n '__lt__',\n '__module__',\n '__ne__',\n '__new__',\n '__reduce__',\n '__reduce_ex__',\n '__repr__',\n '__setattr__',\n '__sizeof__',\n '__str__',\n '__subclasshook__',\n '__weakref__']"
     },
     "execution_count": 24,
     "metadata": {},
     "output_type": "execute_result"
    }
   ],
   "source": [
    "dir(MyClass)"
   ],
   "metadata": {
    "collapsed": false
   }
  },
  {
   "cell_type": "code",
   "execution_count": 25,
   "outputs": [
    {
     "data": {
      "text/plain": "1"
     },
     "execution_count": 25,
     "metadata": {},
     "output_type": "execute_result"
    }
   ],
   "source": [
    "instance_of._MyClass__secret_value"
   ],
   "metadata": {
    "collapsed": false
   }
  },
  {
   "cell_type": "code",
   "execution_count": 26,
   "outputs": [
    {
     "name": "stdout",
     "output_type": "stream",
     "text": [
      "Retrieving var x\n"
     ]
    },
    {
     "data": {
      "text/plain": "10"
     },
     "execution_count": 26,
     "metadata": {},
     "output_type": "execute_result"
    }
   ],
   "source": [
    "# 描述符允许你自定义在引用一个对象的属性时应该完成的事\n",
    "# 描述符是Python中复杂属性访问的基础\n",
    "# 它基于3个特殊方法，这3个方法组成了描述符协议：\n",
    "# 1.__set__(self, instance, value)：在设置属性时将调用这一方法\n",
    "# 2.__get__(self, instance, owner)：在读取属性时将调用这一方法\n",
    "# 3.__delete__(self, obj)：对属性调用del时将调用这一方法\n",
    "# 实现了__get__()和__set__()的描述符被称为数据描述符\n",
    "class RevealAccess:\n",
    "    \"\"\"一个数据描述符，正常设定值并返回值，同时打印出记录访问的信息\"\"\"\n",
    "    def __init__(self, initval=None, name='var'):\n",
    "        self.value = initval\n",
    "        self.name = name\n",
    "\n",
    "    def __get__(self, instance, owner):\n",
    "        print('Retrieving', self.name)\n",
    "        return self.value\n",
    "\n",
    "    def __set__(self, instance, value):\n",
    "        print('Updating', self.name)\n",
    "        self.value = value\n",
    "\n",
    "\n",
    "class MyClass:\n",
    "    x = RevealAccess(10, 'var x')\n",
    "    y = 5\n",
    "\n",
    "m = MyClass()\n",
    "m.x"
   ],
   "metadata": {
    "collapsed": false
   }
  },
  {
   "cell_type": "code",
   "execution_count": 27,
   "outputs": [
    {
     "name": "stdout",
     "output_type": "stream",
     "text": [
      "Updating var x\n"
     ]
    }
   ],
   "source": [
    "m.x = 20"
   ],
   "metadata": {
    "collapsed": false
   }
  },
  {
   "cell_type": "code",
   "execution_count": 28,
   "outputs": [
    {
     "name": "stdout",
     "output_type": "stream",
     "text": [
      "Retrieving var x\n"
     ]
    },
    {
     "data": {
      "text/plain": "20"
     },
     "execution_count": 28,
     "metadata": {},
     "output_type": "execute_result"
    }
   ],
   "source": [
    "m.x"
   ],
   "metadata": {
    "collapsed": false
   }
  },
  {
   "cell_type": "code",
   "execution_count": 29,
   "outputs": [
    {
     "data": {
      "text/plain": "5"
     },
     "execution_count": 29,
     "metadata": {},
     "output_type": "execute_result"
    }
   ],
   "source": [
    "m.y"
   ],
   "metadata": {
    "collapsed": false
   }
  },
  {
   "cell_type": "code",
   "execution_count": 30,
   "outputs": [
    {
     "name": "stdout",
     "output_type": "stream",
     "text": [
      "initialized!\n"
     ]
    },
    {
     "data": {
      "text/plain": "['a', 'r', 'g', 'u', 'm', 'e', 'n', 't']"
     },
     "execution_count": 30,
     "metadata": {},
     "output_type": "execute_result"
    }
   ],
   "source": [
    "# 描述符的一个示例：延迟求值属性\n",
    "class InitOnAccess:\n",
    "    def __init__(self, klass, *args, **kwargs):\n",
    "        self.klass = klass\n",
    "        self.args = args\n",
    "        self.kwargs = kwargs\n",
    "        self._initialized = None\n",
    "\n",
    "    def __get__(self, instance, owner):\n",
    "        if self._initialized is None:\n",
    "            print('initialized!')\n",
    "            self._initialized = self.klass(*self.args, **self.kwargs)\n",
    "        else:\n",
    "            print('cached')\n",
    "        return self._initialized\n",
    "\n",
    "\n",
    "class MyClass:\n",
    "    lazily_initialized = InitOnAccess(list, 'argument')\n",
    "\n",
    "m = MyClass\n",
    "m.lazily_initialized"
   ],
   "metadata": {
    "collapsed": false
   }
  },
  {
   "cell_type": "code",
   "execution_count": 31,
   "outputs": [
    {
     "name": "stdout",
     "output_type": "stream",
     "text": [
      "cached\n"
     ]
    },
    {
     "data": {
      "text/plain": "['a', 'r', 'g', 'u', 'm', 'e', 'n', 't']"
     },
     "execution_count": 31,
     "metadata": {},
     "output_type": "execute_result"
    }
   ],
   "source": [
    "m.lazily_initialized"
   ],
   "metadata": {
    "collapsed": false
   }
  },
  {
   "cell_type": "code",
   "execution_count": null,
   "outputs": [],
   "source": [],
   "metadata": {
    "collapsed": false
   }
  }
 ],
 "metadata": {
  "kernelspec": {
   "display_name": "Python 3",
   "language": "python",
   "name": "python3"
  },
  "language_info": {
   "codemirror_mode": {
    "name": "ipython",
    "version": 2
   },
   "file_extension": ".py",
   "mimetype": "text/x-python",
   "name": "python",
   "nbconvert_exporter": "python",
   "pygments_lexer": "ipython2",
   "version": "2.7.6"
  }
 },
 "nbformat": 4,
 "nbformat_minor": 0
}
