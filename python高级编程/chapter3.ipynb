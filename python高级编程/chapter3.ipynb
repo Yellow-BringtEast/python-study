{
 "cells": [
  {
   "cell_type": "markdown",
   "source": [
    "### python命名风格 -- 基于PEP8"
   ],
   "metadata": {
    "collapsed": false
   },
   "execution_count": 1
  },
  {
   "cell_type": "code",
   "execution_count": 2,
   "outputs": [],
   "source": [
    "# python中有2种变量：常量、公有和私有变量\n",
    "# 对于常量全局变量，使用大写加下划线\n",
    "from doctest import IGNORE_EXCEPTION_DETAIL"
   ],
   "metadata": {
    "collapsed": false
   }
  },
  {
   "cell_type": "code",
   "execution_count": null,
   "outputs": [],
   "source": [
    "# 特殊方法：以双下划线开始和结尾\n",
    "# 通常，集中放在类定义的开头\n",
    "class WeirdInt(int):\n",
    "    def __add__(self, other):\n",
    "        return int.__add__(self, other) + 1\n",
    "\n",
    "    def __repr__(self):\n",
    "        return f'<weird {self}>'\n",
    "\n",
    "    # 公共API\n",
    "    def do_this(self):\n",
    "        print('this')\n",
    "\n",
    "    def do_that(self):\n",
    "        print('that')"
   ],
   "metadata": {
    "collapsed": false
   }
  },
  {
   "cell_type": "code",
   "execution_count": null,
   "outputs": [],
   "source": [
    "# 对于常规方法，永远不要使用这种名称\n",
    "class BadHabits:\n",
    "    def __my_method__(self):\n",
    "        print('ok')"
   ],
   "metadata": {
    "collapsed": false
   }
  },
  {
   "cell_type": "code",
   "execution_count": 3,
   "outputs": [],
   "source": [
    "# 命名指南\n",
    "# 用has或is前缀命名布尔元素\n",
    "class DB:\n",
    "    is_connected = False\n",
    "    has_cache = False"
   ],
   "metadata": {
    "collapsed": false
   }
  },
  {
   "cell_type": "code",
   "execution_count": 4,
   "outputs": [],
   "source": [
    "# 用复数形式命名集合变量\n",
    "class DB:\n",
    "    connected_users = ['Anna']\n",
    "    tables = {\n",
    "        'Customer': ['id', 'first_name', 'last_name']\n",
    "    }"
   ],
   "metadata": {
    "collapsed": false
   }
  },
  {
   "cell_type": "code",
   "execution_count": 5,
   "outputs": [],
   "source": [
    "# 用显示名称命名字典\n",
    "persons_addresses = {\n",
    "    'Bill': '6565 Monty Road'\n",
    "}"
   ],
   "metadata": {
    "collapsed": false
   }
  },
  {
   "cell_type": "code",
   "execution_count": null,
   "outputs": [],
   "source": [
    "# 避免通用名称\n",
    "def compute(data): # 太过通用\n",
    "    for element in data:\n",
    "        yield element ** 2\n",
    "\n",
    "def squares(numbers): # 更好一些\n",
    "    for number in numbers:\n",
    "        yield numbers ** 2"
   ],
   "metadata": {
    "collapsed": false
   }
  },
  {
   "cell_type": "code",
   "execution_count": 6,
   "outputs": [],
   "source": [
    "# 内置函数名称和来自标准库的模块名称都应该被避免\n",
    "# 对于关键字，后缀下划线是一种避免冲突的方法\n",
    "def xapian_query(terms, or_=True):..."
   ],
   "metadata": {
    "collapsed": false
   }
  },
  {
   "cell_type": "code",
   "execution_count": 1,
   "outputs": [
    {
     "name": "stdout",
     "output_type": "stream",
     "text": [
      "done\n"
     ]
    }
   ],
   "source": [
    "# 如果添加一些参数，它们应该尽可能有默认值，以避免任何退化\n",
    "class Service: # 版本一\n",
    "    def _query(self, query, type):\n",
    "        print('done')\n",
    "\n",
    "    def execute(self, query):\n",
    "        self._query(query, 'EXECUTE')\n",
    "\n",
    "\n",
    "Service().execute('my query')"
   ],
   "metadata": {
    "collapsed": false
   }
  },
  {
   "cell_type": "code",
   "execution_count": 13,
   "outputs": [],
   "source": [
    "import logging\n",
    "\n",
    "class Service: # 版本二\n",
    "    def _query(self, query, type, logger):\n",
    "        logger('done')\n",
    "\n",
    "    def execute(self, query, logger=logging.info):\n",
    "        self._query(query, 'EXECUTE', logger)\n",
    "\n",
    "\n",
    "Service().execute('my query') #  旧式调用"
   ],
   "metadata": {
    "collapsed": false
   }
  },
  {
   "cell_type": "code",
   "execution_count": 14,
   "outputs": [],
   "source": [
    "Service().execute('my query', logging.warning)"
   ],
   "metadata": {
    "collapsed": false
   }
  },
  {
   "cell_type": "code",
   "execution_count": 16,
   "outputs": [
    {
     "name": "stdout",
     "output_type": "stream",
     "text": [
      "ok i did\n",
      "errr... ok\n"
     ]
    }
   ],
   "source": [
    "# *args和**kwargs参数可能会破坏函数或方法的鲁棒性\n",
    "# 它们会使签名变得模糊，而且代码会常常在不应该出现的地方构建小型的参数解析器，如下：\n",
    "def fuzzy_thing(**kwargs):\n",
    "    if 'do_this' in kwargs:\n",
    "        print('ok i did')\n",
    "\n",
    "    if 'do_that' in kwargs:\n",
    "        print('this is done')\n",
    "\n",
    "    print('errr... ok')\n",
    "\n",
    "fuzzy_thing(do_this=1)"
   ],
   "metadata": {
    "collapsed": false
   }
  },
  {
   "cell_type": "code",
   "execution_count": 17,
   "outputs": [
    {
     "name": "stdout",
     "output_type": "stream",
     "text": [
      "this is done\n",
      "errr... ok\n"
     ]
    }
   ],
   "source": [
    "fuzzy_thing(do_that=1)"
   ],
   "metadata": {
    "collapsed": false
   }
  },
  {
   "cell_type": "code",
   "execution_count": 18,
   "outputs": [
    {
     "name": "stdout",
     "output_type": "stream",
     "text": [
      "errr... ok\n"
     ]
    }
   ],
   "source": [
    "fuzzy_thing(hhh=1)"
   ],
   "metadata": {
    "collapsed": false
   }
  },
  {
   "cell_type": "code",
   "execution_count": null,
   "outputs": [],
   "source": [],
   "metadata": {
    "collapsed": false
   }
  }
 ],
 "metadata": {
  "kernelspec": {
   "display_name": "Python 3",
   "language": "python",
   "name": "python3"
  },
  "language_info": {
   "codemirror_mode": {
    "name": "ipython",
    "version": 2
   },
   "file_extension": ".py",
   "mimetype": "text/x-python",
   "name": "python",
   "nbconvert_exporter": "python",
   "pygments_lexer": "ipython2",
   "version": "2.7.6"
  }
 },
 "nbformat": 4,
 "nbformat_minor": 0
}
