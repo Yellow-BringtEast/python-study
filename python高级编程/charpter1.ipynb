{
 "cells": [
  {
   "cell_type": "code",
   "execution_count": 1,
   "metadata": {
    "collapsed": true
   },
   "outputs": [
    {
     "data": {
      "text/plain": "[1, 'hello']"
     },
     "execution_count": 1,
     "metadata": {},
     "output_type": "execute_result"
    }
   ],
   "source": [
    "# 列表：由其他对象的引用组成的连续数组\n",
    "a = 1\n",
    "b = 'hello'\n",
    "\n",
    "c = [a, b]\n",
    "c"
   ]
  },
  {
   "cell_type": "code",
   "execution_count": 2,
   "outputs": [
    {
     "data": {
      "text/plain": "[1, 'hello']"
     },
     "execution_count": 2,
     "metadata": {},
     "output_type": "execute_result"
    }
   ],
   "source": [
    "# a变成了对2的引用\n",
    "a = 2\n",
    "\n",
    "# 但列表的引用对象仍是：1， hello\n",
    "c"
   ],
   "metadata": {
    "collapsed": false
   }
  },
  {
   "cell_type": "code",
   "execution_count": 3,
   "outputs": [
    {
     "data": {
      "text/plain": "'hello'"
     },
     "execution_count": 3,
     "metadata": {},
     "output_type": "execute_result"
    }
   ],
   "source": [
    "# 列表的引用对象变为：1，world\n",
    "c[1] = 'world'\n",
    "\n",
    "# 但b的引用对象仍是world\n",
    "b"
   ],
   "metadata": {
    "collapsed": false
   }
  },
  {
   "cell_type": "code",
   "execution_count": 5,
   "outputs": [
    {
     "data": {
      "text/plain": "[0, 2, 4, 6, 8]"
     },
     "execution_count": 5,
     "metadata": {},
     "output_type": "execute_result"
    }
   ],
   "source": [
    "# 列表推导式：一般而言，列表推导式比for循环跟快速。\n",
    "[i for i in range(10) if i % 2 == 0]"
   ],
   "metadata": {
    "collapsed": false
   }
  },
  {
   "cell_type": "code",
   "execution_count": 6,
   "outputs": [
    {
     "name": "stdout",
     "output_type": "stream",
     "text": [
      "(1, 2, 3)\n",
      "(4, 5, 6)\n"
     ]
    }
   ],
   "source": [
    "# zip函数：对zip函数返回的结果再次调用zip函数，可以使其恢复原状\n",
    "for item in zip(*zip([1, 2, 3], [4, 5, 6])):\n",
    "    print(item)"
   ],
   "metadata": {
    "collapsed": false
   }
  },
  {
   "cell_type": "code",
   "execution_count": 8,
   "outputs": [
    {
     "name": "stdout",
     "output_type": "stream",
     "text": [
      "first: 0\n",
      "inner: [1, 2]\n",
      "last: 3\n"
     ]
    }
   ],
   "source": [
    "# 序列解包 -- *号的用法\n",
    "first, *inner, last = 0, 1, 2, 3\n",
    "\n",
    "print('first:', first)\n",
    "print('inner:', inner)\n",
    "print('last:', last)"
   ],
   "metadata": {
    "collapsed": false
   }
  },
  {
   "cell_type": "code",
   "execution_count": 9,
   "outputs": [
    {
     "data": {
      "text/plain": "(1, 2, 3, 4)"
     },
     "execution_count": 9,
     "metadata": {},
     "output_type": "execute_result"
    }
   ],
   "source": [
    "# 嵌套解包\n",
    "(a, b), (c, d) = (1, 2), (3, 4)\n",
    "a, b, c, d"
   ],
   "metadata": {
    "collapsed": false
   }
  },
  {
   "cell_type": "code",
   "execution_count": 10,
   "outputs": [
    {
     "data": {
      "text/plain": "dict_items([('a', 1), ('b', 2), ('c', 3)])"
     },
     "execution_count": 10,
     "metadata": {},
     "output_type": "execute_result"
    }
   ],
   "source": [
    "# dict的视图对象（view objects）: keys()、values()和items()均返回视图对象\n",
    "# 字典发生变化时，视图也会发生相应的变化\n",
    "# 字典在CPython中使用hash table实现，所以只有hashable objects才能作为字典的键。\n",
    "# python中所有不可变类型都是可哈希的\n",
    "word = {'a': 1, 'b': 2}\n",
    "items = word.items()\n",
    "word['c'] = 3\n",
    "items"
   ],
   "metadata": {
    "collapsed": false
   }
  },
  {
   "cell_type": "code",
   "execution_count": 11,
   "outputs": [
    {
     "name": "stdout",
     "output_type": "stream",
     "text": [
      "3\n",
      "2\n",
      "1\n",
      "0\n"
     ]
    }
   ],
   "source": [
    "# 迭代器：实现了迭代器协议的容器对象，包含一下2个方法\n",
    "# __next__：返回容器的一下元素\n",
    "# __iter__：返回迭代器本身\n",
    "class CountDown:\n",
    "    def __init__(self, step):\n",
    "        self.step = step\n",
    "\n",
    "    def __next__(self):\n",
    "        \"\"\"返回容器的下一个元素\"\"\"\n",
    "        if self.step <= 0:\n",
    "            raise StopIteration\n",
    "        self.step -= 1\n",
    "        return self.step\n",
    "\n",
    "    def __iter__(self):\n",
    "        \"\"\"返回迭代器本身\"\"\"\n",
    "        return self\n",
    "\n",
    "for i in CountDown(4):\n",
    "    print(i)"
   ],
   "metadata": {
    "collapsed": false
   }
  },
  {
   "cell_type": "code",
   "execution_count": 12,
   "outputs": [
    {
     "data": {
      "text/plain": "1"
     },
     "execution_count": 12,
     "metadata": {},
     "output_type": "execute_result"
    }
   ],
   "source": [
    "# 生成器：使用yield返回结果的一类特殊迭代器(保存执行上下文)\n",
    "# 一个简单的生成器\n",
    "def fibonacci():\n",
    "    a, b = 0, 1\n",
    "\n",
    "    while True:\n",
    "        yield b\n",
    "        a, b = b, b + a\n",
    "\n",
    "fib = fibonacci()\n",
    "next(fib)"
   ],
   "metadata": {
    "collapsed": false
   }
  },
  {
   "cell_type": "code",
   "execution_count": 13,
   "outputs": [
    {
     "data": {
      "text/plain": "1"
     },
     "execution_count": 13,
     "metadata": {},
     "output_type": "execute_result"
    }
   ],
   "source": [
    "next(fib)"
   ],
   "metadata": {
    "collapsed": false
   }
  },
  {
   "cell_type": "code",
   "execution_count": 14,
   "outputs": [
    {
     "data": {
      "text/plain": "2"
     },
     "execution_count": 14,
     "metadata": {},
     "output_type": "execute_result"
    }
   ],
   "source": [
    "next(fib)"
   ],
   "metadata": {
    "collapsed": false
   }
  },
  {
   "cell_type": "code",
   "execution_count": 15,
   "outputs": [
    {
     "data": {
      "text/plain": "[3, 5, 8, 13, 21, 34, 55, 89, 144, 233]"
     },
     "execution_count": 15,
     "metadata": {},
     "output_type": "execute_result"
    }
   ],
   "source": [
    "[next(fib) for i in range(10)]"
   ],
   "metadata": {
    "collapsed": false
   }
  },
  {
   "cell_type": "code",
   "execution_count": null,
   "outputs": [],
   "source": [],
   "metadata": {
    "collapsed": false
   }
  }
 ],
 "metadata": {
  "kernelspec": {
   "display_name": "Python 3",
   "language": "python",
   "name": "python3"
  },
  "language_info": {
   "codemirror_mode": {
    "name": "ipython",
    "version": 2
   },
   "file_extension": ".py",
   "mimetype": "text/x-python",
   "name": "python",
   "nbconvert_exporter": "python",
   "pygments_lexer": "ipython2",
   "version": "2.7.6"
  }
 },
 "nbformat": 4,
 "nbformat_minor": 0
}
