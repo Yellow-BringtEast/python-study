{
 "cells": [
  {
   "cell_type": "code",
   "execution_count": 2,
   "metadata": {
    "collapsed": true
   },
   "outputs": [],
   "source": [
    "# 编写一个斐波拉切C扩展函数\n",
    "# python中的实现\n",
    "def fibonacci(n):\n",
    "    if n < 2:\n",
    "        return 1\n",
    "    else:\n",
    "        return fibonacci(n - 1) + fibonacci(n - 2)"
   ]
  },
  {
   "cell_type": "code",
   "execution_count": 1,
   "outputs": [
    {
     "name": "stdout",
     "output_type": "stream",
     "text": [
      "Help on built-in function fibonacci in module chapter4.fibonacci:\n",
      "\n",
      "fibonacci(...)\n",
      "    fibonacci(n): Return nth Fibonacci sequence numbercomputed recursively\n",
      "\n"
     ]
    }
   ],
   "source": [
    "# 纯C扩展 - 详见chapter4文件夹\n",
    "# 构建指令：pip install -e <file folder>\n",
    "from chapter4 import fibonacci\n",
    "help(fibonacci.fibonacci)"
   ],
   "metadata": {
    "collapsed": false
   }
  },
  {
   "cell_type": "code",
   "execution_count": 4,
   "outputs": [
    {
     "data": {
      "text/plain": "[1, 1, 2, 3, 5, 8, 13, 21, 34, 55]"
     },
     "execution_count": 4,
     "metadata": {},
     "output_type": "execute_result"
    }
   ],
   "source": [
    "[fibonacci.fibonacci(n) for n in range(10)]"
   ],
   "metadata": {
    "collapsed": false
   }
  },
  {
   "cell_type": "code",
   "execution_count": 2,
   "outputs": [
    {
     "ename": "ValueError",
     "evalue": "n must not be less than 0",
     "output_type": "error",
     "traceback": [
      "\u001B[1;31m---------------------------------------------------------------------------\u001B[0m",
      "\u001B[1;31mValueError\u001B[0m                                Traceback (most recent call last)",
      "Cell \u001B[1;32mIn[2], line 1\u001B[0m\n\u001B[1;32m----> 1\u001B[0m \u001B[43mfibonacci\u001B[49m\u001B[38;5;241;43m.\u001B[39;49m\u001B[43mfibonacci\u001B[49m\u001B[43m(\u001B[49m\u001B[38;5;241;43m-\u001B[39;49m\u001B[38;5;241;43m1\u001B[39;49m\u001B[43m)\u001B[49m\n",
      "\u001B[1;31mValueError\u001B[0m: n must not be less than 0"
     ]
    }
   ],
   "source": [
    "fibonacci.fibonacci(-1)"
   ],
   "metadata": {
    "collapsed": false
   }
  },
  {
   "cell_type": "code",
   "execution_count": 2,
   "outputs": [],
   "source": [
    "# Cython作为源码编译器 - 使用纯python代码创建扩展\n",
    "# 见文件夹fibonacci\n",
    "from fibonacci import fibonacci"
   ],
   "metadata": {
    "collapsed": false
   }
  },
  {
   "cell_type": "code",
   "execution_count": 4,
   "outputs": [
    {
     "data": {
      "text/plain": "34"
     },
     "execution_count": 4,
     "metadata": {},
     "output_type": "execute_result"
    }
   ],
   "source": [
    "fibonacci(8)"
   ],
   "metadata": {
    "collapsed": false
   }
  },
  {
   "cell_type": "code",
   "execution_count": null,
   "outputs": [],
   "source": [
    "# 分发Cython扩展的最佳实践\n",
    "import os\n",
    "\n",
    "from distutils.core import setup\n",
    "from distutils.extension import Extension\n",
    "\n",
    "\n",
    "try:\n",
    "    # 只有当Cython可用时\n",
    "    # cython源到源的编译才可以用\n",
    "    import Cython\n",
    "    # 并且特定的环境变量明确说明\n",
    "    USER_CYTHON = bool(os.environ.get(\"USE_CYTHON\"))\n",
    "\n",
    "except ImportError:\n",
    "    USER_CYTHON = False\n",
    "\n",
    "ext = '.pyx' if USER_CYTHON else '.c'\n",
    "\n",
    "extensions = [Extension('fibonacci', ['fibonacci' + ext])]\n",
    "\n",
    "if USER_CYTHON:\n",
    "    from Cython.Build import cythonize\n",
    "    extensions = cythonize(extensions)\n",
    "\n",
    "setup(\n",
    "    name='fibonacci',\n",
    "    ext_modules=extensions,\n",
    "    requires=['cython==0.23.4']\n",
    ")"
   ],
   "metadata": {
    "collapsed": false
   }
  },
  {
   "cell_type": "code",
   "execution_count": 11,
   "outputs": [
    {
     "data": {
      "text/plain": "8"
     },
     "execution_count": 11,
     "metadata": {},
     "output_type": "execute_result"
    }
   ],
   "source": [
    "# Cython作为一门语言 - 见fibonacci.pyx\n",
    "from fibonacci import fibonacci\n",
    "fibonacci(5)"
   ],
   "metadata": {
    "collapsed": false
   }
  },
  {
   "cell_type": "code",
   "execution_count": 12,
   "outputs": [
    {
     "data": {
      "text/plain": "1"
     },
     "execution_count": 12,
     "metadata": {},
     "output_type": "execute_result"
    }
   ],
   "source": [
    "fibonacci(-8)"
   ],
   "metadata": {
    "collapsed": false
   }
  },
  {
   "cell_type": "code",
   "execution_count": 13,
   "outputs": [
    {
     "ename": "RecursionError",
     "evalue": "maximum recursion depth exceeded in comparison",
     "output_type": "error",
     "traceback": [
      "\u001B[1;31m---------------------------------------------------------------------------\u001B[0m",
      "\u001B[1;31mRecursionError\u001B[0m                            Traceback (most recent call last)",
      "Cell \u001B[1;32mIn[13], line 1\u001B[0m\n\u001B[1;32m----> 1\u001B[0m \u001B[43mfibonacci\u001B[49m\u001B[43m(\u001B[49m\u001B[38;5;241;43m10\u001B[39;49m\u001B[38;5;241;43m*\u001B[39;49m\u001B[38;5;241;43m*\u001B[39;49m\u001B[38;5;241;43m10\u001B[39;49m\u001B[43m)\u001B[49m\n",
      "File \u001B[1;32mfibonacci.py:4\u001B[0m, in \u001B[0;36mfibonacci.fibonacci\u001B[1;34m()\u001B[0m\n",
      "File \u001B[1;32mfibonacci.py:4\u001B[0m, in \u001B[0;36mfibonacci.fibonacci\u001B[1;34m()\u001B[0m\n",
      "    \u001B[1;31m[... skipping similar frames: fibonacci.fibonacci at line 4 (2969 times)]\u001B[0m\n",
      "File \u001B[1;32mfibonacci.py:4\u001B[0m, in \u001B[0;36mfibonacci.fibonacci\u001B[1;34m()\u001B[0m\n",
      "File \u001B[1;32mfibonacci.py:2\u001B[0m, in \u001B[0;36mfibonacci.fibonacci\u001B[1;34m()\u001B[0m\n",
      "\u001B[1;31mRecursionError\u001B[0m: maximum recursion depth exceeded in comparison"
     ]
    }
   ],
   "source": [
    "fibonacci(10**10)"
   ],
   "metadata": {
    "collapsed": false
   }
  },
  {
   "cell_type": "code",
   "execution_count": null,
   "outputs": [],
   "source": [
    "# 从标准C库中用一个qsort()函数对一个随机乱序的整数数列进行排序\n",
    "from random import shuffle\n",
    "\n",
    "import ctypes\n",
    "from ctypes.util import find_library\n",
    "\n",
    "\n",
    "libc = ctypes.windll.LoadLibrary(find_library('c'))\n",
    "\n",
    "CMPFUNC = ctypes.WINFUNCTYPE(\n",
    "    # 返回类型\n",
    "    ctypes.c_int,\n",
    "    # 接受的第一个参数\n",
    "    ctypes.POINTER(ctypes.c_int),\n",
    "    # 接受的第二个参数\n",
    "    ctypes.POINTER(ctypes.c_int)\n",
    ")\n",
    "\n",
    "def ctypes_int_compare(a, b):\n",
    "    # 参数是指针类型，所以可以通过索引访问\n",
    "    print(f'{a[0]} cmp {b[0]}')\n",
    "    return a[0] - b[0]\n",
    "\n",
    "def main():\n",
    "    numbers = list(range(5))\n",
    "    shuffle(numbers)\n",
    "    print(f'shuffled: {numbers}')\n",
    "\n",
    "    # 创建一个代表数组的新类型，它和numbers列表有相同的长度\n",
    "    NumbersArray = ctypes.c_int * len(numbers)\n",
    "    # 使用新类型创建一个新的C数组\n",
    "    c_array = NumbersArray(*numbers)\n",
    "\n",
    "    libc.qsort(\n",
    "        # 指向被排序的数组的指针\n",
    "        c_array,\n",
    "        # 数组长度\n",
    "        len(c_array),\n",
    "        # 数组中单个元素的大小\n",
    "        ctypes.sizeof(ctypes.c_int),\n",
    "        # 回调（指向c比较函数的指针）\n",
    "        CMPFUNC(ctypes_int_compare)\n",
    "    )\n",
    "    print(f'sorted: {list(c_array)}')\n",
    "\n",
    "main()"
   ],
   "metadata": {
    "collapsed": false,
    "pycharm": {
     "is_executing": true
    }
   }
  },
  {
   "cell_type": "code",
   "execution_count": null,
   "outputs": [],
   "source": [],
   "metadata": {
    "collapsed": false
   }
  }
 ],
 "metadata": {
  "kernelspec": {
   "display_name": "Python 3",
   "language": "python",
   "name": "python3"
  },
  "language_info": {
   "codemirror_mode": {
    "name": "ipython",
    "version": 2
   },
   "file_extension": ".py",
   "mimetype": "text/x-python",
   "name": "python",
   "nbconvert_exporter": "python",
   "pygments_lexer": "ipython2",
   "version": "2.7.6"
  }
 },
 "nbformat": 4,
 "nbformat_minor": 0
}
