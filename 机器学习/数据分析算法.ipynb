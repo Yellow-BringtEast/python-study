{
 "cells": [
  {
   "cell_type": "markdown",
   "id": "6b9e9a1b",
   "metadata": {},
   "source": [
    "# 决策树"
   ]
  },
  {
   "cell_type": "markdown",
   "id": "c87ddfa4",
   "metadata": {},
   "source": [
    "## ID3"
   ]
  },
  {
   "cell_type": "code",
   "execution_count": null,
   "id": "5a15aaca",
   "metadata": {},
   "outputs": [],
   "source": [
    "from sklearn import tree \n",
    "import numpy as np"
   ]
  },
  {
   "cell_type": "code",
   "execution_count": null,
   "id": "9e926de3",
   "metadata": {},
   "outputs": [],
   "source": [
    "data = np.array([[1,1], [1, 0], [0,1], [0, 0]])"
   ]
  },
  {
   "cell_type": "code",
   "execution_count": null,
   "id": "53cea1be",
   "metadata": {},
   "outputs": [],
   "source": [
    "target = np.array([1, 1, 0, 0])"
   ]
  },
  {
   "cell_type": "code",
   "execution_count": null,
   "id": "5ec8b93f",
   "metadata": {},
   "outputs": [],
   "source": [
    "clf = tree.DecisionTreeClassifier()\n",
    "clf = clf.fit(data, target)"
   ]
  },
  {
   "cell_type": "code",
   "execution_count": null,
   "id": "05032423",
   "metadata": {},
   "outputs": [],
   "source": [
    "dat = tree.export_text(clf, feature_names=None)\n",
    "dat"
   ]
  },
  {
   "cell_type": "markdown",
   "id": "c3c5009e",
   "metadata": {},
   "source": [
    "## CART分类决策树 - 鸢尾花数据集"
   ]
  },
  {
   "cell_type": "code",
   "execution_count": null,
   "id": "ea35a3cb",
   "metadata": {},
   "outputs": [],
   "source": [
    "from sklearn.model_selection import train_test_split\n",
    "from sklearn.metrics import accuracy_score\n",
    "from sklearn.tree import DecisionTreeClassifier\n",
    "from sklearn.datasets import load_iris"
   ]
  },
  {
   "cell_type": "code",
   "execution_count": null,
   "id": "3c4afb14",
   "metadata": {},
   "outputs": [],
   "source": [
    "# 准备数据\n",
    "iris = load_iris()"
   ]
  },
  {
   "cell_type": "code",
   "execution_count": null,
   "id": "16e38c44",
   "metadata": {},
   "outputs": [],
   "source": [
    "# 获取特征集和分类标识\n",
    "features = iris.data\n",
    "labels = iris.target"
   ]
  },
  {
   "cell_type": "code",
   "execution_count": null,
   "id": "14b45522",
   "metadata": {},
   "outputs": [],
   "source": [
    "# 随机抽取33%的数据作为测试集，其余为训练集\n",
    "train_features, test_features, train_labels, test_labels = train_test_split(features, labels, test_size=0.33, random_state=0)"
   ]
  },
  {
   "cell_type": "code",
   "execution_count": null,
   "id": "1fa9722f",
   "metadata": {},
   "outputs": [],
   "source": [
    "# 创建CART分类树做预测\n",
    "clf = DecisionTreeClassifier(criterion='gini')"
   ]
  },
  {
   "cell_type": "code",
   "execution_count": null,
   "id": "45d3b331",
   "metadata": {},
   "outputs": [],
   "source": [
    "# 拟合构造的CART分类树\n",
    "clf = clf.fit(train_features, train_labels)"
   ]
  },
  {
   "cell_type": "code",
   "execution_count": null,
   "id": "6c5cb2d7",
   "metadata": {},
   "outputs": [],
   "source": [
    "# 用CART分类树做预测\n",
    "test_predict = clf.predict(test_features)"
   ]
  },
  {
   "cell_type": "code",
   "execution_count": null,
   "id": "f276c58b",
   "metadata": {},
   "outputs": [],
   "source": [
    "# 预测集与结果集比较\n",
    "score = accuracy_score(test_labels, test_predict)\n",
    "print(\"CART分类树准确率 %.4lf\" % score)"
   ]
  },
  {
   "cell_type": "markdown",
   "id": "a01514f6",
   "metadata": {},
   "source": [
    "## CART分类决策树 - 手写数字数据集"
   ]
  },
  {
   "cell_type": "code",
   "execution_count": null,
   "id": "5104f3a9",
   "metadata": {},
   "outputs": [],
   "source": [
    "from sklearn.datasets import load_digits"
   ]
  },
  {
   "cell_type": "code",
   "execution_count": null,
   "id": "ab82045d",
   "metadata": {},
   "outputs": [],
   "source": [
    "digit = load_digits()\n",
    "features = digit.data\n",
    "targets = digit.target\n",
    "train_features, test_features, train_labels, test_labels = train_test_split(features, targets, test_size=0.33, random_state=0)\n",
    "clf = DecisionTreeClassifier(criterion='gini')\n",
    "clf = clf.fit(train_features, train_labels)\n",
    "test_predict = clf.predict(test_features)\n",
    "score = accuracy_score(test_labels, test_predict)\n",
    "score"
   ]
  },
  {
   "cell_type": "markdown",
   "id": "73cfd8b0",
   "metadata": {},
   "source": [
    "## CART回归决策树 - 波士顿房价数据集"
   ]
  },
  {
   "cell_type": "code",
   "execution_count": null,
   "id": "b4a39b7f",
   "metadata": {},
   "outputs": [],
   "source": [
    "from sklearn.metrics import mean_squared_error\n",
    "from sklearn.model_selection import train_test_split\n",
    "from sklearn.datasets import load_boston\n",
    "from sklearn.metrics import r2_score, mean_absolute_error\n",
    "from sklearn.tree import DecisionTreeRegressor"
   ]
  },
  {
   "cell_type": "code",
   "execution_count": null,
   "id": "0e9fae86",
   "metadata": {},
   "outputs": [],
   "source": [
    "# 准备数据\n",
    "boston = load_boston()\n",
    "print(boston.feature_names)"
   ]
  },
  {
   "cell_type": "code",
   "execution_count": null,
   "id": "cf3d8d4b",
   "metadata": {},
   "outputs": [],
   "source": [
    "# 获取特征集和房价\n",
    "features = boston.data\n",
    "prices = boston.target\n",
    "# 随机抽取33%的数据作为测试集，其余为训练集\n",
    "train_features, test_features, train_price, test_price = train_test_split(features, prices, test_size=0.33)\n",
    "# 创建CART回归树\n",
    "dtr = DecisionTreeRegressor()\n",
    "# 拟合CART回归树\n",
    "dtr.fit(train_features, train_price)\n",
    "# 预测测试集中的房价\n",
    "predict_price = dtr.predict(test_features)\n",
    "# 测试集的结果评价\n",
    "print('回归树二乘偏差均值:', mean_squared_error(test_price, predict_price))\n",
    "print('回归树绝对值偏差均值:', mean_absolute_error(test_price, predict_price))"
   ]
  },
  {
   "cell_type": "code",
   "execution_count": null,
   "id": "bcf1bca2",
   "metadata": {},
   "outputs": [],
   "source": [
    "predict_price"
   ]
  },
  {
   "cell_type": "markdown",
   "id": "e6332f98",
   "metadata": {},
   "source": [
    "## 决策树 - Titanic 乘客生存预测"
   ]
  },
  {
   "cell_type": "code",
   "execution_count": null,
   "id": "678809ab",
   "metadata": {},
   "outputs": [],
   "source": [
    "import pandas as pd"
   ]
  },
  {
   "cell_type": "code",
   "execution_count": null,
   "id": "d6f9c1a7",
   "metadata": {},
   "outputs": [],
   "source": [
    "train = pd.read_csv('./train.csv')\n",
    "test = pd.read_csv('./test.csv')"
   ]
  },
  {
   "cell_type": "code",
   "execution_count": null,
   "id": "13b4e619",
   "metadata": {},
   "outputs": [],
   "source": [
    "train.info()\n",
    "train.describe()\n",
    "train.describe(include=['O'])\n",
    "train.head()"
   ]
  },
  {
   "cell_type": "code",
   "execution_count": null,
   "id": "d173a986",
   "metadata": {},
   "outputs": [],
   "source": [
    "# 使用平均年龄来填充年龄中的nan值\n",
    "train['Age'].fillna(train['Age'].mean(), inplace=True)\n",
    "test['Age'].fillna(test['Age'].mean(),inplace=True)\n",
    "\n",
    "# 使用票价的均值填充票价中的nan值\n",
    "train['Fare'].fillna(train['Fare'].mean(), inplace=True)\n",
    "test['Fare'].fillna(test['Fare'].mean(),inplace=True)"
   ]
  },
  {
   "cell_type": "code",
   "execution_count": null,
   "id": "4f6b7a27",
   "metadata": {},
   "outputs": [],
   "source": [
    "train['Embarked'].value_counts()"
   ]
  },
  {
   "cell_type": "code",
   "execution_count": null,
   "id": "5d9fb4be",
   "metadata": {},
   "outputs": [],
   "source": [
    "train['Embarked'].fillna('S', inplace=True)\n",
    "test['Embarked'].fillna('S', inplace=True)"
   ]
  },
  {
   "cell_type": "code",
   "execution_count": null,
   "id": "60b9f885",
   "metadata": {},
   "outputs": [],
   "source": [
    "# 特征选择\n",
    "features = ['Pclass', 'Sex', 'Age', 'SibSp', 'Parch', 'Fare', 'Embarked']\n",
    "train_features = train[features]\n",
    "train_labels = train['Survived']\n",
    "test_features = test[features]"
   ]
  },
  {
   "cell_type": "code",
   "execution_count": null,
   "id": "516a0076",
   "metadata": {},
   "outputs": [],
   "source": [
    "# 处理字符串类型的离散变量\n",
    "from sklearn.feature_extraction import DictVectorizer\n",
    "dvec = DictVectorizer(sparse=False)\n",
    "train_features = dvec.fit_transform(train_features.to_dict(orient = 'record'))"
   ]
  },
  {
   "cell_type": "code",
   "execution_count": null,
   "id": "15ca5d64",
   "metadata": {},
   "outputs": [],
   "source": [
    "from sklearn.tree import DecisionTreeClassifier\n",
    "# 构造ID3决策树\n",
    "clf = DecisionTreeClassifier(criterion='entropy')\n",
    "# 决策树训练\n",
    "clf.fit(train_features, train_labels)"
   ]
  },
  {
   "cell_type": "code",
   "execution_count": null,
   "id": "cd071af5",
   "metadata": {},
   "outputs": [],
   "source": [
    "test_features=dvec.transform(test_features.to_dict(orient='record'))\n",
    "# 决策树预测\n",
    "pred_labels = clf.predict(test_features)\n",
    "\n",
    "# 得到决策树准确率\n",
    "acc_decision_tree = round(clf.score(train_features, train_labels), 6)\n",
    "print(u'score准确率为 %.4lf' % acc_decision_tree)"
   ]
  },
  {
   "cell_type": "code",
   "execution_count": null,
   "id": "daafbd20",
   "metadata": {},
   "outputs": [],
   "source": [
    "import numpy as np\n",
    "from sklearn.model_selection import cross_val_score\n",
    "# 使用K折交叉验证 统计决策树准确率\n",
    "print('cross_val_score准确率为 %.4lf' % np.mean(cross_val_score(clf, train_features, train_labels, cv=10)))"
   ]
  },
  {
   "cell_type": "markdown",
   "id": "5ea646c5",
   "metadata": {},
   "source": [
    "# 朴素贝叶斯 - 文档分类"
   ]
  },
  {
   "cell_type": "code",
   "execution_count": null,
   "id": "a84b47fd",
   "metadata": {},
   "outputs": [],
   "source": [
    "from sklearn.feature_extraction.text import TfidfVectorizer\n",
    "\n",
    "tfidf_vec = TfidfVectorizer()\n",
    "\n",
    "documents = [\n",
    "    'this is the bayes document',\n",
    "    'this is the second second document',\n",
    "    'and the third one',\n",
    "    'is this the document'\n",
    "]\n",
    "\n",
    "tfidf_matrix = tfidf_vec.fit_transform(documents)\n",
    "\n",
    "print('不重复的词:', tfidf_vec.get_feature_names())\n",
    "print('每个单词的ID：', tfidf_vec.vocabulary_)\n",
    "print('每个单词的tfidf值', tfidf_matrix.toarray())"
   ]
  },
  {
   "cell_type": "code",
   "execution_count": null,
   "id": "b0a26d05",
   "metadata": {},
   "outputs": [],
   "source": [
    "# 中文文档分类\n",
    "import os \n",
    "import jieba\n",
    "import warnings\n",
    "from sklearn.feature_extraction.text import TfidfVectorizer\n",
    "from sklearn import metrics\n",
    "from sklearn.naive_bayes import MultinomialNB \n",
    "\n",
    "warnings.filterwarnings('ignore')"
   ]
  },
  {
   "cell_type": "code",
   "execution_count": null,
   "id": "5188e875",
   "metadata": {},
   "outputs": [],
   "source": [
    "def cut_words(file_path):\n",
    "    \"\"\"对文件进行分词\"\"\"\n",
    "    text_with_space = ''\n",
    "    text = open(file_path, 'r', encoding='gb18030').read()\n",
    "    text_cut = jieba.cut(text)\n",
    "    for word in text_cut:\n",
    "        text_with_space += word + ' '\n",
    "    return text_with_space\n",
    "\n",
    "def load_file(file_dir, lable):\n",
    "    \"\"\"将路径下所有文件加载\"\"\"\n",
    "    file_list = os.listdir(file_dir)\n",
    "    words_list = []\n",
    "    labless_list = []\n",
    "    for file in file_list:\n",
    "        file_path = file_dir + '/' + file\n",
    "        words_list.append(cut_words(file_path))\n",
    "        lables_list.append(lable)\n",
    "    return words_list, lables_list"
   ]
  },
  {
   "cell_type": "code",
   "execution_count": null,
   "id": "3354d721",
   "metadata": {},
   "outputs": [],
   "source": [
    "# 训练数据\n",
    "train_words_list1, train_labels1 = load_file('./text_classification-master/text classification/train/女性', '女性')\n",
    "train_words_list2, train_labels2 = load_file('./text_classification-master/text classification/train/体育', '体育')\n",
    "train_words_list3, train_labels3 = load_file('./text_classification-master/text classification/train/文学', '文学')\n",
    "train_words_list4, train_labels4 = load_file('./text_classification-master/text classification/train/校园', '校园')\n",
    "\n",
    "train_words_list = train_words_list1 + train_words_list2 + train_words_list3 + train_words_list4\n",
    "train_labels = train_labels1 + train_labels2 + train_labels3 + train_labels4"
   ]
  },
  {
   "cell_type": "code",
   "execution_count": null,
   "id": "c9b70c75",
   "metadata": {},
   "outputs": [],
   "source": [
    "# 测试数据\n",
    "test_words_list1, test_labels1 = load_file('./text_classification-master/text classification/test/女性', '女性')\n",
    "test_words_list2, test_labels2 = load_file('./text_classification-master/text classification/test/体育', '体育')\n",
    "test_words_list3, test_labels3 = load_file('./text_classification-master/text classification/test/文学', '文学')\n",
    "test_words_list4, test_labels4 = load_file('./text_classification-master/text classification/test/校园', '校园')\n",
    "\n",
    "test_words_list = test_words_list1 + test_words_list2 + test_words_list3 + test_words_list4\n",
    "test_labels = test_labels1 + test_labels2 + test_labels3 + test_labels4"
   ]
  },
  {
   "cell_type": "code",
   "execution_count": null,
   "id": "565e3aac",
   "metadata": {},
   "outputs": [],
   "source": [
    "# 停用词语\n",
    "stop_words = open('./text_classification-master/text classification/stop/stopword.txt', 'r', encoding='utf-8').read()\n",
    "stop_words = stop_words.encode('utf-8').decode('utf-8-sig') # 列表头部\\ufeff处理\n",
    "stop_words = stop_words.split('\\n') # 根据分隔符分隔"
   ]
  },
  {
   "cell_type": "code",
   "execution_count": null,
   "id": "5e6ab8da",
   "metadata": {},
   "outputs": [],
   "source": [
    "# 计算单词权重\n",
    "tf = TfidfVectorizer(stop_words=stop_words, max_df=0.5)\n",
    "\n",
    "# 提取训练集特征\n",
    "train_features = tf.fit_transform(train_words_list)\n",
    "\n",
    "# 提取测试集特征 - 如果训练阶段使用fit_transform，则在测试阶段只需要对测试样本进行transform就行了。\n",
    "test_features = tf.transform(test_words_list)"
   ]
  },
  {
   "cell_type": "code",
   "execution_count": null,
   "id": "8d66e91b",
   "metadata": {},
   "outputs": [],
   "source": [
    "# 多项式贝叶斯分类器\n",
    "clf = MultinomialNB(alpha=0.001).fit(train_features, train_labels)\n",
    "predicted_labels=clf.predict(test_features)"
   ]
  },
  {
   "cell_type": "code",
   "execution_count": null,
   "id": "e1d455d1",
   "metadata": {},
   "outputs": [],
   "source": [
    "# 计算准确率\n",
    "print('准确率为：', metrics.accuracy_score(test_labels, predicted_labels))"
   ]
  },
  {
   "cell_type": "markdown",
   "id": "0fa06335",
   "metadata": {},
   "source": [
    "# SVM(支持向量机) - 乳腺癌检测"
   ]
  },
  {
   "cell_type": "code",
   "execution_count": null,
   "id": "934a1ab2",
   "metadata": {},
   "outputs": [],
   "source": [
    "import pandas as pd\n",
    "import seaborn as sns\n",
    "from matplotlib import pyplot as plt\n",
    "from sklearn.model_selection import train_test_split\n",
    "from sklearn.preprocessing import StandardScaler \n",
    "from sklearn import svm\n",
    "from sklearn.metrics import accuracy_score"
   ]
  },
  {
   "cell_type": "code",
   "execution_count": null,
   "id": "898f2678",
   "metadata": {},
   "outputs": [],
   "source": [
    "df = pd.read_csv('./breast_cancer_data-master/data.csv')"
   ]
  },
  {
   "cell_type": "code",
   "execution_count": null,
   "id": "f5a72694",
   "metadata": {},
   "outputs": [],
   "source": [
    "# 将特征值分为3组\n",
    "features_mean = list(df.columns[2:12])\n",
    "features_se = list(df.columns[12:22])\n",
    "features_worst = list(df.columns[22:32])\n",
    "\n",
    "# 数据清洗\n",
    "df.drop('id', axis=1, inplace=True)\n",
    "\n",
    "# 将B替换为0，M替换为1\n",
    "df['diagnosis'] = df['diagnosis'].map({'M':1, 'B':0})"
   ]
  },
  {
   "cell_type": "code",
   "execution_count": null,
   "id": "2d17470f",
   "metadata": {},
   "outputs": [],
   "source": [
    "# 数据可视化\n",
    "sns.countplot(df['diagnosis'], label='Count')\n",
    "plt.show()\n",
    "\n",
    "# 热力图呈现feature_mean字段间的相关性\n",
    "corr = df[features_mean].corr()\n",
    "plt.figure(figsize=(14, 14))\n",
    "sns.heatmap(corr, annot=True)\n",
    "plt.show()"
   ]
  },
  {
   "cell_type": "code",
   "execution_count": null,
   "id": "42abc4d2",
   "metadata": {},
   "outputs": [],
   "source": [
    "# 特征选择\n",
    "featurs_remian = ['radius_mean','texture_mean', 'smoothness_mean','compactness_mean','symmetry_mean', 'fractal_dimension_mean']"
   ]
  },
  {
   "cell_type": "code",
   "execution_count": null,
   "id": "56afabca",
   "metadata": {},
   "outputs": [],
   "source": [
    "# 抽取30%的样本作为测试集\n",
    "train, test = train_test_split(df, test_size=0.3)\n",
    "# 特征抽取\n",
    "train_X = train[featurs_remian]\n",
    "train_Y = train['diagnosis']\n",
    "test_X = train[featurs_remian]\n",
    "test_Y = train['diagnosis']"
   ]
  },
  {
   "cell_type": "code",
   "execution_count": null,
   "id": "62910aa4",
   "metadata": {},
   "outputs": [],
   "source": [
    "# 数据均一化\n",
    "s = StandardScaler()\n",
    "train_X = s.fit_transform(train_X)\n",
    "test_X = s.transform(test_X)"
   ]
  },
  {
   "cell_type": "code",
   "execution_count": null,
   "id": "2ba1a652",
   "metadata": {},
   "outputs": [],
   "source": [
    "# 模型训练\n",
    "model = svm.SVC()\n",
    "\n",
    "model.fit(train_X, train_Y)\n",
    "\n",
    "predict = model.predict(test_X)\n",
    "\n",
    "print(accuracy_score(test_Y, predict))"
   ]
  },
  {
   "cell_type": "markdown",
   "id": "ed7ec400",
   "metadata": {},
   "source": [
    "# KNN - 手写数字识别"
   ]
  },
  {
   "cell_type": "code",
   "execution_count": null,
   "id": "2cbc311c",
   "metadata": {},
   "outputs": [],
   "source": [
    "from sklearn.datasets import load_digits\n",
    "from sklearn.neighbors import KNeighborsClassifier\n",
    "from sklearn.preprocessing import MinMaxScaler\n",
    "from sklearn.tree import DecisionTreeClassifier\n",
    "from sklearn.naive_bayes import MultinomialNB"
   ]
  },
  {
   "cell_type": "code",
   "execution_count": null,
   "id": "6d11d826",
   "metadata": {},
   "outputs": [],
   "source": [
    "# 加载数据\n",
    "digits = load_digits()\n",
    "data = digits.data\n",
    "\n",
    "# 探索数据\n",
    "print(data.shape)\n",
    "\n",
    "# 查看第一幅图像\n",
    "print(digits.images[0])\n",
    "\n",
    "# 第一幅图像代表的数字含义\n",
    "print(digits.target[0])\n",
    "\n",
    "# 将第一幅图像显示出来\n",
    "plt.gray()\n",
    "plt.imshow(digits.images[0])\n",
    "plt.show()"
   ]
  },
  {
   "cell_type": "code",
   "execution_count": null,
   "id": "976debcb",
   "metadata": {},
   "outputs": [],
   "source": [
    "# 分割数据，将25%的数据作为测试集，其余作为训练集（你也可以指定其他比例的数据作为训练集）\n",
    "train_x, test_x, train_y, test_y = train_test_split(data, digits.target, test_size=0.25, random_state=33)\n",
    "\n",
    "# 采用Z-Score规范化\n",
    "ss = StandardScaler()\n",
    "train_ss_x = ss.fit_transform(train_x)\n",
    "test_ss_x = ss.transform(test_x)"
   ]
  },
  {
   "cell_type": "code",
   "execution_count": null,
   "id": "3b8191a7",
   "metadata": {},
   "outputs": [],
   "source": [
    "# 创建KNN分类器\n",
    "knn = KNeighborsClassifier() \n",
    "\n",
    "knn.fit(train_ss_x, train_y) \n",
    "\n",
    "predict_y = knn.predict(test_ss_x) \n",
    "\n",
    "print(\"KNN准确率: %.4lf\" % accuracy_score(test_y, predict_y))"
   ]
  },
  {
   "cell_type": "code",
   "execution_count": null,
   "id": "4e04f342",
   "metadata": {},
   "outputs": [],
   "source": [
    "# 创建SVM分类器\n",
    "svm = svm.SVC()\n",
    "svm.fit(train_ss_x, train_y)\n",
    "predict_y=svm.predict(test_ss_x)\n",
    "print('SVM准确率: %0.4lf' % accuracy_score(test_y, predict_y))\n",
    "\n",
    "# 采用Min-Max规范化\n",
    "mm = MinMaxScaler()\n",
    "train_mm_x = mm.fit_transform(train_x)\n",
    "test_mm_x = mm.transform(test_x)\n",
    "\n",
    "# 创建Naive Bayes分类器\n",
    "mnb = MultinomialNB()\n",
    "mnb.fit(train_mm_x, train_y) \n",
    "predict_y = mnb.predict(test_mm_x) \n",
    "print(\"多项式朴素贝叶斯准确率: %.4lf\" % accuracy_score(test_y, predict_y))\n",
    "\n",
    "# 创建CART决策树分类器\n",
    "dtc = DecisionTreeClassifier()\n",
    "dtc.fit(train_mm_x, train_y) \n",
    "predict_y = dtc.predict(test_mm_x) \n",
    "print(\"CART决策树准确率: %.4lf\" % accuracy_score(test_y, predict_y))"
   ]
  },
  {
   "cell_type": "markdown",
   "id": "78eaf41a",
   "metadata": {},
   "source": [
    "# EM聚类 - 王者荣耀英雄数据"
   ]
  },
  {
   "cell_type": "code",
   "execution_count": null,
   "id": "bf7f05df",
   "metadata": {},
   "outputs": [],
   "source": [
    "import pandas as pd \n",
    "import matplotlib.pyplot as plt\n",
    "import seaborn as sns\n",
    "from sklearn.preprocessing import StandardScaler\n",
    "from sklearn.mixture import GaussianMixture\n",
    "\n",
    "plt.rcParams['font.sans-serif']=['SimHei'] #用来正常显示中文标签\n",
    "plt.rcParams['axes.unicode_minus']=False #用来正常显示负号"
   ]
  },
  {
   "cell_type": "code",
   "execution_count": null,
   "id": "31cf9deb",
   "metadata": {},
   "outputs": [],
   "source": [
    "# 加载数据\n",
    "data = pd.read_csv('./EM_data-master/heros.csv', encoding='gbk')\n",
    "\n",
    "# 抽取可数值化的特征\n",
    "features = list(data.columns[1:-2])\n",
    "data_features = data[features]\n",
    "\n",
    "# 用热力图呈现各特征之间的相关性\n",
    "corr = data.corr()\n",
    "plt.figure(figsize=(14, 14))\n",
    "sns.heatmap(corr, annot=True)\n",
    "plt.show()"
   ]
  },
  {
   "cell_type": "code",
   "execution_count": null,
   "id": "edd95f31",
   "metadata": {},
   "outputs": [],
   "source": [
    "# 相关性大的属性保留一个，因此可以对属性进行降维\n",
    "features_remain = ['最大生命', '初始生命', '最大法力', '最高物攻', '初始物攻', '最大物防', '初始物防', '最大每5秒回血', '最大每5秒回蓝', '初始每5秒回蓝', '最大攻速', '攻击范围']\n",
    "data_remian = data[features_remain]\n",
    "\n",
    "pd.set_option('mode.chained_assignment', None)\n",
    "data_remian['最大攻速'] = data_remian['最大攻速'].apply(lambda x: float(x.strip('%')))\n",
    "data_remian['攻击范围'] = data_remian['攻击范围'].map({'远程':1, '近战':0})\n",
    "\n",
    "# 采用Z-Score规范化数据\n",
    "ss = StandardScaler()\n",
    "data_remian = ss.fit_transform(data_remian)\n",
    "\n",
    "# 构造高斯聚类\n",
    "gmm = GaussianMixture(n_components=30, covariance_type='full')\n",
    "gmm.fit(data_remian)\n",
    "\n",
    "# 训练数据\n",
    "predict = gmm.predict(data_remian)\n",
    "print(predict)"
   ]
  },
  {
   "cell_type": "markdown",
   "id": "31234d49",
   "metadata": {},
   "source": [
    "# AdaBoost - boston房价预测"
   ]
  },
  {
   "cell_type": "code",
   "execution_count": null,
   "id": "f6915298",
   "metadata": {},
   "outputs": [],
   "source": [
    "from sklearn.ensemble import AdaBoostRegressor\n",
    "from sklearn.model_selection import train_test_split\n",
    "from sklearn.datasets import load_boston\n",
    "from sklearn.metrics import mean_squared_error"
   ]
  },
  {
   "cell_type": "code",
   "execution_count": null,
   "id": "3761e583",
   "metadata": {},
   "outputs": [],
   "source": [
    "# 加载数据\n",
    "data = load_boston()\n",
    "\n",
    "# 分割数据\n",
    "train_x, test_x, train_y, test_y = train_test_split(data.data, data.target, test_size=0.3, random_state=33)\n",
    "\n",
    "# 使用AdaBoost回归模型\n",
    "re = AdaBoostRegressor()\n",
    "re.fit(train_x, train_y)\n",
    "pred_y = re.predict(test_x)\n",
    "mse = mean_squared_error(test_y, pred_y)\n",
    "print(\"房价预测结果 \", pred_y)\n",
    "print(\"均方误差 = \",round(mse,2))"
   ]
  },
  {
   "cell_type": "code",
   "execution_count": null,
   "id": "5b5ccabe",
   "metadata": {},
   "outputs": [],
   "source": []
  }
 ],
 "metadata": {
  "kernelspec": {
   "display_name": "Python 3 (ipykernel)",
   "language": "python",
   "name": "python3"
  },
  "language_info": {
   "codemirror_mode": {
    "name": "ipython",
    "version": 3
   },
   "file_extension": ".py",
   "mimetype": "text/x-python",
   "name": "python",
   "nbconvert_exporter": "python",
   "pygments_lexer": "ipython3",
   "version": "3.9.6"
  },
  "toc": {
   "base_numbering": 1,
   "nav_menu": {},
   "number_sections": false,
   "sideBar": true,
   "skip_h1_title": false,
   "title_cell": "Table of Contents",
   "title_sidebar": "Contents",
   "toc_cell": false,
   "toc_position": {},
   "toc_section_display": true,
   "toc_window_display": false
  }
 },
 "nbformat": 4,
 "nbformat_minor": 5
}
