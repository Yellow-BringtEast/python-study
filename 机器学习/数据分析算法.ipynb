{
 "cells": [
  {
   "cell_type": "markdown",
   "id": "6b9e9a1b",
   "metadata": {},
   "source": [
    "# 决策树"
   ]
  },
  {
   "cell_type": "markdown",
   "id": "c87ddfa4",
   "metadata": {},
   "source": [
    "## ID3"
   ]
  },
  {
   "cell_type": "code",
   "execution_count": null,
   "id": "5a15aaca",
   "metadata": {},
   "outputs": [],
   "source": [
    "from sklearn import tree \n",
    "import numpy as np"
   ]
  },
  {
   "cell_type": "code",
   "execution_count": null,
   "id": "9e926de3",
   "metadata": {},
   "outputs": [],
   "source": [
    "data = np.array([[1,1], [1, 0], [0,1], [0, 0]])"
   ]
  },
  {
   "cell_type": "code",
   "execution_count": null,
   "id": "53cea1be",
   "metadata": {},
   "outputs": [],
   "source": [
    "target = np.array([1, 1, 0, 0])"
   ]
  },
  {
   "cell_type": "code",
   "execution_count": null,
   "id": "5ec8b93f",
   "metadata": {},
   "outputs": [],
   "source": [
    "clf = tree.DecisionTreeClassifier()\n",
    "clf = clf.fit(data, target)"
   ]
  },
  {
   "cell_type": "code",
   "execution_count": null,
   "id": "05032423",
   "metadata": {},
   "outputs": [],
   "source": [
    "dat = tree.export_text(clf, feature_names=None)\n",
    "dat"
   ]
  },
  {
   "cell_type": "markdown",
   "id": "c3c5009e",
   "metadata": {},
   "source": [
    "## CART分类决策树 - 鸢尾花数据集"
   ]
  },
  {
   "cell_type": "code",
   "execution_count": null,
   "id": "ea35a3cb",
   "metadata": {},
   "outputs": [],
   "source": [
    "from sklearn.model_selection import train_test_split\n",
    "from sklearn.metrics import accuracy_score\n",
    "from sklearn.tree import DecisionTreeClassifier\n",
    "from sklearn.datasets import load_iris"
   ]
  },
  {
   "cell_type": "code",
   "execution_count": null,
   "id": "3c4afb14",
   "metadata": {},
   "outputs": [],
   "source": [
    "# 准备数据\n",
    "iris = load_iris()"
   ]
  },
  {
   "cell_type": "code",
   "execution_count": null,
   "id": "16e38c44",
   "metadata": {},
   "outputs": [],
   "source": [
    "# 获取特征集和分类标识\n",
    "features = iris.data\n",
    "labels = iris.target"
   ]
  },
  {
   "cell_type": "code",
   "execution_count": null,
   "id": "14b45522",
   "metadata": {},
   "outputs": [],
   "source": [
    "# 随机抽取33%的数据作为测试集，其余为训练集\n",
    "train_features, test_features, train_labels, test_labels = train_test_split(features, labels, test_size=0.33, random_state=0)"
   ]
  },
  {
   "cell_type": "code",
   "execution_count": null,
   "id": "1fa9722f",
   "metadata": {},
   "outputs": [],
   "source": [
    "# 创建CART分类树做预测\n",
    "clf = DecisionTreeClassifier(criterion='gini')"
   ]
  },
  {
   "cell_type": "code",
   "execution_count": null,
   "id": "45d3b331",
   "metadata": {},
   "outputs": [],
   "source": [
    "# 拟合构造的CART分类树\n",
    "clf = clf.fit(train_features, train_labels)"
   ]
  },
  {
   "cell_type": "code",
   "execution_count": null,
   "id": "6c5cb2d7",
   "metadata": {},
   "outputs": [],
   "source": [
    "# 用CART分类树做预测\n",
    "test_predict = clf.predict(test_features)"
   ]
  },
  {
   "cell_type": "code",
   "execution_count": null,
   "id": "f276c58b",
   "metadata": {},
   "outputs": [],
   "source": [
    "# 预测集与结果集比较\n",
    "score = accuracy_score(test_labels, test_predict)\n",
    "print(\"CART分类树准确率 %.4lf\" % score)"
   ]
  },
  {
   "cell_type": "markdown",
   "id": "a01514f6",
   "metadata": {},
   "source": [
    "## CART分类决策树 - 手写数字数据集"
   ]
  },
  {
   "cell_type": "code",
   "execution_count": null,
   "id": "5104f3a9",
   "metadata": {},
   "outputs": [],
   "source": [
    "from sklearn.datasets import load_digits"
   ]
  },
  {
   "cell_type": "code",
   "execution_count": null,
   "id": "ab82045d",
   "metadata": {},
   "outputs": [],
   "source": [
    "digit = load_digits()\n",
    "features = digit.data\n",
    "targets = digit.target\n",
    "train_features, test_features, train_labels, test_labels = train_test_split(features, targets, test_size=0.33, random_state=0)\n",
    "clf = DecisionTreeClassifier(criterion='gini')\n",
    "clf = clf.fit(train_features, train_labels)\n",
    "test_predict = clf.predict(test_features)\n",
    "score = accuracy_score(test_labels, test_predict)\n",
    "score"
   ]
  },
  {
   "cell_type": "markdown",
   "id": "73cfd8b0",
   "metadata": {},
   "source": [
    "## CART回归决策树 - 波士顿房价数据集"
   ]
  },
  {
   "cell_type": "code",
   "execution_count": null,
   "id": "b4a39b7f",
   "metadata": {},
   "outputs": [],
   "source": [
    "from sklearn.metrics import mean_squared_error\n",
    "from sklearn.model_selection import train_test_split\n",
    "from sklearn.datasets import load_boston\n",
    "from sklearn.metrics import r2_score, mean_absolute_error\n",
    "from sklearn.tree import DecisionTreeRegressor"
   ]
  },
  {
   "cell_type": "code",
   "execution_count": null,
   "id": "0e9fae86",
   "metadata": {},
   "outputs": [],
   "source": [
    "# 准备数据\n",
    "boston = load_boston()\n",
    "print(boston.feature_names)"
   ]
  },
  {
   "cell_type": "code",
   "execution_count": null,
   "id": "cf3d8d4b",
   "metadata": {},
   "outputs": [],
   "source": [
    "# 获取特征集和房价\n",
    "features = boston.data\n",
    "prices = boston.target\n",
    "# 随机抽取33%的数据作为测试集，其余为训练集\n",
    "train_features, test_features, train_price, test_price = train_test_split(features, prices, test_size=0.33)\n",
    "# 创建CART回归树\n",
    "dtr = DecisionTreeRegressor()\n",
    "# 拟合CART回归树\n",
    "dtr.fit(train_features, train_price)\n",
    "# 预测测试集中的房价\n",
    "predict_price = dtr.predict(test_features)\n",
    "# 测试集的结果评价\n",
    "print('回归树二乘偏差均值:', mean_squared_error(test_price, predict_price))\n",
    "print('回归树绝对值偏差均值:', mean_absolute_error(test_price, predict_price))"
   ]
  },
  {
   "cell_type": "code",
   "execution_count": null,
   "id": "bcf1bca2",
   "metadata": {},
   "outputs": [],
   "source": [
    "predict_price"
   ]
  },
  {
   "cell_type": "markdown",
   "id": "e6332f98",
   "metadata": {},
   "source": [
    "## 决策树 - Titanic 乘客生存预测"
   ]
  },
  {
   "cell_type": "code",
   "execution_count": null,
   "id": "678809ab",
   "metadata": {},
   "outputs": [],
   "source": [
    "import pandas as pd"
   ]
  },
  {
   "cell_type": "code",
   "execution_count": null,
   "id": "d6f9c1a7",
   "metadata": {},
   "outputs": [],
   "source": [
    "train = pd.read_csv('./train.csv')\n",
    "test = pd.read_csv('./test.csv')"
   ]
  },
  {
   "cell_type": "code",
   "execution_count": null,
   "id": "13b4e619",
   "metadata": {},
   "outputs": [],
   "source": [
    "train.info()\n",
    "train.describe()\n",
    "train.describe(include=['O'])\n",
    "train.head()"
   ]
  },
  {
   "cell_type": "code",
   "execution_count": null,
   "id": "d173a986",
   "metadata": {},
   "outputs": [],
   "source": [
    "# 使用平均年龄来填充年龄中的nan值\n",
    "train['Age'].fillna(train['Age'].mean(), inplace=True)\n",
    "test['Age'].fillna(test['Age'].mean(),inplace=True)\n",
    "\n",
    "# 使用票价的均值填充票价中的nan值\n",
    "train['Fare'].fillna(train['Fare'].mean(), inplace=True)\n",
    "test['Fare'].fillna(test['Fare'].mean(),inplace=True)"
   ]
  },
  {
   "cell_type": "code",
   "execution_count": null,
   "id": "4f6b7a27",
   "metadata": {},
   "outputs": [],
   "source": [
    "train['Embarked'].value_counts()"
   ]
  },
  {
   "cell_type": "code",
   "execution_count": null,
   "id": "5d9fb4be",
   "metadata": {},
   "outputs": [],
   "source": [
    "train['Embarked'].fillna('S', inplace=True)\n",
    "test['Embarked'].fillna('S', inplace=True)"
   ]
  },
  {
   "cell_type": "code",
   "execution_count": null,
   "id": "60b9f885",
   "metadata": {},
   "outputs": [],
   "source": [
    "# 特征选择\n",
    "features = ['Pclass', 'Sex', 'Age', 'SibSp', 'Parch', 'Fare', 'Embarked']\n",
    "train_features = train[features]\n",
    "train_labels = train['Survived']\n",
    "test_features = test[features]"
   ]
  },
  {
   "cell_type": "code",
   "execution_count": null,
   "id": "516a0076",
   "metadata": {},
   "outputs": [],
   "source": [
    "# 处理字符串类型的离散变量\n",
    "from sklearn.feature_extraction import DictVectorizer\n",
    "dvec = DictVectorizer(sparse=False)\n",
    "train_features = dvec.fit_transform(train_features.to_dict(orient = 'record'))"
   ]
  },
  {
   "cell_type": "code",
   "execution_count": null,
   "id": "15ca5d64",
   "metadata": {},
   "outputs": [],
   "source": [
    "from sklearn.tree import DecisionTreeClassifier\n",
    "# 构造ID3决策树\n",
    "clf = DecisionTreeClassifier(criterion='entropy')\n",
    "# 决策树训练\n",
    "clf.fit(train_features, train_labels)"
   ]
  },
  {
   "cell_type": "code",
   "execution_count": null,
   "id": "cd071af5",
   "metadata": {},
   "outputs": [],
   "source": [
    "test_features=dvec.transform(test_features.to_dict(orient='record'))\n",
    "# 决策树预测\n",
    "pred_labels = clf.predict(test_features)\n",
    "\n",
    "# 得到决策树准确率\n",
    "acc_decision_tree = round(clf.score(train_features, train_labels), 6)\n",
    "print(u'score准确率为 %.4lf' % acc_decision_tree)"
   ]
  },
  {
   "cell_type": "code",
   "execution_count": null,
   "id": "daafbd20",
   "metadata": {},
   "outputs": [],
   "source": [
    "import numpy as np\n",
    "from sklearn.model_selection import cross_val_score\n",
    "# 使用K折交叉验证 统计决策树准确率\n",
    "print('cross_val_score准确率为 %.4lf' % np.mean(cross_val_score(clf, train_features, train_labels, cv=10)))"
   ]
  },
  {
   "cell_type": "markdown",
   "id": "5ea646c5",
   "metadata": {},
   "source": [
    "# 朴素贝叶斯 - 文档分类"
   ]
  },
  {
   "cell_type": "code",
   "execution_count": null,
   "id": "a84b47fd",
   "metadata": {},
   "outputs": [],
   "source": [
    "from sklearn.feature_extraction.text import TfidfVectorizer\n",
    "\n",
    "tfidf_vec = TfidfVectorizer()\n",
    "\n",
    "documents = [\n",
    "    'this is the bayes document',\n",
    "    'this is the second second document',\n",
    "    'and the third one',\n",
    "    'is this the document'\n",
    "]\n",
    "\n",
    "tfidf_matrix = tfidf_vec.fit_transform(documents)\n",
    "\n",
    "print('不重复的词:', tfidf_vec.get_feature_names())\n",
    "print('每个单词的ID：', tfidf_vec.vocabulary_)\n",
    "print('每个单词的tfidf值', tfidf_matrix.toarray())"
   ]
  },
  {
   "cell_type": "code",
   "execution_count": null,
   "id": "b0a26d05",
   "metadata": {},
   "outputs": [],
   "source": [
    "# 中文文档分类\n",
    "import os \n",
    "import jieba\n",
    "import warnings\n",
    "from sklearn.feature_extraction.text import TfidfVectorizer\n",
    "from sklearn import metrics\n",
    "from sklearn.naive_bayes import MultinomialNB \n",
    "\n",
    "warnings.filterwarnings('ignore')"
   ]
  },
  {
   "cell_type": "code",
   "execution_count": null,
   "id": "5188e875",
   "metadata": {},
   "outputs": [],
   "source": [
    "def cut_words(file_path):\n",
    "    \"\"\"对文件进行分词\"\"\"\n",
    "    text_with_space = ''\n",
    "    text = open(file_path, 'r', encoding='gb18030').read()\n",
    "    text_cut = jieba.cut(text)\n",
    "    for word in text_cut:\n",
    "        text_with_space += word + ' '\n",
    "    return text_with_space\n",
    "\n",
    "def load_file(file_dir, lable):\n",
    "    \"\"\"将路径下所有文件加载\"\"\"\n",
    "    file_list = os.listdir(file_dir)\n",
    "    words_list = []\n",
    "    labless_list = []\n",
    "    for file in file_list:\n",
    "        file_path = file_dir + '/' + file\n",
    "        words_list.append(cut_words(file_path))\n",
    "        lables_list.append(lable)\n",
    "    return words_list, lables_list"
   ]
  },
  {
   "cell_type": "code",
   "execution_count": null,
   "id": "3354d721",
   "metadata": {},
   "outputs": [],
   "source": [
    "# 训练数据\n",
    "train_words_list1, train_labels1 = load_file('./text_classification-master/text classification/train/女性', '女性')\n",
    "train_words_list2, train_labels2 = load_file('./text_classification-master/text classification/train/体育', '体育')\n",
    "train_words_list3, train_labels3 = load_file('./text_classification-master/text classification/train/文学', '文学')\n",
    "train_words_list4, train_labels4 = load_file('./text_classification-master/text classification/train/校园', '校园')\n",
    "\n",
    "train_words_list = train_words_list1 + train_words_list2 + train_words_list3 + train_words_list4\n",
    "train_labels = train_labels1 + train_labels2 + train_labels3 + train_labels4"
   ]
  },
  {
   "cell_type": "code",
   "execution_count": null,
   "id": "c9b70c75",
   "metadata": {},
   "outputs": [],
   "source": [
    "# 测试数据\n",
    "test_words_list1, test_labels1 = load_file('./text_classification-master/text classification/test/女性', '女性')\n",
    "test_words_list2, test_labels2 = load_file('./text_classification-master/text classification/test/体育', '体育')\n",
    "test_words_list3, test_labels3 = load_file('./text_classification-master/text classification/test/文学', '文学')\n",
    "test_words_list4, test_labels4 = load_file('./text_classification-master/text classification/test/校园', '校园')\n",
    "\n",
    "test_words_list = test_words_list1 + test_words_list2 + test_words_list3 + test_words_list4\n",
    "test_labels = test_labels1 + test_labels2 + test_labels3 + test_labels4"
   ]
  },
  {
   "cell_type": "code",
   "execution_count": null,
   "id": "565e3aac",
   "metadata": {},
   "outputs": [],
   "source": [
    "# 停用词语\n",
    "stop_words = open('./text_classification-master/text classification/stop/stopword.txt', 'r', encoding='utf-8').read()\n",
    "stop_words = stop_words.encode('utf-8').decode('utf-8-sig') # 列表头部\\ufeff处理\n",
    "stop_words = stop_words.split('\\n') # 根据分隔符分隔"
   ]
  },
  {
   "cell_type": "code",
   "execution_count": null,
   "id": "5e6ab8da",
   "metadata": {},
   "outputs": [],
   "source": [
    "# 计算单词权重\n",
    "tf = TfidfVectorizer(stop_words=stop_words, max_df=0.5)\n",
    "\n",
    "# 提取训练集特征\n",
    "train_features = tf.fit_transform(train_words_list)\n",
    "\n",
    "# 提取测试集特征 - 如果训练阶段使用fit_transform，则在测试阶段只需要对测试样本进行transform就行了。\n",
    "test_features = tf.transform(test_words_list)"
   ]
  },
  {
   "cell_type": "code",
   "execution_count": null,
   "id": "8d66e91b",
   "metadata": {},
   "outputs": [],
   "source": [
    "# 多项式贝叶斯分类器\n",
    "clf = MultinomialNB(alpha=0.001).fit(train_features, train_labels)\n",
    "predicted_labels=clf.predict(test_features)"
   ]
  },
  {
   "cell_type": "code",
   "execution_count": null,
   "id": "e1d455d1",
   "metadata": {},
   "outputs": [],
   "source": [
    "# 计算准确率\n",
    "print('准确率为：', metrics.accuracy_score(test_labels, predicted_labels))"
   ]
  },
  {
   "cell_type": "markdown",
   "id": "0fa06335",
   "metadata": {},
   "source": [
    "# SVM(支持向量机) - 乳腺癌检测"
   ]
  },
  {
   "cell_type": "code",
   "execution_count": null,
   "id": "934a1ab2",
   "metadata": {},
   "outputs": [],
   "source": [
    "import pandas as pd\n",
    "import seaborn as sns\n",
    "from matplotlib import pyplot as plt\n",
    "from sklearn.model_selection import train_test_split\n",
    "from sklearn.preprocessing import StandardScaler \n",
    "from sklearn import svm\n",
    "from sklearn.metrics import accuracy_score"
   ]
  },
  {
   "cell_type": "code",
   "execution_count": null,
   "id": "898f2678",
   "metadata": {},
   "outputs": [],
   "source": [
    "df = pd.read_csv('./breast_cancer_data-master/data.csv')"
   ]
  },
  {
   "cell_type": "code",
   "execution_count": null,
   "id": "f5a72694",
   "metadata": {},
   "outputs": [],
   "source": [
    "# 将特征值分为3组\n",
    "features_mean = list(df.columns[2:12])\n",
    "features_se = list(df.columns[12:22])\n",
    "features_worst = list(df.columns[22:32])\n",
    "\n",
    "# 数据清洗\n",
    "df.drop('id', axis=1, inplace=True)\n",
    "\n",
    "# 将B替换为0，M替换为1\n",
    "df['diagnosis'] = df['diagnosis'].map({'M':1, 'B':0})"
   ]
  },
  {
   "cell_type": "code",
   "execution_count": null,
   "id": "2d17470f",
   "metadata": {},
   "outputs": [],
   "source": [
    "# 数据可视化\n",
    "sns.countplot(df['diagnosis'], label='Count')\n",
    "plt.show()\n",
    "\n",
    "# 热力图呈现feature_mean字段间的相关性\n",
    "corr = df[features_mean].corr()\n",
    "plt.figure(figsize=(14, 14))\n",
    "sns.heatmap(corr, annot=True)\n",
    "plt.show()"
   ]
  },
  {
   "cell_type": "code",
   "execution_count": null,
   "id": "42abc4d2",
   "metadata": {},
   "outputs": [],
   "source": [
    "# 特征选择\n",
    "featurs_remian = ['radius_mean','texture_mean', 'smoothness_mean','compactness_mean','symmetry_mean', 'fractal_dimension_mean']"
   ]
  },
  {
   "cell_type": "code",
   "execution_count": null,
   "id": "56afabca",
   "metadata": {},
   "outputs": [],
   "source": [
    "# 抽取30%的样本作为测试集\n",
    "train, test = train_test_split(df, test_size=0.3)\n",
    "# 特征抽取\n",
    "train_X = train[featurs_remian]\n",
    "train_Y = train['diagnosis']\n",
    "test_X = train[featurs_remian]\n",
    "test_Y = train['diagnosis']"
   ]
  },
  {
   "cell_type": "code",
   "execution_count": null,
   "id": "62910aa4",
   "metadata": {},
   "outputs": [],
   "source": [
    "# 数据均一化\n",
    "s = StandardScaler()\n",
    "train_X = s.fit_transform(train_X)\n",
    "test_X = s.transform(test_X)"
   ]
  },
  {
   "cell_type": "code",
   "execution_count": null,
   "id": "2ba1a652",
   "metadata": {},
   "outputs": [],
   "source": [
    "# 模型训练\n",
    "model = svm.SVC()\n",
    "\n",
    "model.fit(train_X, train_Y)\n",
    "\n",
    "predict = model.predict(test_X)\n",
    "\n",
    "print(accuracy_score(test_Y, predict))"
   ]
  },
  {
   "cell_type": "markdown",
   "id": "ed7ec400",
   "metadata": {},
   "source": [
    "# KNN - 手写数字识别"
   ]
  },
  {
   "cell_type": "code",
   "execution_count": null,
   "id": "2cbc311c",
   "metadata": {},
   "outputs": [],
   "source": [
    "from sklearn.datasets import load_digits\n",
    "from sklearn.neighbors import KNeighborsClassifier\n",
    "from sklearn.preprocessing import MinMaxScaler\n",
    "from sklearn.tree import DecisionTreeClassifier\n",
    "from sklearn.naive_bayes import MultinomialNB"
   ]
  },
  {
   "cell_type": "code",
   "execution_count": null,
   "id": "6d11d826",
   "metadata": {},
   "outputs": [],
   "source": [
    "# 加载数据\n",
    "digits = load_digits()\n",
    "data = digits.data\n",
    "\n",
    "# 探索数据\n",
    "print(data.shape)\n",
    "\n",
    "# 查看第一幅图像\n",
    "print(digits.images[0])\n",
    "\n",
    "# 第一幅图像代表的数字含义\n",
    "print(digits.target[0])\n",
    "\n",
    "# 将第一幅图像显示出来\n",
    "plt.gray()\n",
    "plt.imshow(digits.images[0])\n",
    "plt.show()"
   ]
  },
  {
   "cell_type": "code",
   "execution_count": null,
   "id": "976debcb",
   "metadata": {},
   "outputs": [],
   "source": [
    "# 分割数据，将25%的数据作为测试集，其余作为训练集（你也可以指定其他比例的数据作为训练集）\n",
    "train_x, test_x, train_y, test_y = train_test_split(data, digits.target, test_size=0.25, random_state=33)\n",
    "\n",
    "# 采用Z-Score规范化\n",
    "ss = StandardScaler()\n",
    "train_ss_x = ss.fit_transform(train_x)\n",
    "test_ss_x = ss.transform(test_x)"
   ]
  },
  {
   "cell_type": "code",
   "execution_count": null,
   "id": "3b8191a7",
   "metadata": {},
   "outputs": [],
   "source": [
    "# 创建KNN分类器\n",
    "knn = KNeighborsClassifier() \n",
    "\n",
    "knn.fit(train_ss_x, train_y) \n",
    "\n",
    "predict_y = knn.predict(test_ss_x) \n",
    "\n",
    "print(\"KNN准确率: %.4lf\" % accuracy_score(test_y, predict_y))"
   ]
  },
  {
   "cell_type": "code",
   "execution_count": null,
   "id": "4e04f342",
   "metadata": {},
   "outputs": [],
   "source": [
    "# 创建SVM分类器\n",
    "svm = svm.SVC()\n",
    "svm.fit(train_ss_x, train_y)\n",
    "predict_y=svm.predict(test_ss_x)\n",
    "print('SVM准确率: %0.4lf' % accuracy_score(test_y, predict_y))\n",
    "\n",
    "# 采用Min-Max规范化\n",
    "mm = MinMaxScaler()\n",
    "train_mm_x = mm.fit_transform(train_x)\n",
    "test_mm_x = mm.transform(test_x)\n",
    "\n",
    "# 创建Naive Bayes分类器\n",
    "mnb = MultinomialNB()\n",
    "mnb.fit(train_mm_x, train_y) \n",
    "predict_y = mnb.predict(test_mm_x) \n",
    "print(\"多项式朴素贝叶斯准确率: %.4lf\" % accuracy_score(test_y, predict_y))\n",
    "\n",
    "# 创建CART决策树分类器\n",
    "dtc = DecisionTreeClassifier()\n",
    "dtc.fit(train_mm_x, train_y) \n",
    "predict_y = dtc.predict(test_mm_x) \n",
    "print(\"CART决策树准确率: %.4lf\" % accuracy_score(test_y, predict_y))"
   ]
  },
  {
   "cell_type": "markdown",
   "id": "78eaf41a",
   "metadata": {},
   "source": [
    "# EM聚类 - 王者荣耀英雄数据"
   ]
  },
  {
   "cell_type": "code",
   "execution_count": null,
   "id": "bf7f05df",
   "metadata": {},
   "outputs": [],
   "source": [
    "import pandas as pd \n",
    "import matplotlib.pyplot as plt\n",
    "import seaborn as sns\n",
    "from sklearn.preprocessing import StandardScaler\n",
    "from sklearn.mixture import GaussianMixture\n",
    "\n",
    "plt.rcParams['font.sans-serif']=['SimHei'] #用来正常显示中文标签\n",
    "plt.rcParams['axes.unicode_minus']=False #用来正常显示负号"
   ]
  },
  {
   "cell_type": "code",
   "execution_count": null,
   "id": "31cf9deb",
   "metadata": {},
   "outputs": [],
   "source": [
    "# 加载数据\n",
    "data = pd.read_csv('./EM_data-master/heros.csv', encoding='gbk')\n",
    "\n",
    "# 抽取可数值化的特征\n",
    "features = list(data.columns[1:-2])\n",
    "data_features = data[features]\n",
    "\n",
    "# 用热力图呈现各特征之间的相关性\n",
    "corr = data.corr()\n",
    "plt.figure(figsize=(14, 14))\n",
    "sns.heatmap(corr, annot=True)\n",
    "plt.show()"
   ]
  },
  {
   "cell_type": "code",
   "execution_count": null,
   "id": "edd95f31",
   "metadata": {},
   "outputs": [],
   "source": [
    "# 相关性大的属性保留一个，因此可以对属性进行降维\n",
    "features_remain = ['最大生命', '初始生命', '最大法力', '最高物攻', '初始物攻', '最大物防', '初始物防', '最大每5秒回血', '最大每5秒回蓝', '初始每5秒回蓝', '最大攻速', '攻击范围']\n",
    "data_remian = data[features_remain]\n",
    "\n",
    "pd.set_option('mode.chained_assignment', None)\n",
    "data_remian['最大攻速'] = data_remian['最大攻速'].apply(lambda x: float(x.strip('%')))\n",
    "data_remian['攻击范围'] = data_remian['攻击范围'].map({'远程':1, '近战':0})\n",
    "\n",
    "# 采用Z-Score规范化数据\n",
    "ss = StandardScaler()\n",
    "data_remian = ss.fit_transform(data_remian)\n",
    "\n",
    "# 构造高斯聚类\n",
    "gmm = GaussianMixture(n_components=30, covariance_type='full')\n",
    "gmm.fit(data_remian)\n",
    "\n",
    "# 训练数据\n",
    "predict = gmm.predict(data_remian)\n",
    "print(predict)"
   ]
  },
  {
   "cell_type": "markdown",
   "id": "31234d49",
   "metadata": {},
   "source": [
    "# AdaBoost - boston房价预测"
   ]
  },
  {
   "cell_type": "code",
   "execution_count": null,
   "id": "f6915298",
   "metadata": {},
   "outputs": [],
   "source": [
    "from sklearn.ensemble import AdaBoostRegressor\n",
    "from sklearn.model_selection import train_test_split\n",
    "from sklearn.datasets import load_boston\n",
    "from sklearn.metrics import mean_squared_error"
   ]
  },
  {
   "cell_type": "code",
   "execution_count": null,
   "id": "3761e583",
   "metadata": {},
   "outputs": [],
   "source": [
    "# 加载数据\n",
    "data = load_boston()\n",
    "\n",
    "# 分割数据\n",
    "train_x, test_x, train_y, test_y = train_test_split(data.data, data.target, test_size=0.3, random_state=33)\n",
    "\n",
    "# 使用AdaBoost回归模型\n",
    "re = AdaBoostRegressor()\n",
    "re.fit(train_x, train_y)\n",
    "pred_y = re.predict(test_x)\n",
    "mse = mean_squared_error(test_y, pred_y)\n",
    "print(\"房价预测结果 \", pred_y)\n",
    "print(\"均方误差 = \",round(mse,2))"
   ]
  },
  {
   "cell_type": "markdown",
   "id": "9d00be50",
   "metadata": {},
   "source": [
    "# GridSearchCV参数调优 - 随机森林算法"
   ]
  },
  {
   "cell_type": "code",
   "execution_count": 1,
   "id": "b7c1bae3",
   "metadata": {},
   "outputs": [
    {
     "name": "stdout",
     "output_type": "stream",
     "text": [
      "最优分数： 0.9667\n",
      "最优参数： {'n_estimators': 5}\n"
     ]
    }
   ],
   "source": [
    "from sklearn.ensemble import RandomForestClassifier\n",
    "from sklearn.model_selection import GridSearchCV\n",
    "from sklearn.datasets import load_iris\n",
    "\n",
    "rf = RandomForestClassifier()\n",
    "parameters = {\"n_estimators\": range(1, 11)}\n",
    "iris = load_iris()\n",
    "\n",
    "# 使用GridSearchCV进行参数调优\n",
    "clf = GridSearchCV(estimator=rf, param_grid=parameters)\n",
    "\n",
    "# 对iris数据进行分类\n",
    "clf.fit(iris.data, iris.target)\n",
    "\n",
    "print(\"最优分数： %.4lf\" %clf.best_score_)\n",
    "print(\"最优参数：\", clf.best_params_)"
   ]
  },
  {
   "cell_type": "markdown",
   "id": "f7702d0f",
   "metadata": {},
   "source": [
    "# Pipeline 工作流 - Iris数据集"
   ]
  },
  {
   "cell_type": "code",
   "execution_count": 6,
   "id": "03311a26",
   "metadata": {},
   "outputs": [
    {
     "name": "stdout",
     "output_type": "stream",
     "text": [
      "最优分数： 0.9667\n",
      "最优参数： {'randomforestclassifier__n_estimators': 3}\n"
     ]
    }
   ],
   "source": [
    "# 使用RandomForest对IRIS数据集进行分类\n",
    "# 利用GridSearchCV寻找最优参数,使用Pipeline进行流水作业\n",
    "from sklearn.ensemble import RandomForestClassifier\n",
    "from sklearn.model_selection import GridSearchCV\n",
    "from sklearn.datasets import load_iris\n",
    "from sklearn.preprocessing import StandardScaler\n",
    "from sklearn.pipeline import Pipeline\n",
    "\n",
    "rf = RandomForestClassifier()\n",
    "parameters = {\"randomforestclassifier__n_estimators\": range(1,11)}\n",
    "iris = load_iris()\n",
    "\n",
    "pipeline = Pipeline([\n",
    "        ('scaler', StandardScaler()),\n",
    "        ('randomforestclassifier', rf)\n",
    "])\n",
    "\n",
    "# 使用GridSearchCV进行参数调优\n",
    "clf = GridSearchCV(estimator=pipeline, param_grid=parameters)\n",
    "# 对iris数据集进行分类\n",
    "clf.fit(iris.data, iris.target)\n",
    "print(\"最优分数： %.4lf\" %clf.best_score_)\n",
    "print(\"最优参数：\", clf.best_params_)"
   ]
  },
  {
   "cell_type": "markdown",
   "id": "03b45cef",
   "metadata": {},
   "source": [
    "# GridSearchCV + Pipeline - 信用卡违约率"
   ]
  },
  {
   "cell_type": "code",
   "execution_count": 8,
   "id": "6dd32901",
   "metadata": {},
   "outputs": [
    {
     "data": {
      "text/html": [
       "<div>\n",
       "<style scoped>\n",
       "    .dataframe tbody tr th:only-of-type {\n",
       "        vertical-align: middle;\n",
       "    }\n",
       "\n",
       "    .dataframe tbody tr th {\n",
       "        vertical-align: top;\n",
       "    }\n",
       "\n",
       "    .dataframe thead th {\n",
       "        text-align: right;\n",
       "    }\n",
       "</style>\n",
       "<table border=\"1\" class=\"dataframe\">\n",
       "  <thead>\n",
       "    <tr style=\"text-align: right;\">\n",
       "      <th></th>\n",
       "      <th>ID</th>\n",
       "      <th>LIMIT_BAL</th>\n",
       "      <th>SEX</th>\n",
       "      <th>EDUCATION</th>\n",
       "      <th>MARRIAGE</th>\n",
       "      <th>AGE</th>\n",
       "      <th>PAY_0</th>\n",
       "      <th>PAY_2</th>\n",
       "      <th>PAY_3</th>\n",
       "      <th>PAY_4</th>\n",
       "      <th>PAY_5</th>\n",
       "      <th>PAY_6</th>\n",
       "      <th>BILL_AMT1</th>\n",
       "      <th>BILL_AMT2</th>\n",
       "      <th>BILL_AMT3</th>\n",
       "      <th>BILL_AMT4</th>\n",
       "      <th>BILL_AMT5</th>\n",
       "      <th>BILL_AMT6</th>\n",
       "      <th>PAY_AMT1</th>\n",
       "      <th>PAY_AMT2</th>\n",
       "      <th>PAY_AMT3</th>\n",
       "      <th>PAY_AMT4</th>\n",
       "      <th>PAY_AMT5</th>\n",
       "      <th>PAY_AMT6</th>\n",
       "      <th>default.payment.next.month</th>\n",
       "    </tr>\n",
       "  </thead>\n",
       "  <tbody>\n",
       "    <tr>\n",
       "      <th>count</th>\n",
       "      <td>30000.000000</td>\n",
       "      <td>30000.000000</td>\n",
       "      <td>30000.000000</td>\n",
       "      <td>30000.000000</td>\n",
       "      <td>30000.000000</td>\n",
       "      <td>30000.000000</td>\n",
       "      <td>30000.000000</td>\n",
       "      <td>30000.000000</td>\n",
       "      <td>30000.000000</td>\n",
       "      <td>30000.000000</td>\n",
       "      <td>30000.000000</td>\n",
       "      <td>30000.000000</td>\n",
       "      <td>30000.000000</td>\n",
       "      <td>30000.000000</td>\n",
       "      <td>3.000000e+04</td>\n",
       "      <td>30000.000000</td>\n",
       "      <td>30000.000000</td>\n",
       "      <td>30000.000000</td>\n",
       "      <td>30000.000000</td>\n",
       "      <td>3.000000e+04</td>\n",
       "      <td>30000.00000</td>\n",
       "      <td>30000.000000</td>\n",
       "      <td>30000.000000</td>\n",
       "      <td>30000.000000</td>\n",
       "      <td>30000.000000</td>\n",
       "    </tr>\n",
       "    <tr>\n",
       "      <th>mean</th>\n",
       "      <td>15000.500000</td>\n",
       "      <td>167484.322667</td>\n",
       "      <td>1.603733</td>\n",
       "      <td>1.853133</td>\n",
       "      <td>1.551867</td>\n",
       "      <td>35.485500</td>\n",
       "      <td>-0.016700</td>\n",
       "      <td>-0.133767</td>\n",
       "      <td>-0.166200</td>\n",
       "      <td>-0.220667</td>\n",
       "      <td>-0.266200</td>\n",
       "      <td>-0.291100</td>\n",
       "      <td>51223.330900</td>\n",
       "      <td>49179.075167</td>\n",
       "      <td>4.701315e+04</td>\n",
       "      <td>43262.948967</td>\n",
       "      <td>40311.400967</td>\n",
       "      <td>38871.760400</td>\n",
       "      <td>5663.580500</td>\n",
       "      <td>5.921163e+03</td>\n",
       "      <td>5225.68150</td>\n",
       "      <td>4826.076867</td>\n",
       "      <td>4799.387633</td>\n",
       "      <td>5215.502567</td>\n",
       "      <td>0.221200</td>\n",
       "    </tr>\n",
       "    <tr>\n",
       "      <th>std</th>\n",
       "      <td>8660.398374</td>\n",
       "      <td>129747.661567</td>\n",
       "      <td>0.489129</td>\n",
       "      <td>0.790349</td>\n",
       "      <td>0.521970</td>\n",
       "      <td>9.217904</td>\n",
       "      <td>1.123802</td>\n",
       "      <td>1.197186</td>\n",
       "      <td>1.196868</td>\n",
       "      <td>1.169139</td>\n",
       "      <td>1.133187</td>\n",
       "      <td>1.149988</td>\n",
       "      <td>73635.860576</td>\n",
       "      <td>71173.768783</td>\n",
       "      <td>6.934939e+04</td>\n",
       "      <td>64332.856134</td>\n",
       "      <td>60797.155770</td>\n",
       "      <td>59554.107537</td>\n",
       "      <td>16563.280354</td>\n",
       "      <td>2.304087e+04</td>\n",
       "      <td>17606.96147</td>\n",
       "      <td>15666.159744</td>\n",
       "      <td>15278.305679</td>\n",
       "      <td>17777.465775</td>\n",
       "      <td>0.415062</td>\n",
       "    </tr>\n",
       "    <tr>\n",
       "      <th>min</th>\n",
       "      <td>1.000000</td>\n",
       "      <td>10000.000000</td>\n",
       "      <td>1.000000</td>\n",
       "      <td>0.000000</td>\n",
       "      <td>0.000000</td>\n",
       "      <td>21.000000</td>\n",
       "      <td>-2.000000</td>\n",
       "      <td>-2.000000</td>\n",
       "      <td>-2.000000</td>\n",
       "      <td>-2.000000</td>\n",
       "      <td>-2.000000</td>\n",
       "      <td>-2.000000</td>\n",
       "      <td>-165580.000000</td>\n",
       "      <td>-69777.000000</td>\n",
       "      <td>-1.572640e+05</td>\n",
       "      <td>-170000.000000</td>\n",
       "      <td>-81334.000000</td>\n",
       "      <td>-339603.000000</td>\n",
       "      <td>0.000000</td>\n",
       "      <td>0.000000e+00</td>\n",
       "      <td>0.00000</td>\n",
       "      <td>0.000000</td>\n",
       "      <td>0.000000</td>\n",
       "      <td>0.000000</td>\n",
       "      <td>0.000000</td>\n",
       "    </tr>\n",
       "    <tr>\n",
       "      <th>25%</th>\n",
       "      <td>7500.750000</td>\n",
       "      <td>50000.000000</td>\n",
       "      <td>1.000000</td>\n",
       "      <td>1.000000</td>\n",
       "      <td>1.000000</td>\n",
       "      <td>28.000000</td>\n",
       "      <td>-1.000000</td>\n",
       "      <td>-1.000000</td>\n",
       "      <td>-1.000000</td>\n",
       "      <td>-1.000000</td>\n",
       "      <td>-1.000000</td>\n",
       "      <td>-1.000000</td>\n",
       "      <td>3558.750000</td>\n",
       "      <td>2984.750000</td>\n",
       "      <td>2.666250e+03</td>\n",
       "      <td>2326.750000</td>\n",
       "      <td>1763.000000</td>\n",
       "      <td>1256.000000</td>\n",
       "      <td>1000.000000</td>\n",
       "      <td>8.330000e+02</td>\n",
       "      <td>390.00000</td>\n",
       "      <td>296.000000</td>\n",
       "      <td>252.500000</td>\n",
       "      <td>117.750000</td>\n",
       "      <td>0.000000</td>\n",
       "    </tr>\n",
       "    <tr>\n",
       "      <th>50%</th>\n",
       "      <td>15000.500000</td>\n",
       "      <td>140000.000000</td>\n",
       "      <td>2.000000</td>\n",
       "      <td>2.000000</td>\n",
       "      <td>2.000000</td>\n",
       "      <td>34.000000</td>\n",
       "      <td>0.000000</td>\n",
       "      <td>0.000000</td>\n",
       "      <td>0.000000</td>\n",
       "      <td>0.000000</td>\n",
       "      <td>0.000000</td>\n",
       "      <td>0.000000</td>\n",
       "      <td>22381.500000</td>\n",
       "      <td>21200.000000</td>\n",
       "      <td>2.008850e+04</td>\n",
       "      <td>19052.000000</td>\n",
       "      <td>18104.500000</td>\n",
       "      <td>17071.000000</td>\n",
       "      <td>2100.000000</td>\n",
       "      <td>2.009000e+03</td>\n",
       "      <td>1800.00000</td>\n",
       "      <td>1500.000000</td>\n",
       "      <td>1500.000000</td>\n",
       "      <td>1500.000000</td>\n",
       "      <td>0.000000</td>\n",
       "    </tr>\n",
       "    <tr>\n",
       "      <th>75%</th>\n",
       "      <td>22500.250000</td>\n",
       "      <td>240000.000000</td>\n",
       "      <td>2.000000</td>\n",
       "      <td>2.000000</td>\n",
       "      <td>2.000000</td>\n",
       "      <td>41.000000</td>\n",
       "      <td>0.000000</td>\n",
       "      <td>0.000000</td>\n",
       "      <td>0.000000</td>\n",
       "      <td>0.000000</td>\n",
       "      <td>0.000000</td>\n",
       "      <td>0.000000</td>\n",
       "      <td>67091.000000</td>\n",
       "      <td>64006.250000</td>\n",
       "      <td>6.016475e+04</td>\n",
       "      <td>54506.000000</td>\n",
       "      <td>50190.500000</td>\n",
       "      <td>49198.250000</td>\n",
       "      <td>5006.000000</td>\n",
       "      <td>5.000000e+03</td>\n",
       "      <td>4505.00000</td>\n",
       "      <td>4013.250000</td>\n",
       "      <td>4031.500000</td>\n",
       "      <td>4000.000000</td>\n",
       "      <td>0.000000</td>\n",
       "    </tr>\n",
       "    <tr>\n",
       "      <th>max</th>\n",
       "      <td>30000.000000</td>\n",
       "      <td>1000000.000000</td>\n",
       "      <td>2.000000</td>\n",
       "      <td>6.000000</td>\n",
       "      <td>3.000000</td>\n",
       "      <td>79.000000</td>\n",
       "      <td>8.000000</td>\n",
       "      <td>8.000000</td>\n",
       "      <td>8.000000</td>\n",
       "      <td>8.000000</td>\n",
       "      <td>8.000000</td>\n",
       "      <td>8.000000</td>\n",
       "      <td>964511.000000</td>\n",
       "      <td>983931.000000</td>\n",
       "      <td>1.664089e+06</td>\n",
       "      <td>891586.000000</td>\n",
       "      <td>927171.000000</td>\n",
       "      <td>961664.000000</td>\n",
       "      <td>873552.000000</td>\n",
       "      <td>1.684259e+06</td>\n",
       "      <td>896040.00000</td>\n",
       "      <td>621000.000000</td>\n",
       "      <td>426529.000000</td>\n",
       "      <td>528666.000000</td>\n",
       "      <td>1.000000</td>\n",
       "    </tr>\n",
       "  </tbody>\n",
       "</table>\n",
       "</div>"
      ],
      "text/plain": [
       "                 ID       LIMIT_BAL           SEX  ...       PAY_AMT5       PAY_AMT6  default.payment.next.month\n",
       "count  30000.000000    30000.000000  30000.000000  ...   30000.000000   30000.000000                30000.000000\n",
       "mean   15000.500000   167484.322667      1.603733  ...    4799.387633    5215.502567                    0.221200\n",
       "std     8660.398374   129747.661567      0.489129  ...   15278.305679   17777.465775                    0.415062\n",
       "min        1.000000    10000.000000      1.000000  ...       0.000000       0.000000                    0.000000\n",
       "25%     7500.750000    50000.000000      1.000000  ...     252.500000     117.750000                    0.000000\n",
       "50%    15000.500000   140000.000000      2.000000  ...    1500.000000    1500.000000                    0.000000\n",
       "75%    22500.250000   240000.000000      2.000000  ...    4031.500000    4000.000000                    0.000000\n",
       "max    30000.000000  1000000.000000      2.000000  ...  426529.000000  528666.000000                    1.000000\n",
       "\n",
       "[8 rows x 25 columns]"
      ]
     },
     "execution_count": 8,
     "metadata": {},
     "output_type": "execute_result"
    }
   ],
   "source": [
    "import pandas as pd\n",
    "from sklearn.model_selection import GridSearchCV, learning_curve, train_test_split\n",
    "from sklearn.preprocessing import StandardScaler\n",
    "from sklearn.pipeline import Pipeline\n",
    "from sklearn.metrics import accuracy_score\n",
    "from sklearn.svm import SVC\n",
    "from sklearn.tree import DecisionTreeClassifier\n",
    "from sklearn.ensemble import RandomForestClassifier\n",
    "from sklearn.neighbors import KNeighborsClassifier\n",
    "from matplotlib import pyplot as plt\n",
    "import seaborn as sns\n",
    "\n",
    "# 数据加载\n",
    "data = pd.read_csv('./credit_default-master/UCI_Credit_Card.csv')\n",
    "data.shape\n",
    "data.describe()"
   ]
  },
  {
   "cell_type": "code",
   "execution_count": 9,
   "id": "4812d2c3",
   "metadata": {},
   "outputs": [
    {
     "data": {
      "text/plain": [
       "0    23364\n",
       "1     6636\n",
       "Name: default.payment.next.month, dtype: int64"
      ]
     },
     "execution_count": 9,
     "metadata": {},
     "output_type": "execute_result"
    }
   ],
   "source": [
    "# 查看下一个月违约率情况\n",
    "next_month = data['default.payment.next.month'].value_counts()\n",
    "next_month"
   ]
  },
  {
   "cell_type": "code",
   "execution_count": 13,
   "id": "c0cb1c6b",
   "metadata": {},
   "outputs": [
    {
     "data": {
      "image/png": "[encoded data removed]",
      "text/plain": [
       "<Figure size 432x432 with 1 Axes>"
      ]
     },
     "metadata": {
      "needs_background": "light"
     },
     "output_type": "display_data"
    }
   ],
   "source": [
    "df = pd.DataFrame({'default.payment.next.month': next_month.index, 'values':next_month.values})\n",
    "plt.rcParams['font.sans-serif']=['SimHei'] #用来正常显示中文标签\n",
    "plt.figure(figsize = (6,6))\n",
    "plt.title('信用卡违约率客户\\n (违约：1，守约：0)')\n",
    "sns.set_color_codes(\"pastel\")\n",
    "sns.barplot(x = 'default.payment.next.month', y=\"values\", data=df)\n",
    "locs, labels = plt.xticks()\n",
    "plt.show()"
   ]
  },
  {
   "cell_type": "code",
   "execution_count": 15,
   "id": "f1e3ac1e",
   "metadata": {},
   "outputs": [],
   "source": [
    "# 特征选择，去掉ID字段、最后一个结果字段即可\n",
    "data.drop('ID', inplace=True, axis=1)\n",
    "target = data['default.payment.next.month'].values\n",
    "columns = data.columns.to_list()\n",
    "columns.remove('default.payment.next.month')\n",
    "features = data[columns]\n",
    "\n",
    "# 30%的数据作为测试集\n",
    "train_x, test_x, train_y, test_y = train_test_split(features, target, test_size=0.3)"
   ]
  },
  {
   "cell_type": "code",
   "execution_count": 16,
   "id": "89ba3f92",
   "metadata": {},
   "outputs": [
    {
     "name": "stdout",
     "output_type": "stream",
     "text": [
      "GridSearch最优参数： {'svc__C': 1, 'svc__gamma': 0.01}\n",
      "GridSearch最优分数： 0.8182\n",
      "准确率 0.8168\n",
      "GridSearch最优参数： {'decisiontreeclassifier__max_depth': 6}\n",
      "GridSearch最优分数： 0.8170\n",
      "准确率 0.8136\n",
      "GridSearch最优参数： {'randomforestclassifier__n_estimators': 6}\n",
      "GridSearch最优分数： 0.8009\n",
      "准确率 0.7964\n",
      "GridSearch最优参数： {'kneighborsclassifier__n_neighbors': 8}\n",
      "GridSearch最优分数： 0.8079\n",
      "准确率 0.8018\n"
     ]
    }
   ],
   "source": [
    "# 构造各种分类器\n",
    "classifiers = [\n",
    "    SVC(random_state=1, kernel='rbf'),\n",
    "    DecisionTreeClassifier(random_state=1, criterion='gini'),\n",
    "    RandomForestClassifier(random_state=1, criterion='gini'),\n",
    "    KNeighborsClassifier(metric='minkowski')\n",
    "]\n",
    "\n",
    "# 分类器名称\n",
    "classifier_names = [ 'svc', \n",
    "                    'decisiontreeclassifier', \n",
    "                    'randomforestclassifier', \n",
    "                    'kneighborsclassifier'\n",
    "                   ]\n",
    "\n",
    "# 分类器参数\n",
    "classifier_param_grid = [ {'svc__C':[1], \n",
    "                           'svc__gamma':[0.01]}, \n",
    "                         {'decisiontreeclassifier__max_depth':[6,9,11]}, \n",
    "                         {'randomforestclassifier__n_estimators':[3,5,6]} , \n",
    "                         {'kneighborsclassifier__n_neighbors':[4,6,8]}\n",
    "                        ]\n",
    "\n",
    "\n",
    "# 对具体的分类器进行GridSearchCV参数调优\n",
    "def GridSearchCV_work(pipeline, train_x, train_y, test_x, test_y, param_grid, score = 'accuracy'): \n",
    "    response = {} \n",
    "    gridsearch = GridSearchCV(estimator = pipeline, param_grid = param_grid, scoring = score) \n",
    "    \n",
    "    # 寻找最优的参数 和最优的准确率分数 \n",
    "    search = gridsearch.fit(train_x, train_y) \n",
    "    print(\"GridSearch最优参数：\", search.best_params_) \n",
    "    print(\"GridSearch最优分数： %0.4lf\" %search.best_score_) \n",
    "    predict_y = gridsearch.predict(test_x) \n",
    "    print(\"准确率 %0.4lf\" %accuracy_score(test_y, predict_y)) \n",
    "    response['predict_y'] = predict_y \n",
    "    response['accuracy_score'] = accuracy_score(test_y,predict_y) \n",
    "    \n",
    "    return response\n",
    "\n",
    "for model, model_name, model_param_grid in zip(classifiers, classifier_names, classifier_param_grid):\n",
    "    pipeline = Pipeline([ ('scaler', StandardScaler()), \n",
    "                         (model_name, model) ]) \n",
    "    result = GridSearchCV_work(pipeline, train_x, train_y, test_x, test_y, model_param_grid , score = 'accuracy')"
   ]
  },
  {
   "cell_type": "code",
   "execution_count": null,
   "id": "01f93844",
   "metadata": {},
   "outputs": [],
   "source": []
  }
 ],
 "metadata": {
  "kernelspec": {
   "display_name": "Python 3 (ipykernel)",
   "language": "python",
   "name": "python3"
  },
  "language_info": {
   "codemirror_mode": {
    "name": "ipython",
    "version": 3
   },
   "file_extension": ".py",
   "mimetype": "text/x-python",
   "name": "python",
   "nbconvert_exporter": "python",
   "pygments_lexer": "ipython3",
   "version": "3.9.6"
  },
  "toc": {
   "base_numbering": 1,
   "nav_menu": {},
   "number_sections": false,
   "sideBar": true,
   "skip_h1_title": false,
   "title_cell": "Table of Contents",
   "title_sidebar": "Contents",
   "toc_cell": false,
   "toc_position": {},
   "toc_section_display": true,
   "toc_window_display": false
  }
 },
 "nbformat": 4,
 "nbformat_minor": 5
}
