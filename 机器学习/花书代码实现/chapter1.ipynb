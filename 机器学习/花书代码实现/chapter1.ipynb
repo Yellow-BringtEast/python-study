{
 "cells": [
  {
   "cell_type": "code",
   "execution_count": 1,
   "metadata": {
    "collapsed": true
   },
   "outputs": [],
   "source": [
    "import numpy as np"
   ]
  },
  {
   "cell_type": "code",
   "execution_count": 7,
   "outputs": [
    {
     "name": "stdout",
     "output_type": "stream",
     "text": [
      "标量： 5\n",
      "向量： [1 2]\n",
      "矩阵：\n",
      " [[1 2]\n",
      " [3 4]]\n",
      "张量：\n",
      " [[[ 1  2  3]\n",
      "  [ 4  5  6]\n",
      "  [ 7  8  9]]\n",
      "\n",
      " [[11 12 13]\n",
      "  [14 15 16]\n",
      "  [17 18 19]]\n",
      "\n",
      " [[21 22 23]\n",
      "  [24 25 26]\n",
      "  [27 28 29]]]\n"
     ]
    }
   ],
   "source": [
    "# 标量\n",
    "s = 5\n",
    "\n",
    "# 向量\n",
    "v = np.array([1, 2])\n",
    "\n",
    "# 矩阵\n",
    "m = np.array([[1, 2], [3, 4]])\n",
    "\n",
    "# 张量\n",
    "t = np.array(\n",
    "    [\n",
    "      [[1, 2, 3], [4, 5, 6], [7, 8, 9]],\n",
    "      [[11, 12, 13], [14, 15, 16], [17, 18,19]],\n",
    "      [[21, 22, 23], [24, 25, 26], [27, 28,29]]\n",
    "    ]\n",
    ")\n",
    "\n",
    "print('标量：', s)\n",
    "print('向量：', v)\n",
    "print('矩阵：\\n', m)\n",
    "print('张量：\\n', t)"
   ],
   "metadata": {
    "collapsed": false
   }
  },
  {
   "cell_type": "code",
   "execution_count": 10,
   "outputs": [
    {
     "name": "stdout",
     "output_type": "stream",
     "text": [
      "A:\n",
      " [[1. 2.]\n",
      " [1. 0.]\n",
      " [2. 3.]]\n",
      "A的转置:\n",
      " [[1. 1. 2.]\n",
      " [2. 0. 3.]]\n"
     ]
    }
   ],
   "source": [
    "# 矩阵转置\n",
    "A = np.array([[1.0, 2.0], [1.0, 0.0], [2.0, 3.0]])\n",
    "A_t = A.T\n",
    "print('A:\\n', A)\n",
    "print('A的转置:\\n', A_t)"
   ],
   "metadata": {
    "collapsed": false
   }
  },
  {
   "cell_type": "code",
   "execution_count": 12,
   "outputs": [
    {
     "name": "stdout",
     "output_type": "stream",
     "text": [
      "矩阵相加：\n",
      " [[ 7.  9.]\n",
      " [11. 13.]]\n"
     ]
    }
   ],
   "source": [
    "# 矩阵加法\n",
    "a = np.array([[1.0, 2.0], [3.0, 4.0]])\n",
    "b = np.array([[6.0, 7.0], [8.0, 9.0]])\n",
    "print('矩阵相加：\\n', a + b)"
   ],
   "metadata": {
    "collapsed": false
   }
  },
  {
   "cell_type": "code",
   "execution_count": 13,
   "outputs": [
    {
     "name": "stdout",
     "output_type": "stream",
     "text": [
      "按矩阵乘法规则：\n",
      " [[16.  2.]\n",
      " [ 1.  2.]]\n",
      "按逐元素相乘：\n",
      " [[1. 6.]\n",
      " [5. 0.]]\n",
      "按逐元素相乘：\n",
      " [[1. 6.]\n",
      " [5. 0.]]\n",
      "向量内积： 14.0\n"
     ]
    }
   ],
   "source": [
    "# 矩阵乘法\n",
    "m1 = np.array([[1.0, 3.0], [1.0, 0.0]])\n",
    "m2 = np.array([[1.0, 2.0], [5.0, 0.0]])\n",
    "\n",
    "print('按矩阵乘法规则：\\n', np.dot(m1, m2))\n",
    "print('按逐元素相乘：\\n', np.multiply(m1, m2))\n",
    "print('按逐元素相乘：\\n', m1 * m2)\n",
    "\n",
    "v1 = np.array([1.0, 2.0])\n",
    "v2 = np.array([4.0, 5.0])\n",
    "\n",
    "print('向量内积：', np.dot(v1, v2))"
   ],
   "metadata": {
    "collapsed": false
   }
  },
  {
   "cell_type": "code",
   "execution_count": 14,
   "outputs": [
    {
     "data": {
      "text/plain": "array([[1., 0., 0.],\n       [0., 1., 0.],\n       [0., 0., 1.]])"
     },
     "execution_count": 14,
     "metadata": {},
     "output_type": "execute_result"
    }
   ],
   "source": [
    "# 单位矩阵\n",
    "np.identity(3)"
   ],
   "metadata": {
    "collapsed": false
   }
  },
  {
   "cell_type": "code",
   "execution_count": 15,
   "outputs": [
    {
     "name": "stdout",
     "output_type": "stream",
     "text": [
      "A 的逆矩阵\n",
      " [[-2.   1. ]\n",
      " [ 1.5 -0.5]]\n"
     ]
    }
   ],
   "source": [
    "# 矩阵的逆\n",
    "A = [[1.0, 2.0], [3.0, 4.0]]\n",
    "A_inv = np.linalg.inv(A)\n",
    "print('A 的逆矩阵\\n', A_inv)"
   ],
   "metadata": {
    "collapsed": false
   }
  },
  {
   "cell_type": "code",
   "execution_count": 16,
   "outputs": [
    {
     "name": "stdout",
     "output_type": "stream",
     "text": [
      "向量 L2 范数： 3.1622776601683795\n",
      "向量 L1 范数： 4.0\n",
      "向量无穷范数： 3.0\n"
     ]
    }
   ],
   "source": [
    "# 范数\n",
    "a = np.array([1.0, 3.0])\n",
    "print('向量 L2 范数：', np.linalg.norm(a, ord=2))\n",
    "print('向量 L1 范数：', np.linalg.norm(a, ord=1))\n",
    "print('向量无穷范数：', np.linalg.norm(a, ord=np.inf))"
   ],
   "metadata": {
    "collapsed": false
   }
  },
  {
   "cell_type": "code",
   "execution_count": 17,
   "outputs": [
    {
     "name": "stdout",
     "output_type": "stream",
     "text": [
      "矩阵 F 范数 3.872983346207417\n"
     ]
    }
   ],
   "source": [
    "a = np.array([[1.0,3.0],[2.0,1.0]])\n",
    "print(\"矩阵 F 范数\", np.linalg.norm(a, ord=\"fro\"))"
   ],
   "metadata": {
    "collapsed": false
   }
  },
  {
   "cell_type": "code",
   "execution_count": 22,
   "outputs": [
    {
     "name": "stdout",
     "output_type": "stream",
     "text": [
      "特征值： [ 1.61168440e+01 -1.11684397e+00 -1.30367773e-15]\n",
      "特征值： [ 1.61168440e+01 -1.11684397e+00 -1.30367773e-15]\n",
      "特征向量：\n",
      " [[-0.23197069 -0.78583024  0.40824829]\n",
      " [-0.52532209 -0.08675134 -0.81649658]\n",
      " [-0.8186735   0.61232756  0.40824829]]\n",
      "A：\n",
      " [[1. 2. 3.]\n",
      " [4. 5. 6.]\n",
      " [7. 8. 9.]]\n"
     ]
    }
   ],
   "source": [
    "# 特征值分解\n",
    "A = np.array([\n",
    "    [1.0, 2.0, 3.0],\n",
    "    [4.0, 5.0, 6.0],\n",
    "    [7.0, 8.0, 9.0]\n",
    "])\n",
    "\n",
    "# 计算特征值\n",
    "print('特征值：', np.linalg.eigvals(A))\n",
    "\n",
    "# 计算特征向量和特征值\n",
    "eigvals, eigvectors = np.linalg.eig(A)\n",
    "print('特征值：', eigvals)\n",
    "print('特征向量：\\n', eigvectors)\n",
    "\n",
    "print('A：\\n', eigvectors.dot(np.diag(eigvals)).dot(np.linalg.inv(eigvectors)))"
   ],
   "metadata": {
    "collapsed": false
   }
  },
  {
   "cell_type": "code",
   "execution_count": 26,
   "outputs": [
    {
     "name": "stdout",
     "output_type": "stream",
     "text": [
      "U:\n",
      " [[-0.3863177  -0.92236578]\n",
      " [-0.92236578  0.3863177 ]]\n",
      "D:\n",
      " [9.508032   0.77286964]\n",
      "V:\n",
      " [[-0.42866713 -0.56630692 -0.7039467 ]\n",
      " [ 0.80596391  0.11238241 -0.58119908]\n",
      " [ 0.40824829 -0.81649658  0.40824829]]\n"
     ]
    }
   ],
   "source": [
    "# 奇异值分解\n",
    "A = np.array(\n",
    "    [\n",
    "        [1.0, 2.0, 3.0],\n",
    "        [4.0, 5.0, 6.0]\n",
    "    ]\n",
    ")\n",
    "\n",
    "U, D, V = np.linalg.svd(A)\n",
    "\n",
    "print(\"U:\\n\", U)\n",
    "print(\"D:\\n\", D)\n",
    "print(\"V:\\n\", V)"
   ],
   "metadata": {
    "collapsed": false
   }
  },
  {
   "cell_type": "code",
   "execution_count": 2,
   "outputs": [],
   "source": [
    "# pca - 主成分分析\n",
    "import pandas as pd\n",
    "import numpy as np\n",
    "from sklearn.datasets import load_iris\n",
    "import matplotlib.pyplot as plt\n",
    "from sklearn.preprocessing import StandardScaler\n",
    "\n",
    "%matplotlib inline"
   ],
   "metadata": {
    "collapsed": false
   }
  },
  {
   "cell_type": "code",
   "execution_count": 3,
   "outputs": [
    {
     "data": {
      "text/plain": "0    50\n1    50\n2    50\nName: label, dtype: int64"
     },
     "execution_count": 3,
     "metadata": {},
     "output_type": "execute_result"
    }
   ],
   "source": [
    "# 载入数据\n",
    "iris = load_iris()\n",
    "df = pd.DataFrame(iris.data, columns=iris.feature_names)\n",
    "df['label'] = iris.target\n",
    "df.columns = ['sepal length', 'sepal width', 'petal length', 'petal width', 'label']\n",
    "df.label.value_counts()"
   ],
   "metadata": {
    "collapsed": false
   }
  },
  {
   "cell_type": "code",
   "execution_count": 4,
   "outputs": [
    {
     "data": {
      "text/plain": "     sepal length  sepal width  petal length  petal width  label\n145           6.7          3.0           5.2          2.3      2\n146           6.3          2.5           5.0          1.9      2\n147           6.5          3.0           5.2          2.0      2\n148           6.2          3.4           5.4          2.3      2\n149           5.9          3.0           5.1          1.8      2",
      "text/html": "<div>\n<style scoped>\n    .dataframe tbody tr th:only-of-type {\n        vertical-align: middle;\n    }\n\n    .dataframe tbody tr th {\n        vertical-align: top;\n    }\n\n    .dataframe thead th {\n        text-align: right;\n    }\n</style>\n<table border=\"1\" class=\"dataframe\">\n  <thead>\n    <tr style=\"text-align: right;\">\n      <th></th>\n      <th>sepal length</th>\n      <th>sepal width</th>\n      <th>petal length</th>\n      <th>petal width</th>\n      <th>label</th>\n    </tr>\n  </thead>\n  <tbody>\n    <tr>\n      <th>145</th>\n      <td>6.7</td>\n      <td>3.0</td>\n      <td>5.2</td>\n      <td>2.3</td>\n      <td>2</td>\n    </tr>\n    <tr>\n      <th>146</th>\n      <td>6.3</td>\n      <td>2.5</td>\n      <td>5.0</td>\n      <td>1.9</td>\n      <td>2</td>\n    </tr>\n    <tr>\n      <th>147</th>\n      <td>6.5</td>\n      <td>3.0</td>\n      <td>5.2</td>\n      <td>2.0</td>\n      <td>2</td>\n    </tr>\n    <tr>\n      <th>148</th>\n      <td>6.2</td>\n      <td>3.4</td>\n      <td>5.4</td>\n      <td>2.3</td>\n      <td>2</td>\n    </tr>\n    <tr>\n      <th>149</th>\n      <td>5.9</td>\n      <td>3.0</td>\n      <td>5.1</td>\n      <td>1.8</td>\n      <td>2</td>\n    </tr>\n  </tbody>\n</table>\n</div>"
     },
     "execution_count": 4,
     "metadata": {},
     "output_type": "execute_result"
    }
   ],
   "source": [
    "# 查看数据\n",
    "df.tail()"
   ],
   "metadata": {
    "collapsed": false
   }
  },
  {
   "cell_type": "code",
   "execution_count": 5,
   "outputs": [
    {
     "name": "stdout",
     "output_type": "stream",
     "text": [
      "查看第一个数据： \n",
      " sepal length    5.1\n",
      "sepal width     3.5\n",
      "petal length    1.4\n",
      "petal width     0.2\n",
      "Name: 0, dtype: float64\n",
      "查看第一个标签: \n",
      " 0\n"
     ]
    }
   ],
   "source": [
    "# 查看数据\n",
    "X = df.iloc[:, 0:4]\n",
    "y = df.iloc[:, 4]\n",
    "print(\"查看第一个数据： \\n\", X.iloc[0, 0:4])\n",
    "print(\"查看第一个标签: \\n\", y.iloc[0])"
   ],
   "metadata": {
    "collapsed": false
   }
  },
  {
   "cell_type": "code",
   "execution_count": 7,
   "outputs": [],
   "source": [
    "class PCA:\n",
    "    def fit(self, X, n_components):\n",
    "        n_samples = np.shape(X)[0]\n",
    "\n",
    "        # 中心化后的协方差矩阵\n",
    "        covariance_matrix = (1 / (n_samples - 1) * (X - X.mean(axis=0))).T.dot(X - X.mean(axis=0))\n",
    "\n",
    "        # 对协方差矩阵进行特征分解\n",
    "        eigenvalues, eigenvectors = np.linalg.eig(covariance_matrix)\n",
    "\n",
    "        # 对特征值和特征向量从大到小排序\n",
    "        idx = eigenvalues.argsort()[::-1]\n",
    "        eigenvalues = eigenvalues[idx][:n_components]\n",
    "        eigenvectors = np.atleast_1d(eigenvectors[:, idx])[:, :n_components]\n",
    "\n",
    "        # 得到低维表示\n",
    "        X_transformed = X.dot(eigenvectors)\n",
    "        return X_transformed"
   ],
   "metadata": {
    "collapsed": false
   }
  },
  {
   "cell_type": "code",
   "execution_count": 10,
   "outputs": [],
   "source": [
    "model = PCA()\n",
    "Y = model.fit(X, 2)"
   ],
   "metadata": {
    "collapsed": false
   }
  },
  {
   "cell_type": "code",
   "execution_count": 12,
   "outputs": [
    {
     "data": {
      "text/plain": "<Figure size 500x500 with 1 Axes>",
      "image/png": "[encoded data removed]"
     },
     "metadata": {},
     "output_type": "display_data"
    }
   ],
   "source": [
    "principal_df = pd.DataFrame(np.array(Y), columns=['principal component 1', 'principal component 2'])\n",
    "df = pd.concat([principal_df, y], axis=1)\n",
    "fig = plt.figure(figsize=(5, 5))\n",
    "ax = fig.add_subplot(1, 1, 1)\n",
    "ax.set_xlabel('Principal Component 1', fontsize=15)\n",
    "ax.set_ylabel('Principal Component 2', fontsize=15)\n",
    "ax.set_title('2 component PCA', fontsize=20)\n",
    "\n",
    "targets = [0, 1, 2]\n",
    "colors = ['r', 'g', 'b']\n",
    "for target, color in zip(targets, colors):\n",
    "    indices_to_keep = df['label'] == target\n",
    "    ax.scatter(df.loc[indices_to_keep, 'principal component 1'],\n",
    "               df.loc[indices_to_keep, 'principal component 2'],\n",
    "               c=color,\n",
    "               s=50)\n",
    "\n",
    "ax.legend(targets)\n",
    "ax.grid()"
   ],
   "metadata": {
    "collapsed": false
   }
  },
  {
   "cell_type": "code",
   "execution_count": 8,
   "outputs": [
    {
     "data": {
      "text/plain": "<Figure size 500x500 with 1 Axes>",
      "image/png": "[encoded data removed]"
     },
     "metadata": {},
     "output_type": "display_data"
    }
   ],
   "source": [
    "# 使用sklearn包实现PCA\n",
    "from sklearn.decomposition import PCA as SK_PCA\n",
    "sk_pac = SK_PCA(n_components=2)\n",
    "Y = sk_pac.fit_transform(X)\n",
    "\n",
    "principal_df = pd.DataFrame(data=np.array(Y), columns=['principal component 1', 'principal component 2'])\n",
    "df = pd.concat([principal_df, y], axis=1)\n",
    "fig = plt.figure(figsize=(5, 5))\n",
    "ax = fig.add_subplot(1, 1, 1)\n",
    "ax.set_xlabel('Principal Component 1', fontsize=15)\n",
    "ax.set_ylabel('Principal Component 2', fontsize=15)\n",
    "ax.set_title('2 component PCA', fontsize=20)\n",
    "\n",
    "targets = [0, 1, 2]\n",
    "colors = ['r', 'g', 'b']\n",
    "for target, color in zip(targets, colors):\n",
    "    indices_to_keep = df['label'] == target\n",
    "    ax.scatter(df.loc[indices_to_keep, 'principal component 1'],\n",
    "               df.loc[indices_to_keep, 'principal component 2'],\n",
    "               c=color,\n",
    "               s=50)\n",
    "\n",
    "ax.legend(targets)\n",
    "ax.grid()"
   ],
   "metadata": {
    "collapsed": false
   }
  },
  {
   "cell_type": "code",
   "execution_count": null,
   "outputs": [],
   "source": [],
   "metadata": {
    "collapsed": false
   }
  }
 ],
 "metadata": {
  "kernelspec": {
   "display_name": "Python 3",
   "language": "python",
   "name": "python3"
  },
  "language_info": {
   "codemirror_mode": {
    "name": "ipython",
    "version": 2
   },
   "file_extension": ".py",
   "mimetype": "text/x-python",
   "name": "python",
   "nbconvert_exporter": "python",
   "pygments_lexer": "ipython2",
   "version": "2.7.6"
  }
 },
 "nbformat": 4,
 "nbformat_minor": 0
}
