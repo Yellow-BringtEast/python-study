{
 "cells": [
  {
   "cell_type": "code",
   "execution_count": 1,
   "metadata": {
    "collapsed": true
   },
   "outputs": [],
   "source": [
    "import numpy as np"
   ]
  },
  {
   "cell_type": "code",
   "execution_count": 7,
   "outputs": [
    {
     "name": "stdout",
     "output_type": "stream",
     "text": [
      "标量： 5\n",
      "向量： [1 2]\n",
      "矩阵：\n",
      " [[1 2]\n",
      " [3 4]]\n",
      "张量：\n",
      " [[[ 1  2  3]\n",
      "  [ 4  5  6]\n",
      "  [ 7  8  9]]\n",
      "\n",
      " [[11 12 13]\n",
      "  [14 15 16]\n",
      "  [17 18 19]]\n",
      "\n",
      " [[21 22 23]\n",
      "  [24 25 26]\n",
      "  [27 28 29]]]\n"
     ]
    }
   ],
   "source": [
    "# 标量\n",
    "s = 5\n",
    "\n",
    "# 向量\n",
    "v = np.array([1, 2])\n",
    "\n",
    "# 矩阵\n",
    "m = np.array([[1, 2], [3, 4]])\n",
    "\n",
    "# 张量\n",
    "t = np.array(\n",
    "    [\n",
    "      [[1, 2, 3], [4, 5, 6], [7, 8, 9]],\n",
    "      [[11, 12, 13], [14, 15, 16], [17, 18,19]],\n",
    "      [[21, 22, 23], [24, 25, 26], [27, 28,29]]\n",
    "    ]\n",
    ")\n",
    "\n",
    "print('标量：', s)\n",
    "print('向量：', v)\n",
    "print('矩阵：\\n', m)\n",
    "print('张量：\\n', t)"
   ],
   "metadata": {
    "collapsed": false
   }
  },
  {
   "cell_type": "code",
   "execution_count": 10,
   "outputs": [
    {
     "name": "stdout",
     "output_type": "stream",
     "text": [
      "A:\n",
      " [[1. 2.]\n",
      " [1. 0.]\n",
      " [2. 3.]]\n",
      "A的转置:\n",
      " [[1. 1. 2.]\n",
      " [2. 0. 3.]]\n"
     ]
    }
   ],
   "source": [
    "# 矩阵转置\n",
    "A = np.array([[1.0, 2.0], [1.0, 0.0], [2.0, 3.0]])\n",
    "A_t = A.T\n",
    "print('A:\\n', A)\n",
    "print('A的转置:\\n', A_t)"
   ],
   "metadata": {
    "collapsed": false
   }
  },
  {
   "cell_type": "code",
   "execution_count": 12,
   "outputs": [
    {
     "name": "stdout",
     "output_type": "stream",
     "text": [
      "矩阵相加：\n",
      " [[ 7.  9.]\n",
      " [11. 13.]]\n"
     ]
    }
   ],
   "source": [
    "# 矩阵加法\n",
    "a = np.array([[1.0, 2.0], [3.0, 4.0]])\n",
    "b = np.array([[6.0, 7.0], [8.0, 9.0]])\n",
    "print('矩阵相加：\\n', a + b)"
   ],
   "metadata": {
    "collapsed": false
   }
  },
  {
   "cell_type": "code",
   "execution_count": 13,
   "outputs": [
    {
     "name": "stdout",
     "output_type": "stream",
     "text": [
      "按矩阵乘法规则：\n",
      " [[16.  2.]\n",
      " [ 1.  2.]]\n",
      "按逐元素相乘：\n",
      " [[1. 6.]\n",
      " [5. 0.]]\n",
      "按逐元素相乘：\n",
      " [[1. 6.]\n",
      " [5. 0.]]\n",
      "向量内积： 14.0\n"
     ]
    }
   ],
   "source": [
    "# 矩阵乘法\n",
    "m1 = np.array([[1.0, 3.0], [1.0, 0.0]])\n",
    "m2 = np.array([[1.0, 2.0], [5.0, 0.0]])\n",
    "\n",
    "print('按矩阵乘法规则：\\n', np.dot(m1, m2))\n",
    "print('按逐元素相乘：\\n', np.multiply(m1, m2))\n",
    "print('按逐元素相乘：\\n', m1 * m2)\n",
    "\n",
    "v1 = np.array([1.0, 2.0])\n",
    "v2 = np.array([4.0, 5.0])\n",
    "\n",
    "print('向量内积：', np.dot(v1, v2))"
   ],
   "metadata": {
    "collapsed": false
   }
  },
  {
   "cell_type": "code",
   "execution_count": 14,
   "outputs": [
    {
     "data": {
      "text/plain": "array([[1., 0., 0.],\n       [0., 1., 0.],\n       [0., 0., 1.]])"
     },
     "execution_count": 14,
     "metadata": {},
     "output_type": "execute_result"
    }
   ],
   "source": [
    "# 单位矩阵\n",
    "np.identity(3)"
   ],
   "metadata": {
    "collapsed": false
   }
  },
  {
   "cell_type": "code",
   "execution_count": 15,
   "outputs": [
    {
     "name": "stdout",
     "output_type": "stream",
     "text": [
      "A 的逆矩阵\n",
      " [[-2.   1. ]\n",
      " [ 1.5 -0.5]]\n"
     ]
    }
   ],
   "source": [
    "# 矩阵的逆\n",
    "A = [[1.0, 2.0], [3.0, 4.0]]\n",
    "A_inv = np.linalg.inv(A)\n",
    "print('A 的逆矩阵\\n', A_inv)"
   ],
   "metadata": {
    "collapsed": false
   }
  },
  {
   "cell_type": "code",
   "execution_count": 16,
   "outputs": [
    {
     "name": "stdout",
     "output_type": "stream",
     "text": [
      "向量 L2 范数： 3.1622776601683795\n",
      "向量 L1 范数： 4.0\n",
      "向量无穷范数： 3.0\n"
     ]
    }
   ],
   "source": [
    "# 范数\n",
    "a = np.array([1.0, 3.0])\n",
    "print('向量 L2 范数：', np.linalg.norm(a, ord=2))\n",
    "print('向量 L1 范数：', np.linalg.norm(a, ord=1))\n",
    "print('向量无穷范数：', np.linalg.norm(a, ord=np.inf))"
   ],
   "metadata": {
    "collapsed": false
   }
  },
  {
   "cell_type": "code",
   "execution_count": 17,
   "outputs": [
    {
     "name": "stdout",
     "output_type": "stream",
     "text": [
      "矩阵 F 范数 3.872983346207417\n"
     ]
    }
   ],
   "source": [
    "a = np.array([[1.0,3.0],[2.0,1.0]])\n",
    "print(\"矩阵 F 范数\", np.linalg.norm(a, ord=\"fro\"))"
   ],
   "metadata": {
    "collapsed": false
   }
  },
  {
   "cell_type": "code",
   "execution_count": 22,
   "outputs": [
    {
     "name": "stdout",
     "output_type": "stream",
     "text": [
      "特征值： [ 1.61168440e+01 -1.11684397e+00 -1.30367773e-15]\n",
      "特征值： [ 1.61168440e+01 -1.11684397e+00 -1.30367773e-15]\n",
      "特征向量：\n",
      " [[-0.23197069 -0.78583024  0.40824829]\n",
      " [-0.52532209 -0.08675134 -0.81649658]\n",
      " [-0.8186735   0.61232756  0.40824829]]\n",
      "A：\n",
      " [[1. 2. 3.]\n",
      " [4. 5. 6.]\n",
      " [7. 8. 9.]]\n"
     ]
    }
   ],
   "source": [
    "# 特征值分解\n",
    "A = np.array([\n",
    "    [1.0, 2.0, 3.0],\n",
    "    [4.0, 5.0, 6.0],\n",
    "    [7.0, 8.0, 9.0]\n",
    "])\n",
    "\n",
    "# 计算特征值\n",
    "print('特征值：', np.linalg.eigvals(A))\n",
    "\n",
    "# 计算特征向量和特征值\n",
    "eigvals, eigvectors = np.linalg.eig(A)\n",
    "print('特征值：', eigvals)\n",
    "print('特征向量：\\n', eigvectors)\n",
    "\n",
    "print('A：\\n', eigvectors.dot(np.diag(eigvals)).dot(np.linalg.inv(eigvectors)))"
   ],
   "metadata": {
    "collapsed": false
   }
  },
  {
   "cell_type": "code",
   "execution_count": 26,
   "outputs": [
    {
     "name": "stdout",
     "output_type": "stream",
     "text": [
      "U:\n",
      " [[-0.3863177  -0.92236578]\n",
      " [-0.92236578  0.3863177 ]]\n",
      "D:\n",
      " [9.508032   0.77286964]\n",
      "V:\n",
      " [[-0.42866713 -0.56630692 -0.7039467 ]\n",
      " [ 0.80596391  0.11238241 -0.58119908]\n",
      " [ 0.40824829 -0.81649658  0.40824829]]\n"
     ]
    }
   ],
   "source": [
    "# 奇异值分解\n",
    "A = np.array(\n",
    "    [\n",
    "        [1.0, 2.0, 3.0],\n",
    "        [4.0, 5.0, 6.0]\n",
    "    ]\n",
    ")\n",
    "\n",
    "U, D, V = np.linalg.svd(A)\n",
    "\n",
    "print(\"U:\\n\", U)\n",
    "print(\"D:\\n\", D)\n",
    "print(\"V:\\n\", V)"
   ],
   "metadata": {
    "collapsed": false
   }
  },
  {
   "cell_type": "code",
   "execution_count": null,
   "outputs": [],
   "source": [],
   "metadata": {
    "collapsed": false
   }
  }
 ],
 "metadata": {
  "kernelspec": {
   "display_name": "Python 3",
   "language": "python",
   "name": "python3"
  },
  "language_info": {
   "codemirror_mode": {
    "name": "ipython",
    "version": 2
   },
   "file_extension": ".py",
   "mimetype": "text/x-python",
   "name": "python",
   "nbconvert_exporter": "python",
   "pygments_lexer": "ipython2",
   "version": "2.7.6"
  }
 },
 "nbformat": 4,
 "nbformat_minor": 0
}
