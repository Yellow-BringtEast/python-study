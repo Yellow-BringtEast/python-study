{
 "cells": [
  {
   "cell_type": "code",
   "execution_count": 1,
   "metadata": {
    "collapsed": true
   },
   "outputs": [
    {
     "name": "stdout",
     "output_type": "stream",
     "text": [
      "上溢： [nan nan nan nan]\n",
      "上溢处理： [0. 1. 0. 0.]\n"
     ]
    },
    {
     "name": "stderr",
     "output_type": "stream",
     "text": [
      "C:\\Users\\Administrator\\AppData\\Local\\Temp\\ipykernel_22908\\869959622.py:6: RuntimeWarning: overflow encountered in exp\n",
      "  y = np.exp(x) / sum(np.exp(x))\n",
      "C:\\Users\\Administrator\\AppData\\Local\\Temp\\ipykernel_22908\\869959622.py:6: RuntimeWarning: invalid value encountered in divide\n",
      "  y = np.exp(x) / sum(np.exp(x))\n"
     ]
    }
   ],
   "source": [
    "# 上溢和下溢\n",
    "import numpy as np\n",
    "import numpy.linalg as la\n",
    "\n",
    "x = np.array([1e7, 1e8, 2e5, 2e7])\n",
    "y = np.exp(x) / sum(np.exp(x))\n",
    "print('上溢：', y)\n",
    "\n",
    "x = x - np.max(x)\n",
    "y = np.exp(x) / sum(np.exp(x))\n",
    "print('上溢处理：', y)"
   ]
  },
  {
   "cell_type": "code",
   "execution_count": 2,
   "outputs": [
    {
     "name": "stdout",
     "output_type": "stream",
     "text": [
      "下溢： [nan nan nan nan]\n",
      "下溢处理： [0. 1. 0. 0.]\n",
      "log softmax(x): [-inf   0. -inf -inf]\n",
      "logsoftmax(x): [-9.0e+09  0.0e+00 -1.9e+10 -9.0e+09]\n"
     ]
    },
    {
     "name": "stderr",
     "output_type": "stream",
     "text": [
      "C:\\Users\\Administrator\\AppData\\Local\\Temp\\ipykernel_20836\\3473826395.py:2: RuntimeWarning: invalid value encountered in divide\n",
      "  y = np.exp(x)/sum(np.exp(x))\n",
      "C:\\Users\\Administrator\\AppData\\Local\\Temp\\ipykernel_20836\\3473826395.py:8: RuntimeWarning: divide by zero encountered in log\n",
      "  print(\"log softmax(x):\", np.log(y))\n"
     ]
    }
   ],
   "source": [
    "x = np.array([-1e10, -1e9, -2e10, -1e10])\n",
    "y = np.exp(x)/sum(np.exp(x))\n",
    "print(\"下溢：\", y)\n",
    "\n",
    "x = x - np.max(x) # 减去最大值\n",
    "y = np.exp(x)/sum(np.exp(x))\n",
    "print(\"下溢处理：\", y)\n",
    "print(\"log softmax(x):\", np.log(y))\n",
    "\n",
    "# 对 log softmax 下溢的处理：\n",
    "def logsoftmax(x):\n",
    "    y = x - np.log(sum(np.exp(x)))\n",
    "    return y\n",
    "print(\"logsoftmax(x):\", logsoftmax(x))"
   ],
   "metadata": {
    "collapsed": false
   }
  },
  {
   "cell_type": "code",
   "execution_count": 2,
   "outputs": [
    {
     "data": {
      "text/plain": "array([27.82277014, 15.34731055,  2.83848939])"
     },
     "execution_count": 2,
     "metadata": {},
     "output_type": "execute_result"
    }
   ],
   "source": [
    "# 梯度下降法 - 线性最小二乘\n",
    "x0 = np.array([1.0, 1.0, 1.0])\n",
    "A = np.array([[1.0, -2.0, 1.0], [0.0, 2.0, -8.0], [-4.0, 5.0, 9.0]])\n",
    "b = np.array([0.0, 8.0, -9.0])\n",
    "epsilon = 0.001\n",
    "delta = 1e-3\n",
    "\n",
    "# 给定 A，b，真正的解 x 为 [29, 16, 3]\n",
    "def matmul_chain(*args):\n",
    "    if len(args) == 0: return np.nan\n",
    "    result = args[0]\n",
    "    for x in args[1:]:\n",
    "        result = result@x\n",
    "    return result\n",
    "\n",
    "def gradient_decent(x, A, b, epsilon, delta):\n",
    "    while la.norm(matmul_chain(A.T, A, x)-matmul_chain(A.T, b)) > delta:\n",
    "        x -= epsilon*(matmul_chain(A.T, A, x)-matmul_chain(A.T, b))\n",
    "    return x\n",
    "\n",
    "gradient_decent(x0, A, b, epsilon, delta)"
   ],
   "metadata": {
    "collapsed": false
   }
  },
  {
   "cell_type": "code",
   "execution_count": 3,
   "outputs": [
    {
     "data": {
      "text/plain": "array([29., 16.,  3.])"
     },
     "execution_count": 3,
     "metadata": {},
     "output_type": "execute_result"
    }
   ],
   "source": [
    "# 牛顿法\n",
    "def newton(x, A, b, delta):\n",
    "    x = matmul_chain(np.linalg.inv(matmul_chain(A.T, A)), A.T, b)\n",
    "    return x\n",
    "\n",
    "newton(x0, A, b, delta)"
   ],
   "metadata": {
    "collapsed": false
   }
  },
  {
   "cell_type": "code",
   "execution_count": 4,
   "outputs": [
    {
     "data": {
      "text/plain": "array([ 0.23637902,  0.05135858, -0.94463626])"
     },
     "execution_count": 4,
     "metadata": {},
     "output_type": "execute_result"
    }
   ],
   "source": [
    "# 约束优化\n",
    "def constrain_opti(x, A, b, delta):\n",
    "    k = len(x)\n",
    "    lamb = 0\n",
    "    while np.abs(np.dot(x.T, x)-1) > 5e-2: # delta 设为 5e-2，最优设为 0\n",
    "        x = matmul_chain(np.linalg.inv(matmul_chain(A.T, A)+2*lamb*np.identity(k)), A.T, b)\n",
    "        lamb += np.dot(x.T, x)-1\n",
    "    return x\n",
    "\n",
    "constrain_opti(x0, A, b, delta)"
   ],
   "metadata": {
    "collapsed": false
   }
  }
 ],
 "metadata": {
  "kernelspec": {
   "display_name": "Python 3",
   "language": "python",
   "name": "python3"
  },
  "language_info": {
   "codemirror_mode": {
    "name": "ipython",
    "version": 2
   },
   "file_extension": ".py",
   "mimetype": "text/x-python",
   "name": "python",
   "nbconvert_exporter": "python",
   "pygments_lexer": "ipython2",
   "version": "2.7.6"
  }
 },
 "nbformat": 4,
 "nbformat_minor": 0
}
