{
 "cells": [
  {
   "cell_type": "code",
   "execution_count": 4,
   "metadata": {
    "collapsed": true
   },
   "outputs": [
    {
     "name": "stdout",
     "output_type": "stream",
     "text": [
      "Weight:[array([1.49333333]), array([0.04966667])]\n"
     ]
    },
    {
     "data": {
      "text/plain": "<Figure size 400x400 with 1 Axes>",
      "image/png": "[encoded data removed]"
     },
     "metadata": {},
     "output_type": "display_data"
    }
   ],
   "source": [
    "import numpy as np\n",
    "import math\n",
    "import matplotlib.pyplot as plt\n",
    "\n",
    "X = np.hstack((np.array([[-0.5,-0.45,-0.35,-0.35,-0.1,0,0.2,0.25,0.3,0.5]]).reshape(-1, 1), np.ones((10,1))*1))\n",
    "y = np.array([-0.2,0.1,-1.25,-1.2,0,0.5,-0.1,0.2,0.5,1.2]).reshape(-1,1)\n",
    "\n",
    "# 用公式求权重\n",
    "w = np.linalg.inv(X.T.dot(X)).dot(X.T).dot(y)\n",
    "hat_y = X.dot(w)\n",
    "print(\"Weight:{}\".format(list(w)))\n",
    "\n",
    "x = np.linspace(-1, 1, 50)\n",
    "hat_y = x * w[0] + w[1]\n",
    "\n",
    "plt.figure(figsize=(4,4))\n",
    "plt.xlim(-1.0, 1.0)\n",
    "plt.xticks(np.linspace(-1.0, 1.0, 5))\n",
    "plt.ylim(-3, 3)\n",
    "plt.plot(x, hat_y, color='red')\n",
    "plt.scatter(X[:,0], y[:,0], color='black')\n",
    "plt.xlabel('$x_1$')\n",
    "plt.ylabel('$y$')\n",
    "plt.title('$Linear Regression$')\n",
    "plt.show()"
   ]
  },
  {
   "cell_type": "code",
   "execution_count": 3,
   "outputs": [],
   "source": [
    "def KFoldCV(D, A, k):\n",
    "    \"\"\"\n",
    "    k-fold 交叉验证\n",
    "    :param D: 给定的数据集\n",
    "    :param A: 学习函数\n",
    "    :param k: 折数\n",
    "    :return:\n",
    "    \"\"\"\n",
    "    np.random.shuffle(D)\n",
    "    dataset = np.split(D, k)\n",
    "    acc_rate = 0\n",
    "\n",
    "    for i in range(k):\n",
    "        train_set = dataset.copy()\n",
    "        test_set = train_set.pop(i)\n",
    "        train_set = np.vstack(train_set)\n",
    "\n",
    "        A.train(train_set[:,:-1], train_set[:,-1]) # 每次的训练集\n",
    "        labels = A.fit(test_set[:,:-1]) # 每次的测试集\n",
    "        acc_rate += np.mean(labels==test_set[:,-1]) # 计算平均误差\n",
    "\n",
    "    return acc_rate/k"
   ],
   "metadata": {
    "collapsed": false
   }
  },
  {
   "cell_type": "code",
   "execution_count": 19,
   "outputs": [],
   "source": [
    "# 朴素贝叶斯\n",
    "class NaiveBayes:\n",
    "    def __init__(self):\n",
    "        self.parameters = [] # 保存每个特征针对每个类的均值和方差\n",
    "        self.y = None\n",
    "        self.classes = None\n",
    "\n",
    "    def fit(self, X, y):\n",
    "        self.y = y\n",
    "        self.classes = np.unique(y) # 类别\n",
    "\n",
    "        # 计算每个特征针对每个类的均值和方差\n",
    "        for i, c in enumerate(self.classes):\n",
    "            # 选择类别为 c 的 X\n",
    "            X_where_c = X[np.where(self.y == c)]\n",
    "            self.parameters.append([])\n",
    "            # 添加均值与方差\n",
    "            for col in X_where_c.T:\n",
    "                parameters = {\"mean\": col.mean(), \"var\": col.var()}\n",
    "                self.parameters[i].append(parameters)\n",
    "\n",
    "    def _calculate_prior(self, c):\n",
    "        \"\"\"先验函数\"\"\"\n",
    "        frequency = np.mean(self.y == c)\n",
    "        return frequency\n",
    "\n",
    "    def _calculate_likelihood(self, mean, var, X):\n",
    "        \"\"\"似然函数\"\"\"\n",
    "        # 高斯概率\n",
    "        eps = 1e-4 # 防止除数为 0\n",
    "        coeff = 1.0 / math.sqrt(2.0 * math.pi * var + eps)\n",
    "        exponent = math.exp(-(math.pow(X - mean, 2) / (2 * var + eps)))\n",
    "        return coeff * exponent\n",
    "\n",
    "    def _calculate_probabilities(self, X):\n",
    "        posteriors = []\n",
    "        for i, c in enumerate(self.classes):\n",
    "            posterior = self._calculate_prior(c)\n",
    "\n",
    "            for feature_value, params in zip(X, self.parameters[i]):\n",
    "                # 独立性假设\n",
    "                # P(x1,x2|Y) = P(x1|Y)*P(x2|Y)\n",
    "                likelihood = self._calculate_likelihood(params[\"mean\"], params[\"var\"], feature_value)\n",
    "                posterior *= likelihood\n",
    "\n",
    "            posteriors.append(posterior)\n",
    "        # 返回具有最大后验概率的类别\n",
    "        return self.classes[np.argmax(posteriors)]\n",
    "\n",
    "    def predict(self, X):\n",
    "        y_pred = [self._calculate_probabilities(sample) for sample in X]\n",
    "        return y_pred\n",
    "\n",
    "    def score(self, X, y):\n",
    "        y_pred = self.predict(X)\n",
    "        accuracy = np.sum(y == y_pred, axis=0) / len(y)\n",
    "        return accuracy"
   ],
   "metadata": {
    "collapsed": false
   }
  },
  {
   "cell_type": "code",
   "execution_count": 20,
   "outputs": [
    {
     "name": "stdout",
     "output_type": "stream",
     "text": [
      "[4.8 3.  1.4 0.3] 0.0\n"
     ]
    }
   ],
   "source": [
    "import pandas as pd\n",
    "from sklearn.datasets import load_iris\n",
    "from sklearn.model_selection import train_test_split\n",
    "\n",
    "def create_data():\n",
    "    iris = load_iris()\n",
    "    df = pd.DataFrame(iris.data, columns=iris.feature_names)\n",
    "    df['label'] = iris.target\n",
    "    df.columns = ['sepal length', 'sepal width', 'petal length', 'petal width', 'label']\n",
    "    data = np.array(df.iloc[:100, :])\n",
    "\n",
    "    return data[:,:-1], data[:,-1]\n",
    "\n",
    "X, y = create_data()\n",
    "X_train, X_test, y_train, y_test = train_test_split(X, y, test_size=0.3)\n",
    "print(X_train[0], y_train[0])"
   ],
   "metadata": {
    "collapsed": false
   }
  },
  {
   "cell_type": "code",
   "execution_count": 21,
   "outputs": [
    {
     "name": "stdout",
     "output_type": "stream",
     "text": [
      "1.0\n"
     ]
    }
   ],
   "source": [
    "model = NaiveBayes()\n",
    "model.fit(X_train, y_train)\n",
    "print(model.score(X_test, y_test))"
   ],
   "metadata": {
    "collapsed": false
   }
  },
  {
   "cell_type": "code",
   "execution_count": 22,
   "outputs": [
    {
     "name": "stdout",
     "output_type": "stream",
     "text": [
      "1.0\n"
     ]
    }
   ],
   "source": [
    "# 从 sklearn 包中调用 GaussianNB 实现贝叶斯估计\n",
    "from sklearn.naive_bayes import GaussianNB\n",
    "\n",
    "skl_model = GaussianNB()\n",
    "skl_model.fit(X_train, y_train)\n",
    "\n",
    "print(skl_model.score(X_test, y_test))"
   ],
   "metadata": {
    "collapsed": false
   }
  },
  {
   "cell_type": "code",
   "execution_count": null,
   "outputs": [],
   "source": [],
   "metadata": {
    "collapsed": false
   }
  }
 ],
 "metadata": {
  "kernelspec": {
   "display_name": "Python 3",
   "language": "python",
   "name": "python3"
  },
  "language_info": {
   "codemirror_mode": {
    "name": "ipython",
    "version": 2
   },
   "file_extension": ".py",
   "mimetype": "text/x-python",
   "name": "python",
   "nbconvert_exporter": "python",
   "pygments_lexer": "ipython2",
   "version": "2.7.6"
  }
 },
 "nbformat": 4,
 "nbformat_minor": 0
}
